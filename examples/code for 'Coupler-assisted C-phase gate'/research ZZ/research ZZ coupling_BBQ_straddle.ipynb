{
 "cells": [
  {
   "cell_type": "code",
   "execution_count": 1,
   "metadata": {},
   "outputs": [],
   "source": [
    "import sys\n",
    "import numpy as np\n",
    "import time\n",
    "import matplotlib.pyplot as plt\n",
    "sys.path.append(r'C:\\Chuji\\Code_and_Data\\MyCode')\n",
    "\n",
    "import Circuit_Simulator \n",
    "import PulseGenerator as PG\n",
    "from toolfunc import *\n",
    "from toolfunc import adia_analysis"
   ]
  },
  {
   "cell_type": "markdown",
   "metadata": {},
   "source": [
    "## large detuning, BAQ "
   ]
  },
  {
   "cell_type": "code",
   "execution_count": 55,
   "metadata": {},
   "outputs": [
    {
     "name": "stdout",
     "output_type": "stream",
     "text": [
      "{'Q1_freq': '7000.0MHz', 'Q1_anhar': '-125.0MHz', 'Q2_freq': '2000.0MHz', 'Q2_anhar': '-50.0MHz', 'Q3_freq': '6780.0MHz', 'Q3_anhar': '-125.0MHz', 'g12': '112.2497MHz', 'g13': '-27.5565MHz', 'g23': '110.4717MHz'}\n"
     ]
    }
   ],
   "source": [
    "raw_config = Circuit_Simulator.RawConfig(qubit_num=3,dimension=3,circuit_type=1,initial_state='ground',sampling_rate=1e9)\n",
    "raw_config.load_default_value(modulation=True,decoherence=False,use_capacitance=False)\n",
    "\n",
    "flux_pulse = np.linspace(7/8,1/8,10000)\n",
    "# flux_pulse = np.linspace(8/9,0/9,6000)\n",
    "freq_arr = 9e9 -flux_pulse * (9e9 - 1e9)\n",
    "\n",
    "raw_config.setValue('Q1 f01_max',7.00e9)\n",
    "raw_config.setValue('Q2 f01_max',9e9)\n",
    "raw_config.setValue('Q3 f01_max',6.78e9)\n",
    "raw_config.setValue('Q1 f01_min',1e9)\n",
    "raw_config.setValue('Q2 f01_min',1e9)\n",
    "raw_config.setValue('Q3 f01_min',1e9)\n",
    "raw_config.setValue('Q1 Ec',0.25e9)\n",
    "raw_config.setValue('Q2 Ec',0.1e9)\n",
    "raw_config.setValue('Q3 Ec',0.25e9)\n",
    "\n",
    "raw_config.setValue('r12',0.03)\n",
    "raw_config.setValue('r23',0.03)\n",
    "raw_config.setValue('r13',-0.004)\n",
    "\n",
    "raw_config.setValue('Q2 Voltage period',-1)\n",
    "raw_config.setValue('Q2 Voltage operating point',0)\n",
    "raw_config.setValue('Q2 Flux',flux_pulse)\n",
    "\n",
    "# raw_config.setValue('Uniform XY LO',True)\n",
    "# raw_config.setValue('XY LO Freq',5.94e9)\n",
    "\n",
    "simu_config = Circuit_Simulator.read_config(raw_config.get_dict())\n",
    "Simulator = Circuit_Simulator.Simulator(simu_config)\n",
    "Simulator.show_pulse()"
   ]
  },
  {
   "cell_type": "code",
   "execution_count": 56,
   "metadata": {},
   "outputs": [],
   "source": [
    "Simulator.performsimulation(solver_type=2,resample_factor=1,eigen_cloest_to_bare=False,sort_by_maximum_overlap=True,gap=4e6)"
   ]
  },
  {
   "cell_type": "code",
   "execution_count": 57,
   "metadata": {},
   "outputs": [],
   "source": [
    "Simulator.EigenResult.show_eigenenergy()"
   ]
  },
  {
   "cell_type": "code",
   "execution_count": 5,
   "metadata": {},
   "outputs": [],
   "source": [
    "%matplotlib qt"
   ]
  },
  {
   "cell_type": "code",
   "execution_count": 58,
   "metadata": {},
   "outputs": [],
   "source": [
    "eigen_trace = Simulator.EigenResult.get_Ener_gap_trace('101-100-001+000')\n",
    "fig = plt.figure(figsize=[6.4,6])\n",
    "ax = fig.add_subplot(111)\n",
    "\n",
    "# ax.plot(freq_array/1e9,eigen_trace/1e6)\n",
    "# ax.set_yscale('log')\n",
    "\n",
    "\n",
    "ax.plot(freq_arr/1e9,np.abs(eigen_trace)/1e6,linewidth=2)\n",
    "ax.set_yscale('log')\n",
    "\n",
    "ZZ_m04=eigen_trace"
   ]
  },
  {
   "cell_type": "code",
   "execution_count": 30,
   "metadata": {},
   "outputs": [],
   "source": [
    "%matplotlib inline"
   ]
  },
  {
   "cell_type": "code",
   "execution_count": 59,
   "metadata": {},
   "outputs": [],
   "source": [
    "Eigen101=Simulator.EigenResult.eigen_ener[:,10]/1e9\n",
    "Eigen011=Simulator.EigenResult.eigen_ener[:,4]/1e9\n",
    "Eigen110=Simulator.EigenResult.eigen_ener[:,12]/1e9\n",
    "Eigen200=Simulator.EigenResult.eigen_ener[:,18]/1e9\n",
    "Eigen020=Simulator.EigenResult.eigen_ener[:,6]/1e9\n",
    "Eigen002=Simulator.EigenResult.eigen_ener[:,2]/1e9\n",
    "Eigen001=Simulator.EigenResult.eigen_ener[:,1]/1e9\n",
    "Eigen010=Simulator.EigenResult.eigen_ener[:,3]/1e9\n",
    "Eigen100=Simulator.EigenResult.eigen_ener[:,9]/1e9"
   ]
  },
  {
   "cell_type": "code",
   "execution_count": 64,
   "metadata": {},
   "outputs": [],
   "source": [
    "fig=plt.figure(figsize=[7.6,10])\n",
    "# ax = fig.add_subplot(111)\n",
    "ax = fig.add_axes([0.1,0.40,0.8,0.52])\n",
    "ax2 = fig.add_axes([0.1,0.06,0.8,0.34])\n",
    "start=0\n",
    "stop=-1\n",
    "\n",
    "lw=3\n",
    "ax.plot(freq_arr[start:stop]/1e9,Eigen001[::1][start:stop],label='001',linewidth=lw,c='tab:brown')\n",
    "ax.plot(freq_arr[start:stop]/1e9,Eigen010[::1][start:stop],label='010',linewidth=lw,c='tab:pink')\n",
    "ax.plot(freq_arr[start:stop]/1e9,Eigen100[::1][start:stop],label='100',linewidth=lw,c='tab:green')\n",
    "\n",
    "ax.plot(freq_arr[start:stop]/1e9,Eigen011[::1][start:stop],label='011',linewidth=lw,c='tab:gray')\n",
    "ax.plot(freq_arr[start:stop]/1e9,Eigen101[::1][start:stop],label='101',linewidth=lw,c='tab:red')\n",
    "ax.plot(freq_arr[start:stop]/1e9,Eigen110[::1][start:stop],label='110',linewidth=lw,c='tab:blue')\n",
    "ax.plot(freq_arr[start:stop]/1e9,Eigen002[::1][start:stop],label='002',linewidth=lw,c='tab:cyan')\n",
    "ax.plot(freq_arr[start:stop]/1e9,Eigen020[::1][start:stop],label='020',linewidth=lw,c='tab:orange')\n",
    "ax.plot(freq_arr[start:stop]/1e9,Eigen200[::1][start:stop],label='200',linewidth=lw,c='tab:olive')\n",
    "\n",
    "\n",
    "ax2.plot(freq_arr/1e9,np.abs(ZZ_m04)/1e6,'-',linewidth=2.5,c='tab:red')\n",
    "\n",
    "\n",
    "ax.set_xlim([2,8])\n",
    "ax.set_ylim(4,16)\n",
    "# ax2.set_xlim([freq_arr[start]/1e9,freq_arr[stop-1]/1e9])\n",
    "ax2.set_xlim([2,8])\n",
    "ax2.set_yscale('log')\n",
    "\n",
    "\n",
    "ax.tick_params(axis='x',which='both',bottom=True,top=True,labelbottom=False,direction='in' )\n",
    "ax2.tick_params(axis='x',which='both',bottom=True,top=True,labelbottom=True,direction='in' )\n",
    "ax.tick_params(axis='y',which='both',left=True,right=True,direction='in' )\n",
    "ax2.tick_params(axis='y',which='both',left=True,right=True,direction='in' )\n",
    "\n",
    "ax.tick_params(labelsize=16)\n",
    "ax2.tick_params(labelsize=16)"
   ]
  },
  {
   "cell_type": "code",
   "execution_count": 48,
   "metadata": {},
   "outputs": [],
   "source": [
    "%matplotlib inline"
   ]
  },
  {
   "cell_type": "code",
   "execution_count": 124,
   "metadata": {},
   "outputs": [
    {
     "data": {
      "text/plain": [
       "5800000000.0"
      ]
     },
     "execution_count": 124,
     "metadata": {},
     "output_type": "execute_result"
    }
   ],
   "source": [
    "9e9 -3.6/9 * (9e9 - 1e9)"
   ]
  },
  {
   "cell_type": "code",
   "execution_count": 50,
   "metadata": {},
   "outputs": [
    {
     "name": "stdout",
     "output_type": "stream",
     "text": [
      "-0.0015\n",
      "-0.0014\n",
      "-0.0013\n",
      "-0.0012000000000000001\n",
      "-0.0011\n",
      "-0.001\n",
      "-0.0009\n",
      "-0.0008\n",
      "-0.0007\n",
      "-0.0006\n",
      "-0.0005\n",
      "-0.00039999999999999996\n",
      "-0.0002999999999999999\n",
      "-0.00019999999999999987\n",
      "-0.00010000000000000005\n",
      "0.0\n",
      "0.00010000000000000005\n",
      "0.0002000000000000001\n",
      "0.00030000000000000014\n",
      "0.00039999999999999996\n",
      "0.0005\n",
      "0.0006000000000000003\n",
      "0.0007000000000000001\n",
      "0.0007999999999999999\n",
      "0.0009000000000000002\n",
      "0.001\n",
      "0.0011000000000000003\n",
      "0.0012000000000000001\n",
      "0.0013\n",
      "0.0014000000000000002\n",
      "0.0015\n"
     ]
    }
   ],
   "source": [
    "ZZ_TRACE=[]\n",
    "r_arr = np.linspace(-0.0015,0.0015,31)\n",
    "for r13 in r_arr:\n",
    "    raw_config = Circuit_Simulator.RawConfig(qubit_num=3,dimension=3,circuit_type=1,initial_state='ground',sampling_rate=1e9)\n",
    "    raw_config.load_default_value(modulation=True,decoherence=False,use_capacitance=False)\n",
    "\n",
    "    flux_pulse = np.linspace(1,0.4,1000)\n",
    "    freq_array = 9e9 -flux_pulse * (9e9 - 1e9)\n",
    "\n",
    "    raw_config.setValue('Q1 f01_max',6.00e9)\n",
    "    raw_config.setValue('Q2 f01_max',9e9)\n",
    "    raw_config.setValue('Q3 f01_max',5.85e9)\n",
    "    raw_config.setValue('Q1 f01_min',1e9)\n",
    "    raw_config.setValue('Q2 f01_min',1e9)\n",
    "    raw_config.setValue('Q3 f01_min',1e9)\n",
    "    raw_config.setValue('Q1 Ec',0.25e9)\n",
    "    raw_config.setValue('Q2 Ec',0.3e9)\n",
    "    raw_config.setValue('Q3 Ec',0.25e9)\n",
    "\n",
    "    raw_config.setValue('r12',0.018)\n",
    "    raw_config.setValue('r23',0.018)\n",
    "    raw_config.setValue('r13',r13)\n",
    "\n",
    "    raw_config.setValue('Q2 Voltage period',-1)\n",
    "    raw_config.setValue('Q2 Voltage operating point',0.00)\n",
    "    raw_config.setValue('Q2 Flux',flux_pulse)\n",
    "\n",
    "    simu_config = Circuit_Simulator.read_config(raw_config.get_dict())\n",
    "    Simulator = Circuit_Simulator.Simulator(simu_config)\n",
    "    Simulator.performsimulation(solver_type=2,resample_factor=1,eigen_cloest_to_bare=False,sort_by_maximum_overlap=True,gap=10e6)\n",
    "    eigen_trace = Simulator.EigenResult.get_Ener_gap_trace('101-100-001+000')\n",
    "    print(r13)\n",
    "    ZZ_TRACE.append(eigen_trace)"
   ]
  },
  {
   "cell_type": "code",
   "execution_count": 53,
   "metadata": {},
   "outputs": [],
   "source": [
    "# freq_array"
   ]
  },
  {
   "cell_type": "code",
   "execution_count": 68,
   "metadata": {},
   "outputs": [],
   "source": [
    "from matplotlib import cm\n",
    "from matplotlib import *\n",
    "\n",
    "fig = plt.figure(figsize=[8,7.2])\n",
    "ax = fig.add_axes([0.1,0.1,0.78,0.76])\n",
    "ax_colorbar = fig.add_axes([0.9,0.1,0.02,0.76])\n",
    "X,Y = np.meshgrid(freq_array/1e9,r_arr*1000)\n",
    "im = ax.pcolor(X,Y,np.abs(ZZ_TRACE)/1e6,cmap=cm.coolwarm,norm=colors.LogNorm(),vmin=5e-5,vmax=80)\n",
    "colarbar= plt.colorbar(im,cax=ax_colorbar)\n",
    "\n",
    "\n",
    "ax.plot(freq_array[0:900]/1e9,r12_zero_geff(6e9,5.85e9,freq_array[0:900],0.018,0.018)*1000,'k')\n",
    "\n",
    "ax.set_ylim([-1.5,1.5])\n",
    "ax.tick_params(labelsize=16)\n",
    "ax_colorbar.tick_params(labelsize=16)"
   ]
  },
  {
   "cell_type": "code",
   "execution_count": 54,
   "metadata": {},
   "outputs": [],
   "source": [
    "def r12_zero_geff(w1,w2,wc,r1c,r2c):\n",
    "    g1cg2c = np.sqrt(w1*wc)*r1c*np.sqrt(w2*wc)*r2c\n",
    "    g12 = -g1cg2c*(1/(w1-wc)+1/(w2-wc)-1/(w1+wc)-1/(w2+wc))/2\n",
    "    return g12/(np.sqrt(w1*w2))"
   ]
  },
  {
   "cell_type": "code",
   "execution_count": 55,
   "metadata": {},
   "outputs": [
    {
     "data": {
      "text/plain": [
       "0.0013357493849434148"
      ]
     },
     "execution_count": 55,
     "metadata": {},
     "output_type": "execute_result"
    }
   ],
   "source": [
    "r12_zero_geff(6e9,5.4e9,8e9,0.018,0.018)"
   ]
  },
  {
   "cell_type": "code",
   "execution_count": 57,
   "metadata": {},
   "outputs": [],
   "source": [
    "%matplotlib qt"
   ]
  },
  {
   "cell_type": "code",
   "execution_count": null,
   "metadata": {},
   "outputs": [],
   "source": []
  },
  {
   "cell_type": "code",
   "execution_count": null,
   "metadata": {},
   "outputs": [],
   "source": []
  },
  {
   "cell_type": "code",
   "execution_count": null,
   "metadata": {},
   "outputs": [],
   "source": []
  },
  {
   "cell_type": "code",
   "execution_count": null,
   "metadata": {},
   "outputs": [],
   "source": []
  },
  {
   "cell_type": "code",
   "execution_count": null,
   "metadata": {},
   "outputs": [],
   "source": []
  },
  {
   "cell_type": "code",
   "execution_count": null,
   "metadata": {},
   "outputs": [],
   "source": []
  },
  {
   "cell_type": "code",
   "execution_count": null,
   "metadata": {},
   "outputs": [],
   "source": []
  },
  {
   "cell_type": "code",
   "execution_count": null,
   "metadata": {},
   "outputs": [],
   "source": []
  },
  {
   "cell_type": "code",
   "execution_count": null,
   "metadata": {},
   "outputs": [],
   "source": []
  }
 ],
 "metadata": {
  "kernelspec": {
   "display_name": "Python 3",
   "language": "python",
   "name": "python3"
  },
  "language_info": {
   "codemirror_mode": {
    "name": "ipython",
    "version": 3
   },
   "file_extension": ".py",
   "mimetype": "text/x-python",
   "name": "python",
   "nbconvert_exporter": "python",
   "pygments_lexer": "ipython3",
   "version": "3.7.1"
  },
  "toc": {
   "base_numbering": 1,
   "nav_menu": {},
   "number_sections": true,
   "sideBar": true,
   "skip_h1_title": false,
   "title_cell": "Table of Contents",
   "title_sidebar": "Contents",
   "toc_cell": false,
   "toc_position": {},
   "toc_section_display": true,
   "toc_window_display": false
  }
 },
 "nbformat": 4,
 "nbformat_minor": 2
}
