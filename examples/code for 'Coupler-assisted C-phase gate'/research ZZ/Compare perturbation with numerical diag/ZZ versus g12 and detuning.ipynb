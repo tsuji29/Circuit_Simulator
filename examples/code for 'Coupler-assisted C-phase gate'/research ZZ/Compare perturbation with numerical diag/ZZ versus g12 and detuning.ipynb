{
 "cells": [
  {
   "cell_type": "code",
   "execution_count": 1,
   "metadata": {},
   "outputs": [],
   "source": [
    "import sys\n",
    "import numpy as np\n",
    "import time\n",
    "import matplotlib.pyplot as plt\n",
    "sys.path.append(r'C:\\Chuji\\Code_and_Data\\MyCode')\n",
    "\n",
    "import Circuit_Simulator \n",
    "import PulseGenerator as PG\n",
    "from toolfunc import *\n",
    "from toolfunc import adia_analysis"
   ]
  },
  {
   "cell_type": "code",
   "execution_count": 2,
   "metadata": {},
   "outputs": [],
   "source": [
    "raw_config = Circuit_Simulator.RawConfig(qubit_num=3,dimension=3,circuit_type=0,initial_state='ground',sampling_rate=1e9)\n",
    "raw_config.load_default_value(modulation=True,decoherence=False,use_capacitance=False)\n",
    "\n",
    "\n",
    "Z_freq = np.linspace(0,-3e9,301)\n",
    "\n",
    "raw_config.setValue('Q1 f01',6.00e9)\n",
    "raw_config.setValue('Q2 f01',9e9)\n",
    "raw_config.setValue('Q3 f01',5.4e9)\n",
    "raw_config.setValue('Q1 Anharmonicity',-250e6)\n",
    "raw_config.setValue('Q2 Anharmonicity',-300e6)\n",
    "raw_config.setValue('Q3 Anharmonicity',-250e6)\n",
    "\n",
    "raw_config.setValue('Q2 Z',Z_freq)\n",
    "\n",
    "raw_config.setValue('g12',120e6)\n",
    "raw_config.setValue('g23',100e6)\n",
    "raw_config.setValue('g13',10e6)\n",
    "\n",
    "simu_config = Circuit_Simulator.read_config(raw_config.get_dict())\n",
    "Simulator = Circuit_Simulator.Simulator(simu_config)\n",
    "Simulator.performsimulation(solver_type=2,resample_factor=1,eigen_cloest_to_bare=False,sort_by_maximum_overlap=True,gap=10e6)\n",
    "eigen_trace = Simulator.EigenResult.get_Ener_gap_trace('101-100-001+000')\n",
    "\n"
   ]
  },
  {
   "cell_type": "code",
   "execution_count": 3,
   "metadata": {},
   "outputs": [
    {
     "data": {
      "text/plain": [
       "[<matplotlib.lines.Line2D at 0x1e741cc35f8>]"
      ]
     },
     "execution_count": 3,
     "metadata": {},
     "output_type": "execute_result"
    },
    {
     "data": {
      "image/png": "[encoded data removed]",
      "text/plain": [
       "<Figure size 432x288 with 1 Axes>"
      ]
     },
     "metadata": {
      "needs_background": "light"
     },
     "output_type": "display_data"
    }
   ],
   "source": [
    "plt.plot(Z_freq,eigen_trace)"
   ]
  },
  {
   "cell_type": "code",
   "execution_count": null,
   "metadata": {},
   "outputs": [],
   "source": []
  },
  {
   "cell_type": "markdown",
   "metadata": {},
   "source": [
    "## zz suppress"
   ]
  },
  {
   "cell_type": "code",
   "execution_count": 4,
   "metadata": {},
   "outputs": [],
   "source": [
    "def g_a(g1c,g2c,f1,f2,fc):\n",
    "    delta12=f1-f2\n",
    "    delta1c=f1-fc\n",
    "    delta2c=f2-fc\n",
    "    return g1c*g2c/2*delta12/(delta1c*delta2c)\n",
    "\n",
    "def g_b(g1c,g2c,f1,f2,fc,alphac):\n",
    "    delta12=f1-f2\n",
    "    delta1c=f1-fc\n",
    "    delta2c=f2-fc\n",
    "    return g1c*g2c/2*alphac/(delta1c*delta2c)\n",
    "\n",
    "def g_eff(g12,g1c,g2c,f1,f2,fc,alphac):\n",
    "    delta12=f1-f2\n",
    "    delta1c=f1-fc\n",
    "    delta2c=f2-fc\n",
    "    epsilon1c=f1+fc\n",
    "    epsilon2c=f2+fc\n",
    "    factor = 1/delta1c+1/delta2c-1/epsilon1c-1/epsilon2c\n",
    "    return g12+g1c*g2c/2*factor\n",
    "\n",
    "def zeta(g12,g1c,g2c,f1,f2,fc,alpha1,alpha2,alphac):\n",
    "    delta12=f1-f2\n",
    "    delta1c=f1-fc\n",
    "    delta2c=f2-fc\n",
    "    geff = g_eff(g12,g1c,g2c,f1,f2,fc,alphac)\n",
    "    gb = g_b(g1c,g2c,f1,f2,fc,alphac)\n",
    "    ga = g_a(g1c,g2c,f1,f2,fc) \n",
    "    return  2/(delta12-alpha2)*(geff-ga)**2-2/(delta12+alpha1)*(geff+ga)**2+4*g1c*g2c/(delta1c*delta2c)*(geff+gb)"
   ]
  },
  {
   "cell_type": "code",
   "execution_count": 5,
   "metadata": {},
   "outputs": [],
   "source": [
    "def g_eff(g12,g1c,g2c,f1,f2,fc,alphac):\n",
    "    delta12=f1-f2\n",
    "    delta1c=f1-fc\n",
    "    delta2c=f2-fc\n",
    "    epsilon1c=f1+fc\n",
    "    epsilon2c=f2+fc\n",
    "    factor = 1/delta1c+1/delta2c-1/epsilon1c-1/epsilon2c\n",
    "    return g12+g1c*g2c/2*factor"
   ]
  },
  {
   "cell_type": "code",
   "execution_count": null,
   "metadata": {},
   "outputs": [],
   "source": []
  },
  {
   "cell_type": "code",
   "execution_count": 6,
   "metadata": {},
   "outputs": [],
   "source": [
    "g13_arr = np.linspace(0,18e6,121)\n",
    "fc_arr = np.linspace(6.01e9,9e9,300)\n",
    "\n",
    "ZZ_pertur_LD = []\n",
    "ZZ_pertur_ST = []\n",
    "\n",
    "for g13 in g13_arr:\n",
    "    eigens = zeta(g13,120e6,100e6,6.0e9,5.4e9,fc_arr,-250e6,-250e6,-300e6)\n",
    "    ZZ_pertur_LD.append(eigens)\n",
    "    \n",
    "    eigens2 = zeta(g13,120e6,100e6,6.0e9,5.85e9,fc_arr,-250e6,-250e6,-300e6)\n",
    "    ZZ_pertur_ST.append(eigens2)"
   ]
  },
  {
   "cell_type": "code",
   "execution_count": 7,
   "metadata": {},
   "outputs": [],
   "source": [
    "Coupler_arr = np.linspace(6.5e9,9e9,801)\n",
    "\n",
    "g13_arr_x = np.linspace(0,20e6,1601)\n",
    "\n",
    "ST_zero = np.zeros_like(Coupler_arr)\n",
    "LD_zero = np.zeros_like(Coupler_arr)\n",
    "\n",
    "i=0\n",
    "for coupler_freq in Coupler_arr:\n",
    "#     ST_a = np.argmin( np.abs(g_eff(g13_arr_x,120e6,100e6,6.0e9,5.85e9,Coupler_arr,-300e6)))\n",
    "    ST_zero[i] = g13_arr_x[np.argmin( np.abs(g_eff(g13_arr_x,120e6,100e6,6.0e9,5.85e9,coupler_freq,-300e6)))]\n",
    "    LD_zero[i] = g13_arr_x[np.argmin( np.abs(g_eff(g13_arr_x,120e6,100e6,6.0e9,5.4e9,coupler_freq,-300e6)))]\n",
    "    i+=1"
   ]
  },
  {
   "cell_type": "code",
   "execution_count": 8,
   "metadata": {},
   "outputs": [
    {
     "data": {
      "text/plain": [
       "[<matplotlib.lines.Line2D at 0x1e741d7d4a8>]"
      ]
     },
     "execution_count": 8,
     "metadata": {},
     "output_type": "execute_result"
    },
    {
     "data": {
      "image/png": "[encoded data removed]",
      "text/plain": [
       "<Figure size 432x288 with 1 Axes>"
      ]
     },
     "metadata": {
      "needs_background": "light"
     },
     "output_type": "display_data"
    }
   ],
   "source": [
    "plt.plot(Coupler_arr,ST_zero)"
   ]
  },
  {
   "cell_type": "code",
   "execution_count": null,
   "metadata": {},
   "outputs": [],
   "source": []
  },
  {
   "cell_type": "code",
   "execution_count": 9,
   "metadata": {},
   "outputs": [],
   "source": [
    "# ZZ_TRACE_ST=[]\n",
    "\n",
    "# g13_arr = np.linspace(0,18e6,121)\n",
    "\n",
    "# for g13 in g13_arr:\n",
    "#     raw_config = Circuit_Simulator.RawConfig(qubit_num=3,dimension=3,circuit_type=0,initial_state='ground',sampling_rate=1e9)\n",
    "#     raw_config.load_default_value(modulation=True,decoherence=False,use_capacitance=False)\n",
    "\n",
    "\n",
    "#     Z_freq = np.linspace(0,-3e9,301)\n",
    "\n",
    "#     raw_config.setValue('Q1 f01',6.00e9)\n",
    "#     raw_config.setValue('Q2 f01',9e9)\n",
    "#     raw_config.setValue('Q3 f01',5.85e9)\n",
    "#     raw_config.setValue('Q1 Anharmonicity',-250e6)\n",
    "#     raw_config.setValue('Q2 Anharmonicity',-300e6)\n",
    "#     raw_config.setValue('Q3 Anharmonicity',-250e6)\n",
    "\n",
    "#     raw_config.setValue('Q2 Z',Z_freq)\n",
    "\n",
    "#     raw_config.setValue('g12',120e6)\n",
    "#     raw_config.setValue('g23',100e6)\n",
    "#     raw_config.setValue('g13',g13)\n",
    "\n",
    "#     simu_config = Circuit_Simulator.read_config(raw_config.get_dict())\n",
    "#     Simulator = Circuit_Simulator.Simulator(simu_config)\n",
    "#     Simulator.performsimulation(solver_type=2,resample_factor=1,eigen_cloest_to_bare=False,sort_by_maximum_overlap=True,gap=10e6)\n",
    "#     eigen_trace = Simulator.EigenResult.get_Ener_gap_trace('101-100-001+000')\n",
    "    \n",
    "#     print(g13)\n",
    "    \n",
    "#     ZZ_TRACE_ST.append(eigen_trace)"
   ]
  },
  {
   "cell_type": "code",
   "execution_count": 10,
   "metadata": {},
   "outputs": [],
   "source": [
    "# np.savetxt(r'C:\\Chuji\\Latex_Papers\\Mypapers\\ZZ_coupling_20210205\\Appendix Perturbation\\data\\ZZ_diag_LD.txt',ZZ_TRACE_LD)\n",
    "# np.savetxt(r'C:\\Chuji\\Latex_Papers\\Mypapers\\ZZ_coupling_20210205\\Appendix Perturbation\\data\\ZZ_diag_ST.txt',ZZ_TRACE_ST)"
   ]
  },
  {
   "cell_type": "code",
   "execution_count": 9,
   "metadata": {},
   "outputs": [],
   "source": [
    "ZZ_TRACE_LD = np.loadtxt(r'C:\\Chuji\\Latex_Papers\\Mypapers\\ZZ_coupling_20210205\\Appendix Perturbation\\data\\ZZ_diag_LD.txt')\n",
    "ZZ_TRACE_ST = np.loadtxt(r'C:\\Chuji\\Latex_Papers\\Mypapers\\ZZ_coupling_20210205\\Appendix Perturbation\\data\\ZZ_diag_ST.txt')"
   ]
  },
  {
   "cell_type": "code",
   "execution_count": null,
   "metadata": {},
   "outputs": [],
   "source": []
  },
  {
   "cell_type": "code",
   "execution_count": 31,
   "metadata": {},
   "outputs": [],
   "source": [
    "from matplotlib import cm\n",
    "from matplotlib import *\n",
    "\n",
    "fig = plt.figure(figsize=[8,8.4])\n",
    "ax3 = fig.add_axes([0.05,0.11,0.4,0.4])\n",
    "ax4 = fig.add_axes([0.46,0.11,0.4,0.4])\n",
    "\n",
    "ax1 = fig.add_axes([0.05,0.52,0.4,0.4])\n",
    "ax2 = fig.add_axes([0.46,0.52,0.4,0.4])\n",
    "\n",
    "ax_colorbar = fig.add_axes([0.89,0.11,0.02,0.81])\n",
    "# ax_colorbar = fig.add_axes([0.05,0.05,0.81,0.02])\n",
    "\n",
    "\n",
    "X1,Y1 = np.meshgrid((Z_freq+9e9)[:-1]/1e9,g13_arr/1e6)\n",
    "im = ax1.pcolor(X1,Y1,np.abs(np.array(ZZ_TRACE_LD)[:,:-1])/1e6,cmap=cm.coolwarm,norm=colors.LogNorm(),vmin=10e-5,vmax=100)\n",
    "im = ax2.pcolor(X1,Y1,np.abs(np.array(ZZ_TRACE_ST)[:,:-1])/1e6,cmap=cm.coolwarm,norm=colors.LogNorm(),vmin=10e-5,vmax=100)\n",
    "\n",
    "X2,Y2 = np.meshgrid(fc_arr/1e9,g13_arr/1e6)\n",
    "im = ax3.pcolor(X2,Y2,np.abs(np.array(ZZ_pertur_LD)[:,:])/1e6,cmap=cm.coolwarm,norm=colors.LogNorm(),vmin=10e-5,vmax=100)\n",
    "im = ax4.pcolor(X2,Y2,np.abs(np.array(ZZ_pertur_ST)[:,:])/1e6,cmap=cm.coolwarm,norm=colors.LogNorm(),vmin=10e-5,vmax=100)\n",
    "\n",
    "# colarbar= plt.colorbar(im,cax=ax_colorbar,orientation='horizontal')\n",
    "colarbar= plt.colorbar(im,cax=ax_colorbar,orientation='vertical')\n",
    "\n",
    "ax1.contour(X1, Y1, np.abs(np.array(ZZ_TRACE_LD)[:,:-1])/1e6, levels=[1e-2,1e-1,1], colors=['tab:brown','dimgray','black'])\n",
    "ax2.contour(X1, Y1, np.abs(np.array(ZZ_TRACE_ST)[:,:-1])/1e6, levels=[1e-2,1e-1,1], colors=['tab:brown','dimgray','black'])\n",
    "ax3.contour(X2, Y2, np.abs(np.array(ZZ_pertur_LD)[:,:])/1e6, levels=[1e-2,1e-1,1], colors=['tab:brown','dimgray','black'])\n",
    "ax4.contour(X2, Y2, np.abs(np.array(ZZ_pertur_ST)[:,:])/1e6, levels=[1e-2,1e-1,1], colors=['tab:brown','dimgray','black'])\n",
    "\n",
    "# ax3.plot(Coupler_arr/1e9,LD_zero/1e6,'k',linewidth=2)\n",
    "# ax4.plot(Coupler_arr/1e9,ST_zero/1e6,'k',linewidth=2)\n",
    "ax3.set_ylim([0,18])\n",
    "ax4.set_ylim([0,18])\n",
    "\n",
    "\n",
    "ax1.tick_params(axis='x',which='both',top=True,bottom=True,direction='in' )\n",
    "ax1.tick_params(axis='y',which='both',left=True,right=True,direction='in' )\n",
    "ax2.tick_params(axis='x',which='both',top=True,bottom=True,direction='in' )\n",
    "ax2.tick_params(axis='y',which='both',left=True,right=True,direction='in' )\n",
    "ax3.tick_params(axis='x',which='both',top=True,bottom=True,direction='in' )\n",
    "ax3.tick_params(axis='y',which='both',left=True,right=True,direction='in' )\n",
    "ax4.tick_params(axis='x',which='both',top=True,bottom=True,direction='in' )\n",
    "ax4.tick_params(axis='y',which='both',left=True,right=True,direction='in' )\n",
    "\n",
    "ax1.set_xticklabels([])\n",
    "ax2.set_xticklabels([])\n",
    "ax2.set_yticklabels([])\n",
    "ax4.set_yticklabels([])\n",
    "\n",
    "ax1.tick_params(labelsize=18)\n",
    "ax2.tick_params(labelsize=18)\n",
    "ax3.tick_params(labelsize=18)\n",
    "ax4.tick_params(labelsize=18)\n",
    "ax_colorbar.tick_params(labelsize=18)"
   ]
  },
  {
   "cell_type": "code",
   "execution_count": null,
   "metadata": {},
   "outputs": [],
   "source": []
  },
  {
   "cell_type": "code",
   "execution_count": 29,
   "metadata": {},
   "outputs": [],
   "source": [
    "%matplotlib qt"
   ]
  },
  {
   "cell_type": "code",
   "execution_count": 27,
   "metadata": {},
   "outputs": [],
   "source": [
    "# help(ax1.contour)    "
   ]
  },
  {
   "cell_type": "code",
   "execution_count": null,
   "metadata": {},
   "outputs": [],
   "source": []
  },
  {
   "cell_type": "code",
   "execution_count": 23,
   "metadata": {},
   "outputs": [],
   "source": []
  },
  {
   "cell_type": "code",
   "execution_count": null,
   "metadata": {},
   "outputs": [],
   "source": []
  },
  {
   "cell_type": "code",
   "execution_count": null,
   "metadata": {},
   "outputs": [],
   "source": []
  },
  {
   "cell_type": "code",
   "execution_count": null,
   "metadata": {},
   "outputs": [],
   "source": []
  }
 ],
 "metadata": {
  "kernelspec": {
   "display_name": "Python 3",
   "language": "python",
   "name": "python3"
  },
  "language_info": {
   "codemirror_mode": {
    "name": "ipython",
    "version": 3
   },
   "file_extension": ".py",
   "mimetype": "text/x-python",
   "name": "python",
   "nbconvert_exporter": "python",
   "pygments_lexer": "ipython3",
   "version": "3.7.1"
  },
  "toc": {
   "base_numbering": 1,
   "nav_menu": {},
   "number_sections": true,
   "sideBar": true,
   "skip_h1_title": false,
   "title_cell": "Table of Contents",
   "title_sidebar": "Contents",
   "toc_cell": false,
   "toc_position": {},
   "toc_section_display": true,
   "toc_window_display": false
  }
 },
 "nbformat": 4,
 "nbformat_minor": 2
}
