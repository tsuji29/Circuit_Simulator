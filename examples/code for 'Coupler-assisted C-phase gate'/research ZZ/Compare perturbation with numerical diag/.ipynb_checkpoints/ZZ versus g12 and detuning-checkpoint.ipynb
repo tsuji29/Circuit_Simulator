{
 "cells": [
  {
   "cell_type": "code",
   "execution_count": 2,
   "metadata": {},
   "outputs": [],
   "source": [
    "import sys\n",
    "import numpy as np\n",
    "import time\n",
    "import matplotlib.pyplot as plt\n",
    "sys.path.append(r'C:\\Chuji\\Code_and_Data\\MyCode')\n",
    "\n",
    "import Circuit_Simulator \n",
    "import PulseGenerator as PG\n",
    "from toolfunc import *\n",
    "from toolfunc import adia_analysis"
   ]
  },
  {
   "cell_type": "code",
   "execution_count": 3,
   "metadata": {},
   "outputs": [],
   "source": [
    "raw_config = Circuit_Simulator.RawConfig(qubit_num=3,dimension=3,circuit_type=0,initial_state='ground',sampling_rate=1e9)\n",
    "raw_config.load_default_value(modulation=True,decoherence=False,use_capacitance=False)\n",
    "\n",
    "\n",
    "Z_freq = np.linspace(0,-3e9,301)\n",
    "\n",
    "raw_config.setValue('Q1 f01',6.00e9)\n",
    "raw_config.setValue('Q2 f01',9e9)\n",
    "raw_config.setValue('Q3 f01',5.4e9)\n",
    "raw_config.setValue('Q1 Anharmonicity',-250e6)\n",
    "raw_config.setValue('Q2 Anharmonicity',-300e6)\n",
    "raw_config.setValue('Q3 Anharmonicity',-250e6)\n",
    "\n",
    "raw_config.setValue('Q2 Z',Z_freq)\n",
    "\n",
    "raw_config.setValue('g12',120e6)\n",
    "raw_config.setValue('g23',100e6)\n",
    "raw_config.setValue('g13',10e6)\n",
    "\n",
    "simu_config = Circuit_Simulator.read_config(raw_config.get_dict())\n",
    "Simulator = Circuit_Simulator.Simulator(simu_config)\n",
    "Simulator.performsimulation(solver_type=2,resample_factor=1,eigen_cloest_to_bare=False,sort_by_maximum_overlap=True,gap=10e6)\n",
    "eigen_trace = Simulator.EigenResult.get_Ener_gap_trace('101-100-001+000')\n",
    "\n"
   ]
  },
  {
   "cell_type": "code",
   "execution_count": 6,
   "metadata": {},
   "outputs": [
    {
     "data": {
      "text/plain": [
       "[<matplotlib.lines.Line2D at 0x1b81ecdf4a8>]"
      ]
     },
     "execution_count": 6,
     "metadata": {},
     "output_type": "execute_result"
    },
    {
     "data": {
      "image/png": "[encoded data removed]",
      "text/plain": [
       "<Figure size 432x288 with 1 Axes>"
      ]
     },
     "metadata": {
      "needs_background": "light"
     },
     "output_type": "display_data"
    }
   ],
   "source": [
    "plt.plot(Z_freq,eigen_trace)"
   ]
  },
  {
   "cell_type": "code",
   "execution_count": null,
   "metadata": {},
   "outputs": [],
   "source": []
  },
  {
   "cell_type": "markdown",
   "metadata": {},
   "source": [
    "## zz suppress"
   ]
  },
  {
   "cell_type": "code",
   "execution_count": null,
   "metadata": {},
   "outputs": [],
   "source": []
  },
  {
   "cell_type": "code",
   "execution_count": 16,
   "metadata": {},
   "outputs": [
    {
     "name": "stdout",
     "output_type": "stream",
     "text": [
      "0.0\n",
      "150000.0\n",
      "300000.0\n",
      "450000.0\n",
      "600000.0\n",
      "750000.0\n",
      "900000.0\n",
      "1050000.0\n",
      "1200000.0\n",
      "1350000.0\n",
      "1500000.0\n",
      "1650000.0\n",
      "1800000.0\n",
      "1950000.0\n",
      "2100000.0\n",
      "2250000.0\n",
      "2400000.0\n",
      "2550000.0\n",
      "2700000.0\n",
      "2850000.0\n",
      "3000000.0\n",
      "3150000.0\n",
      "3300000.0\n",
      "3450000.0\n",
      "3600000.0\n",
      "3750000.0\n",
      "3900000.0\n",
      "4050000.0\n",
      "4200000.0\n",
      "4350000.0\n",
      "4500000.0\n",
      "4650000.0\n",
      "4800000.0\n",
      "4950000.0\n",
      "5100000.0\n",
      "5250000.0\n",
      "5400000.0\n",
      "5550000.0\n",
      "5700000.0\n",
      "5850000.0\n",
      "6000000.0\n",
      "6150000.0\n",
      "6300000.0\n",
      "6450000.0\n",
      "6600000.0\n",
      "6750000.0\n",
      "6900000.0\n",
      "7050000.0\n",
      "7200000.0\n",
      "7350000.0\n",
      "7500000.0\n",
      "7650000.0\n",
      "7800000.0\n",
      "7950000.0\n",
      "8100000.0\n",
      "8250000.0\n",
      "8400000.0\n",
      "8550000.0\n",
      "8700000.0\n",
      "8850000.0\n",
      "9000000.0\n",
      "9150000.0\n",
      "9300000.0\n",
      "9450000.0\n",
      "9600000.0\n",
      "9750000.0\n",
      "9900000.0\n",
      "10050000.0\n",
      "10200000.0\n",
      "10350000.0\n",
      "10500000.0\n",
      "10650000.0\n",
      "10800000.0\n",
      "10950000.0\n",
      "11100000.0\n",
      "11250000.0\n",
      "11400000.0\n",
      "11550000.0\n",
      "11700000.0\n",
      "11850000.0\n",
      "12000000.0\n",
      "12150000.0\n",
      "12300000.0\n",
      "12450000.0\n",
      "12600000.0\n",
      "12750000.0\n",
      "12900000.0\n",
      "13050000.0\n",
      "13200000.0\n",
      "13350000.0\n",
      "13500000.0\n",
      "13650000.0\n",
      "13800000.0\n",
      "13950000.0\n",
      "14100000.0\n",
      "14250000.0\n",
      "14400000.0\n",
      "14550000.0\n",
      "14700000.0\n",
      "14850000.0\n",
      "15000000.0\n",
      "15150000.0\n",
      "15300000.0\n",
      "15450000.0\n",
      "15600000.0\n",
      "15750000.0\n",
      "15900000.0\n",
      "16050000.0\n",
      "16200000.0\n",
      "16350000.0\n",
      "16500000.0\n",
      "16650000.0\n",
      "16800000.0\n",
      "16950000.0\n",
      "17100000.0\n",
      "17250000.0\n",
      "17400000.0\n",
      "17550000.0\n",
      "17700000.0\n",
      "17850000.0\n",
      "18000000.0\n"
     ]
    }
   ],
   "source": [
    "ZZ_TRACE_ST=[]\n",
    "\n",
    "g13_arr = np.linspace(0,18e6,121)\n",
    "\n",
    "for g13 in g13_arr:\n",
    "    raw_config = Circuit_Simulator.RawConfig(qubit_num=3,dimension=3,circuit_type=0,initial_state='ground',sampling_rate=1e9)\n",
    "    raw_config.load_default_value(modulation=True,decoherence=False,use_capacitance=False)\n",
    "\n",
    "\n",
    "    Z_freq = np.linspace(0,-3e9,301)\n",
    "\n",
    "    raw_config.setValue('Q1 f01',6.00e9)\n",
    "    raw_config.setValue('Q2 f01',9e9)\n",
    "    raw_config.setValue('Q3 f01',5.85e9)\n",
    "    raw_config.setValue('Q1 Anharmonicity',-250e6)\n",
    "    raw_config.setValue('Q2 Anharmonicity',-300e6)\n",
    "    raw_config.setValue('Q3 Anharmonicity',-250e6)\n",
    "\n",
    "    raw_config.setValue('Q2 Z',Z_freq)\n",
    "\n",
    "    raw_config.setValue('g12',120e6)\n",
    "    raw_config.setValue('g23',100e6)\n",
    "    raw_config.setValue('g13',g13)\n",
    "\n",
    "    simu_config = Circuit_Simulator.read_config(raw_config.get_dict())\n",
    "    Simulator = Circuit_Simulator.Simulator(simu_config)\n",
    "    Simulator.performsimulation(solver_type=2,resample_factor=1,eigen_cloest_to_bare=False,sort_by_maximum_overlap=True,gap=10e6)\n",
    "    eigen_trace = Simulator.EigenResult.get_Ener_gap_trace('101-100-001+000')\n",
    "    \n",
    "    print(g13)\n",
    "    \n",
    "    ZZ_TRACE_ST.append(eigen_trace)"
   ]
  },
  {
   "cell_type": "code",
   "execution_count": 17,
   "metadata": {},
   "outputs": [],
   "source": [
    "# np.savetxt(r'C:\\Chuji\\Latex_Papers\\Mypapers\\ZZ_coupling_20210205\\Appendix Perturbation\\data\\ZZ_diag_LD.txt',ZZ_TRACE_LD)\n",
    "np.savetxt(r'C:\\Chuji\\Latex_Papers\\Mypapers\\ZZ_coupling_20210205\\Appendix Perturbation\\data\\ZZ_diag_ST.txt',ZZ_TRACE_ST)"
   ]
  },
  {
   "cell_type": "code",
   "execution_count": 20,
   "metadata": {},
   "outputs": [
    {
     "data": {
      "image/png": "[encoded data removed]",
      "text/plain": [
       "<Figure size 547.2x324 with 3 Axes>"
      ]
     },
     "metadata": {
      "needs_background": "light"
     },
     "output_type": "display_data"
    }
   ],
   "source": [
    "from matplotlib import cm\n",
    "from matplotlib import *\n",
    "\n",
    "fig = plt.figure(figsize=[7.6,4.5])\n",
    "ax1 = fig.add_axes([0.08,0.2,0.44,0.72])\n",
    "ax2 = fig.add_axes([0.53,0.2,0.44,0.72])\n",
    "ax_colorbar = fig.add_axes([0.08,0.08,0.89,0.025])\n",
    "\n",
    "\n",
    "\n",
    "X1,Y1 = np.meshgrid((Z_freq+9e9)/1e9,g13_arr/1e6)\n",
    "im = ax1.pcolor(X1,Y1,np.abs(np.array(ZZ_TRACE_LD))/1e6,cmap=cm.coolwarm,norm=colors.LogNorm(),vmin=10e-5,vmax=100)\n",
    "im = ax2.pcolor(X1,Y1,np.abs(np.array(ZZ_TRACE_ST))/1e6,cmap=cm.coolwarm,norm=colors.LogNorm(),vmin=10e-5,vmax=100)\n",
    "\n",
    "colarbar= plt.colorbar(im,cax=ax_colorbar,orientation='horizontal')\n",
    "\n",
    "\n",
    "\n",
    "\n",
    "\n",
    "# ZZ_TRACE=np.array(ZZ_TRACE)\n",
    "# ZZ_TRACE_BBQ=np.array(ZZ_TRACE_BBQ)\n",
    "\n",
    "\n",
    "# # X,Y = np.meshgrid(freq_array[79:]/1e9,r_arr*1000)\n",
    "# # im = ax2.pcolor(X,Y,np.abs(ZZ_TRACE[:,79:])/1e6,cmap=cm.coolwarm,norm=colors.LogNorm(),vmin=10e-5,vmax=100)\n",
    "\n",
    "# X1,Y1 = np.meshgrid(freq_array_BBQ[316:957]/1e9,r_arr_BBQ*1000)\n",
    "# im = ax1.pcolor(X1,Y1,np.abs(ZZ_TRACE_BBQ[:,316:957])/1e6,cmap=cm.coolwarm,norm=colors.LogNorm(),vmin=10e-5,vmax=100)\n",
    "\n",
    "# colarbar= plt.colorbar(im,cax=ax_colorbar,orientation='horizontal')\n",
    "\n",
    "# ax1.plot(freq_array_BBQ[316:840]/1e9,r12_zero_geff(6e9,5.4e9,freq_array_BBQ[316:840],0.018,0.018)*1000,'k')\n",
    "# ax2.plot(freq_array[140:]/1e9,r12_zero_geff(6e9,5.4e9,freq_array[140:],0.018,0.018)*1000,'k')\n",
    "\n",
    "\n",
    "# ax1.set_ylim([-3,3])\n",
    "# ax2.set_ylim([-3,3])\n",
    "\n",
    "\n",
    "ax1.tick_params(axis='x',which='both',top=True,bottom=True,direction='in' )\n",
    "ax1.tick_params(axis='y',which='both',left=True,right=True,direction='in' )\n",
    "ax2.tick_params(axis='x',which='both',top=True,bottom=True,direction='in' )\n",
    "ax2.tick_params(axis='y',which='both',left=True,right=True,direction='in' )\n",
    "\n",
    "ax2.set_yticklabels([])\n",
    "\n",
    "ax1.tick_params(labelsize=18)\n",
    "ax2.tick_params(labelsize=18)\n",
    "ax_colorbar.tick_params(labelsize=18)"
   ]
  },
  {
   "cell_type": "code",
   "execution_count": null,
   "metadata": {},
   "outputs": [],
   "source": []
  },
  {
   "cell_type": "code",
   "execution_count": 21,
   "metadata": {},
   "outputs": [],
   "source": [
    "def g_a(g1c,g2c,f1,f2,fc):\n",
    "    delta12=f1-f2\n",
    "    delta1c=f1-fc\n",
    "    delta2c=f2-fc\n",
    "    return g1c*g2c/2*delta12/(delta1c*delta2c)\n",
    "\n",
    "def g_b(g1c,g2c,f1,f2,fc,alphac):\n",
    "    \n",
    "    \n",
    "    return 0"
   ]
  },
  {
   "cell_type": "code",
   "execution_count": null,
   "metadata": {},
   "outputs": [],
   "source": []
  },
  {
   "cell_type": "code",
   "execution_count": null,
   "metadata": {},
   "outputs": [],
   "source": []
  },
  {
   "cell_type": "code",
   "execution_count": null,
   "metadata": {},
   "outputs": [],
   "source": []
  },
  {
   "cell_type": "code",
   "execution_count": null,
   "metadata": {},
   "outputs": [],
   "source": []
  }
 ],
 "metadata": {
  "kernelspec": {
   "display_name": "Python 3",
   "language": "python",
   "name": "python3"
  },
  "language_info": {
   "codemirror_mode": {
    "name": "ipython",
    "version": 3
   },
   "file_extension": ".py",
   "mimetype": "text/x-python",
   "name": "python",
   "nbconvert_exporter": "python",
   "pygments_lexer": "ipython3",
   "version": "3.7.1"
  },
  "toc": {
   "base_numbering": 1,
   "nav_menu": {},
   "number_sections": true,
   "sideBar": true,
   "skip_h1_title": false,
   "title_cell": "Table of Contents",
   "title_sidebar": "Contents",
   "toc_cell": false,
   "toc_position": {},
   "toc_section_display": true,
   "toc_window_display": false
  }
 },
 "nbformat": 4,
 "nbformat_minor": 2
}
