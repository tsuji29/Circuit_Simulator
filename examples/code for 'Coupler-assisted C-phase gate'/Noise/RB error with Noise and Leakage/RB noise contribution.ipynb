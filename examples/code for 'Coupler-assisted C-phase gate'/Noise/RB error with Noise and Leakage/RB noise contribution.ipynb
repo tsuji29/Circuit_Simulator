{
 "cells": [
  {
   "cell_type": "code",
   "execution_count": 4,
   "metadata": {},
   "outputs": [],
   "source": [
    "import sys\n",
    "import numpy as np\n",
    "import time\n",
    "import matplotlib.pyplot as plt\n",
    "from scipy import interpolate \n",
    "sys.path.append(r'C:\\Chuji\\Code_and_Data\\MyCode')\n",
    "\n",
    "import Circuit_Simulator \n",
    "import PulseGenerator as PG\n",
    "from toolfunc import *\n",
    "from toolfunc.adia_analysis import *\n",
    "from toolfunc.pulse_filter import *\n",
    "import scipy.optimize as sci_op\n",
    "from toolfunc import DE"
   ]
  },
  {
   "cell_type": "code",
   "execution_count": 5,
   "metadata": {},
   "outputs": [],
   "source": [
    "transmon = PG.Transmon(8.2e9, 1e9, 300e6, 1, 0, 0.12505)"
   ]
  },
  {
   "cell_type": "code",
   "execution_count": 6,
   "metadata": {},
   "outputs": [],
   "source": [
    "def get_RB_error(pulse_params,*args):\n",
    "    gate_time,SRATE,f_term=args\n",
    "    lamb1 = pulse_params\n",
    "    total_len = gate_time + 10e-9\n",
    "    \n",
    "    Seq=PG.Sequence(total_len=total_len,sample_rate=SRATE,complex_trace=False)\n",
    "    Seq.clear_pulse(tips_on=False)\n",
    "    Seq.add_pulse('Adiabatic',t0=total_len/2,width=gate_time,plateau=0e-9,frequency=0,F_Terms=f_term,Lcoeff=np.array(lamb1),qubit=transmon,Q1_freq=6.0e9,\n",
    "                 CPLR_idle_freq=(7.87e9-6e9)*1+6e9,Q2_freq=6e9+(5.4e9-6e9)*1,constant_coupling=False,r1c=0.018*1,r2c=0.018*1,r12=0.0015*1,anhar_CPLR=-300e6*1,\n",
    "                 anhar_Q1=-250e6*1,anhar_Q2=-250e6*1,negative_amplitude=False,dfdV=1,gap_threshold=8e6,freqpoints=301,pulsepoints=601)\n",
    "    Seq.add_filter('Gauss Low Pass',300e6)\n",
    "    flux_pulse=Seq.get_sequence()\n",
    "    \n",
    "    U_defined=False\n",
    "    Error60 = []\n",
    "    for idx in range(60):\n",
    "        raw_config = Circuit_Simulator.RawConfig(qubit_num=3,dimension=3,circuit_type=1,initial_state='RB60_'+str(59-idx),sampling_rate=SRATE)\n",
    "        raw_config.load_default_value(modulation=True,decoherence=False,use_capacitance=False)\n",
    "        raw_config.setValue('Q1 f01_max',6.0e9)\n",
    "        raw_config.setValue('Q2 f01_max',8.2e9)\n",
    "        raw_config.setValue('Q3 f01_max',5.4e9)\n",
    "        raw_config.setValue('Q1 f01_min',1e9)\n",
    "        raw_config.setValue('Q2 f01_min',1e9)\n",
    "        raw_config.setValue('Q3 f01_min',1e9)\n",
    "        raw_config.setValue('Q1 Ec',0.25e9)\n",
    "        raw_config.setValue('Q2 Ec',0.30e9)\n",
    "        raw_config.setValue('Q3 Ec',0.25e9)\n",
    "        raw_config.setValue('r12',0.018)\n",
    "        raw_config.setValue('r23',0.018)\n",
    "        raw_config.setValue('r13',0.0015)\n",
    "        raw_config.setValue('Q2 Voltage period',1)\n",
    "        raw_config.setValue('Q2 Voltage operating point',0.12505)\n",
    "        raw_config.setValue('Q2 Flux',flux_pulse)\n",
    "\n",
    "        simu_config = Circuit_Simulator.read_config(raw_config.get_dict())\n",
    "        Simulator = Circuit_Simulator.Simulator(simu_config)\n",
    "        Simulator.performsimulation(solver_type=0)\n",
    "        \n",
    "        final_state = Circuit_Simulator._util.trunc_to_specific_subspace( Simulator.StateResult.rho_trace[-1].full(),nTrunc=[3,3,3],subspace=['000','001','100','101'] )\n",
    "        initial_state = Circuit_Simulator._util.trunc_to_specific_subspace(Simulator.StateResult.rho_trace[0].full(),nTrunc=[3,3,3],subspace=['000','001','100','101'] )\n",
    "        \n",
    "        if U_defined == False:\n",
    "            U10 = qt.tensor( qt.qeye(2), Circuit_Simulator.Qobj.Z_Gate( np.angle(final_state[0][1])-np.angle(initial_state[0][1])).U  )\n",
    "            U01 = qt.tensor( Circuit_Simulator.Qobj.Z_Gate(np.angle(final_state[0][2])-np.angle(initial_state[0][2])).U, qt.qeye(2))\n",
    "            Ucz = qt.Qobj([[1,0,0,0],[0,1,0,0],[0,0,1,0],[0,0,0,-1]])\n",
    "            U_defined = True\n",
    "            \n",
    "        U  = Qflatten(U10*U01)*Ucz\n",
    "        error = 1 - np.abs((U.dag()*qt.Qobj(initial_state)*U*qt.Qobj(final_state)).tr())\n",
    "        print(error)\n",
    "        Error60.append(error)\n",
    "    return np.mean(np.array(Error60))\n",
    "\n",
    "def cost_func(pulse_params,*args):\n",
    "    gate_time,SRATE,f_term=args\n",
    "\n",
    "    lamb1 = pulse_params\n",
    "    total_len = gate_time + 10e-9\n",
    "    \n",
    "    \n",
    "    Seq=PG.Sequence(total_len=total_len,sample_rate=SRATE,complex_trace=False)\n",
    "    Seq.clear_pulse(tips_on=False)\n",
    "    Seq.add_pulse('Adiabatic',t0=total_len/2,width=gate_time,plateau=0e-9,frequency=0,F_Terms=f_term,Lcoeff=np.array(lamb1),qubit=transmon,Q1_freq=6.0e9,\n",
    "                 CPLR_idle_freq=(7.87e9-6e9)*1+6e9,Q2_freq=6e9+(5.4e9-6e9)*1,constant_coupling=False,r1c=0.018*1,r2c=0.018*1,r12=0.0015*1,anhar_CPLR=-300e6*1,\n",
    "                 anhar_Q1=-250e6*1,anhar_Q2=-250e6*1,negative_amplitude=False,dfdV=1,gap_threshold=8e6,freqpoints=301,pulsepoints=601)\n",
    "    Seq.add_filter('Gauss Low Pass',300e6)\n",
    "    flux_pulse=Seq.get_sequence()\n",
    "\n",
    "    raw_config = Circuit_Simulator.RawConfig(qubit_num=3,dimension=3,circuit_type=1,initial_state='-Z+Z+Z',sampling_rate=SRATE)\n",
    "    raw_config.load_default_value(modulation=True,decoherence=False,use_capacitance=False)\n",
    "    \n",
    "    raw_config.setValue('Q1 f01_max',6.0e9)\n",
    "    raw_config.setValue('Q2 f01_max',8.2e9)\n",
    "    raw_config.setValue('Q3 f01_max',5.4e9)\n",
    "    raw_config.setValue('Q1 f01_min',1e9)\n",
    "    raw_config.setValue('Q2 f01_min',1e9)\n",
    "    raw_config.setValue('Q3 f01_min',1e9)\n",
    "    raw_config.setValue('Q1 Ec',0.25e9)\n",
    "    raw_config.setValue('Q2 Ec',0.30e9)\n",
    "    raw_config.setValue('Q3 Ec',0.25e9)\n",
    "\n",
    "    raw_config.setValue('r12',0.018)\n",
    "    raw_config.setValue('r23',0.018)\n",
    "    raw_config.setValue('r13',0.0015)\n",
    "\n",
    "    raw_config.setValue('Q2 Voltage period',1)\n",
    "    raw_config.setValue('Q2 Voltage operating point',0.12505)\n",
    "    raw_config.setValue('Q2 Flux',flux_pulse)\n",
    "\n",
    "    simu_config = Circuit_Simulator.read_config(raw_config.get_dict())\n",
    "    Simulator = Circuit_Simulator.Simulator(simu_config)\n",
    "\n",
    "    Simulator.performsimulation(solver_type=1)\n",
    "    Simulator.UnitaryResult.get_U(-1)\n",
    "    Simulator.UnitaryResult.get_subspace_operator(['000','001','100','101'])\n",
    "    Simulator.UnitaryResult.remove_single_qubit_gate()\n",
    "    Simulator.UnitaryResult.set_Target_gate('CZ')\n",
    "    Simulator.UnitaryResult.get_Gate_Fidelity()\n",
    "    fidelity = Simulator.UnitaryResult.Gate_Fidelity\n",
    "\n",
    "#     print('lamb:',lamb1)\n",
    "#     print('error:',1-fidelity)\n",
    "    return 1 - fidelity"
   ]
  },
  {
   "cell_type": "code",
   "execution_count": null,
   "metadata": {},
   "outputs": [],
   "source": []
  },
  {
   "cell_type": "code",
   "execution_count": null,
   "metadata": {},
   "outputs": [],
   "source": []
  },
  {
   "cell_type": "markdown",
   "metadata": {},
   "source": [
    "## load params"
   ]
  },
  {
   "cell_type": "code",
   "execution_count": 7,
   "metadata": {},
   "outputs": [],
   "source": [
    "raw_config = Circuit_Simulator.RawConfig(qubit_num=3,dimension=3,circuit_type=1,initial_state='-Z+Z+Z',sampling_rate=10e9)\n",
    "raw_config.load_default_value(modulation=True,decoherence=False,use_capacitance=False)\n",
    "\n",
    "flux_scan = np.linspace(0,0.4,1001)\n",
    "\n",
    "raw_config.setValue('Q1 f01_max',6.0e9)\n",
    "raw_config.setValue('Q2 f01_max',8.2e9)\n",
    "raw_config.setValue('Q3 f01_max',5.4e9)\n",
    "raw_config.setValue('Q1 f01_min',1e9)\n",
    "raw_config.setValue('Q2 f01_min',1e9)\n",
    "raw_config.setValue('Q3 f01_min',1e9)\n",
    "raw_config.setValue('Q1 Ec',0.25e9)\n",
    "raw_config.setValue('Q2 Ec',0.30e9)\n",
    "raw_config.setValue('Q3 Ec',0.25e9)\n",
    "\n",
    "raw_config.setValue('r12',0.018)\n",
    "raw_config.setValue('r23',0.018)\n",
    "raw_config.setValue('r13',0.0015)\n",
    "\n",
    "raw_config.setValue('Q2 Voltage period',1)\n",
    "raw_config.setValue('Q2 Voltage operating point',0.12505)\n",
    "raw_config.setValue('Q2 Flux',flux_scan)\n",
    "\n",
    "simu_config = Circuit_Simulator.read_config(raw_config.get_dict())\n",
    "Simulator = Circuit_Simulator.Simulator(simu_config)\n",
    "\n",
    "Simulator.performsimulation(solver_type=2,resample_factor=1,get_cloest_eigen=False,sort_by_maximum_overlap=True,gap=10e6)\n",
    "eigenstate010 = Simulator.EigenResult.eigen_ener[:,3]\n",
    "eigenstate100 = Simulator.EigenResult.eigen_ener[:,9]\n",
    "eigenstate001 = Simulator.EigenResult.eigen_ener[:,1]\n",
    "eigenstate101 = Simulator.EigenResult.eigen_ener[:,10]\n",
    "eigenstate011 = Simulator.EigenResult.eigen_ener[:,4]\n",
    "eigenstate110 = Simulator.EigenResult.eigen_ener[:,12]\n",
    "eigenstate002 = Simulator.EigenResult.eigen_ener[:,2]\n",
    "eigenstate020 = Simulator.EigenResult.eigen_ener[:,6]\n",
    "eigenstate200 = Simulator.EigenResult.eigen_ener[:,18]"
   ]
  },
  {
   "cell_type": "code",
   "execution_count": 8,
   "metadata": {},
   "outputs": [
    {
     "data": {
      "image/png": "[encoded data removed]",
      "text/plain": [
       "<Figure size 432x288 with 1 Axes>"
      ]
     },
     "metadata": {
      "needs_background": "light"
     },
     "output_type": "display_data"
    }
   ],
   "source": [
    "plt.plot(eigenstate100)\n",
    "plt.plot(eigenstate001)\n",
    "plt.plot(eigenstate101)\n",
    "Spline100  = get_Bsline( flux_scan[:-1],(eigenstate100[1:]-eigenstate100[0:-1])/(flux_scan[1]-flux_scan[0]) )\n",
    "Spline001  = get_Bsline( flux_scan[:-1],(eigenstate001[1:]-eigenstate001[0:-1])/(flux_scan[1]-flux_scan[0]) )\n",
    "Spline101  = get_Bsline( flux_scan[:-1],(eigenstate101[1:]-eigenstate101[0:-1])/(flux_scan[1]-flux_scan[0]) )"
   ]
  },
  {
   "cell_type": "code",
   "execution_count": 9,
   "metadata": {},
   "outputs": [],
   "source": [
    "def Gassian_distri(sigma,p):\n",
    "    return np.exp( -p**2/(2*sigma**2) )/np.sqrt(2*np.pi)/sigma"
   ]
  },
  {
   "cell_type": "code",
   "execution_count": null,
   "metadata": {},
   "outputs": [],
   "source": []
  },
  {
   "cell_type": "code",
   "execution_count": 39,
   "metadata": {},
   "outputs": [],
   "source": [
    "Pulse_params_arr = np.loadtxt(r'C:\\Chuji\\Latex_Papers\\Mypapers\\ZZ_coupling_20210205\\fig_zz\\RB_error_data\\Pulse_params_arr.txt' )\n",
    "# np.loadtxt(r'C:\\Chuji\\Latex_Papers\\Mypapers\\ZZ_coupling_20210205\\fig_zz\\RB_error_data\\RB_error_arr.txt' )\n",
    "# np.loadtxt(r'C:\\Chuji\\Latex_Papers\\Mypapers\\ZZ_coupling_20210205\\fig_zz\\RB_error_data\\Unitary_error_arr.txt' )\n",
    "gate_time_arr = np.loadtxt(r'C:\\Chuji\\Latex_Papers\\Mypapers\\ZZ_coupling_20210205\\fig_zz\\RB_error_data\\gate_time_arr.txt' )"
   ]
  },
  {
   "cell_type": "code",
   "execution_count": 40,
   "metadata": {},
   "outputs": [
    {
     "data": {
      "text/plain": [
       "[<matplotlib.lines.Line2D at 0x2ab42a9a940>]"
      ]
     },
     "execution_count": 40,
     "metadata": {},
     "output_type": "execute_result"
    },
    {
     "data": {
      "image/png": "[encoded data removed]",
      "text/plain": [
       "<Figure size 432x288 with 1 Axes>"
      ]
     },
     "metadata": {
      "needs_background": "light"
     },
     "output_type": "display_data"
    }
   ],
   "source": [
    "lamb1 = Pulse_params_arr[1]\n",
    "gate_time = gate_time_arr[1]\n",
    "total_len = gate_time + 10e-9\n",
    "\n",
    "Seq=PG.Sequence(total_len=total_len,sample_rate=10e9,complex_trace=False)\n",
    "Seq.clear_pulse(tips_on=False)\n",
    "Seq.add_pulse('Adiabatic',t0=total_len/2,width=gate_time,plateau=0e-9,frequency=0,F_Terms=1,Lcoeff=np.array([lamb1]),qubit=transmon,Q1_freq=6.0e9,\n",
    "             CPLR_idle_freq=(7.87e9-6e9)*1+6e9,Q2_freq=6e9+(5.4e9-6e9)*1,constant_coupling=False,r1c=0.018*1,r2c=0.018*1,r12=0.0015*1,anhar_CPLR=-300e6*1,\n",
    "             anhar_Q1=-250e6*1,anhar_Q2=-250e6*1,negative_amplitude=False,dfdV=7.87e9-1e9,gap_threshold=8e6,freqpoints=301,pulsepoints=601)\n",
    "Seq.add_filter('Gauss Low Pass',300e6)\n",
    "flux_pulse=Seq.get_sequence()\n",
    "plt.plot(flux_pulse)"
   ]
  },
  {
   "cell_type": "code",
   "execution_count": null,
   "metadata": {},
   "outputs": [],
   "source": []
  },
  {
   "cell_type": "code",
   "execution_count": 17,
   "metadata": {},
   "outputs": [],
   "source": [
    "# sigma=100e-6\n",
    "\n",
    "# phase_square_ave100 = 0\n",
    "# phase_square_ave001 = 0\n",
    "# phase_square_ave101 = 0\n",
    "# phase_square_ave_101_001 = 0\n",
    "# phase_square_ave_101_100 = 0\n",
    "# phase_square_ave_100_001 = 0\n",
    "# flux_noise_arr = np.linspace(-10*sigma,10*sigma,1001)\n",
    "# for d_flux in flux_noise_arr:\n",
    "#     d_phase100 = np.sum( get_interpolate_value(Spline100,(flux_pulse[41:-40]))*d_flux*0.1e-9)\n",
    "#     phase_square_ave100 += d_phase100**2*Gassian_distri(sigma,d_flux)* (flux_noise_arr[1]-flux_noise_arr[0])\n",
    "    \n",
    "#     d_phase001 = np.sum( get_interpolate_value(Spline001,(flux_pulse[41:-40]))*d_flux*0.1e-9)\n",
    "#     phase_square_ave001 += d_phase001**2*Gassian_distri(sigma,d_flux)* (flux_noise_arr[1]-flux_noise_arr[0])\n",
    "    \n",
    "#     d_phase101 = np.sum( get_interpolate_value(Spline101,(flux_pulse[41:-40]))*d_flux*0.1e-9)\n",
    "#     phase_square_ave101 += d_phase101**2*Gassian_distri(sigma,d_flux)* (flux_noise_arr[1]-flux_noise_arr[0])\n",
    "    \n",
    "\n",
    "#     phase_square_ave_101_001 += d_phase101*d_phase001*Gassian_distri(sigma,d_flux)* (flux_noise_arr[1]-flux_noise_arr[0])\n",
    "    \n",
    "#     phase_square_ave_101_100 += d_phase101*d_phase100*Gassian_distri(sigma,d_flux)* (flux_noise_arr[1]-flux_noise_arr[0])\n",
    "    \n",
    "#     phase_square_ave_100_001 += d_phase100*d_phase001*Gassian_distri(sigma,d_flux)* (flux_noise_arr[1]-flux_noise_arr[0])"
   ]
  },
  {
   "cell_type": "code",
   "execution_count": null,
   "metadata": {},
   "outputs": [],
   "source": []
  },
  {
   "cell_type": "markdown",
   "metadata": {},
   "source": [
    "## loop"
   ]
  },
  {
   "cell_type": "code",
   "execution_count": 42,
   "metadata": {},
   "outputs": [
    {
     "data": {
      "text/plain": [
       "49"
      ]
     },
     "execution_count": 42,
     "metadata": {},
     "output_type": "execute_result"
    }
   ],
   "source": [
    "len(gate_time_arr)"
   ]
  },
  {
   "cell_type": "code",
   "execution_count": 46,
   "metadata": {},
   "outputs": [
    {
     "name": "stdout",
     "output_type": "stream",
     "text": [
      "0\n",
      "1\n",
      "2\n",
      "3\n",
      "4\n",
      "5\n",
      "6\n",
      "7\n",
      "8\n",
      "9\n",
      "10\n",
      "11\n",
      "12\n",
      "13\n",
      "14\n",
      "15\n",
      "16\n",
      "17\n",
      "18\n",
      "19\n",
      "20\n",
      "21\n",
      "22\n",
      "23\n",
      "24\n",
      "25\n",
      "26\n",
      "27\n",
      "28\n",
      "29\n",
      "30\n",
      "31\n",
      "32\n",
      "33\n",
      "34\n",
      "35\n",
      "36\n",
      "37\n",
      "38\n",
      "39\n",
      "40\n",
      "41\n",
      "42\n",
      "43\n",
      "44\n",
      "45\n",
      "46\n",
      "47\n",
      "48\n"
     ]
    }
   ],
   "source": [
    "sigma=50e-6\n",
    "Phase_error_arr=[]\n",
    "for ii in range(49):\n",
    "    print(ii)\n",
    "    lamb1 = Pulse_params_arr[ii]\n",
    "    gate_time = gate_time_arr[ii]\n",
    "    total_len = gate_time + 10e-9\n",
    "    Seq=PG.Sequence(total_len=total_len,sample_rate=10e9,complex_trace=False)\n",
    "    Seq.clear_pulse(tips_on=False)\n",
    "    Seq.add_pulse('Adiabatic',t0=total_len/2,width=gate_time,plateau=0e-9,frequency=0,F_Terms=1,Lcoeff=np.array([lamb1]),qubit=transmon,Q1_freq=6.0e9,\n",
    "                 CPLR_idle_freq=(7.87e9-6e9)*1+6e9,Q2_freq=6e9+(5.4e9-6e9)*1,constant_coupling=False,r1c=0.018*1,r2c=0.018*1,r12=0.0015*1,anhar_CPLR=-300e6*1,\n",
    "                 anhar_Q1=-250e6*1,anhar_Q2=-250e6*1,negative_amplitude=False,dfdV=1,gap_threshold=8e6,freqpoints=301,pulsepoints=601)\n",
    "    Seq.add_filter('Gauss Low Pass',300e6)\n",
    "    flux_pulse=Seq.get_sequence()\n",
    "\n",
    "    phase_square_ave100 = 0\n",
    "    phase_square_ave001 = 0\n",
    "    phase_square_ave101 = 0\n",
    "    phase_square_ave_101_001 = 0\n",
    "    phase_square_ave_101_100 = 0\n",
    "    phase_square_ave_100_001 = 0\n",
    "    flux_noise_arr = np.linspace(-10*sigma,10*sigma,1001)\n",
    "    for d_flux in flux_noise_arr:\n",
    "        d_phase100 = np.sum(2*np.pi* get_interpolate_value(Spline100,(flux_pulse[41:-40]))*d_flux*0.1e-9)\n",
    "        phase_square_ave100 += d_phase100**2*Gassian_distri(sigma,d_flux)* (flux_noise_arr[1]-flux_noise_arr[0])\n",
    "        d_phase001 = np.sum(2*np.pi* get_interpolate_value(Spline001,(flux_pulse[41:-40]))*d_flux*0.1e-9)\n",
    "        phase_square_ave001 += d_phase001**2*Gassian_distri(sigma,d_flux)* (flux_noise_arr[1]-flux_noise_arr[0])\n",
    "        d_phase101 = np.sum(2*np.pi* get_interpolate_value(Spline101,(flux_pulse[41:-40]))*d_flux*0.1e-9)\n",
    "        phase_square_ave101 += d_phase101**2*Gassian_distri(sigma,d_flux)* (flux_noise_arr[1]-flux_noise_arr[0])\n",
    "        phase_square_ave_101_001 += d_phase101*d_phase001*Gassian_distri(sigma,d_flux)* (flux_noise_arr[1]-flux_noise_arr[0])\n",
    "        phase_square_ave_101_100 += d_phase101*d_phase100*Gassian_distri(sigma,d_flux)* (flux_noise_arr[1]-flux_noise_arr[0])\n",
    "        phase_square_ave_100_001 += d_phase100*d_phase001*Gassian_distri(sigma,d_flux)* (flux_noise_arr[1]-flux_noise_arr[0])\n",
    "        \n",
    "    phase_sum = 3*(phase_square_ave001+phase_square_ave101+phase_square_ave001)-2*(phase_square_ave_101_001+phase_square_ave_101_100+phase_square_ave_100_001)\n",
    "    Phase_error_arr.append(phase_sum/20)"
   ]
  },
  {
   "cell_type": "code",
   "execution_count": 48,
   "metadata": {},
   "outputs": [
    {
     "data": {
      "text/plain": [
       "[<matplotlib.lines.Line2D at 0x2ab42958550>]"
      ]
     },
     "execution_count": 48,
     "metadata": {},
     "output_type": "execute_result"
    },
    {
     "data": {
      "image/png": "[encoded data removed]",
      "text/plain": [
       "<Figure size 432x288 with 1 Axes>"
      ]
     },
     "metadata": {
      "needs_background": "light"
     },
     "output_type": "display_data"
    }
   ],
   "source": [
    "plt.plot(gate_time_arr,np.array(Phase_error_arr)*4 )"
   ]
  },
  {
   "cell_type": "code",
   "execution_count": 44,
   "metadata": {},
   "outputs": [
    {
     "data": {
      "text/plain": [
       "[<matplotlib.lines.Line2D at 0x2ab42aea550>]"
      ]
     },
     "execution_count": 44,
     "metadata": {},
     "output_type": "execute_result"
    },
    {
     "data": {
      "image/png": "[encoded data removed]",
      "text/plain": [
       "<Figure size 432x288 with 1 Axes>"
      ]
     },
     "metadata": {
      "needs_background": "light"
     },
     "output_type": "display_data"
    }
   ],
   "source": [
    "plt.plot(gate_time_arr,np.array(Phase_error_arr) )"
   ]
  },
  {
   "cell_type": "code",
   "execution_count": 156,
   "metadata": {},
   "outputs": [],
   "source": [
    "np.savetxt(r'C:\\Chuji\\Latex_Papers\\Mypapers\\ZZ_coupling_20210205\\fig_zz\\RB_error_data\\Dephasing_error_sigma100u.txt',Phase_error_arr)"
   ]
  },
  {
   "cell_type": "code",
   "execution_count": 148,
   "metadata": {},
   "outputs": [
    {
     "data": {
      "text/plain": [
       "39.47841760435743"
      ]
     },
     "execution_count": 148,
     "metadata": {},
     "output_type": "execute_result"
    }
   ],
   "source": [
    "(2*np.pi)**2"
   ]
  },
  {
   "cell_type": "code",
   "execution_count": 142,
   "metadata": {},
   "outputs": [
    {
     "data": {
      "text/plain": [
       "5.4410200639495865e-05"
      ]
     },
     "execution_count": 142,
     "metadata": {},
     "output_type": "execute_result"
    }
   ],
   "source": [
    "Phase_error_arr[-1]"
   ]
  },
  {
   "cell_type": "code",
   "execution_count": 141,
   "metadata": {},
   "outputs": [
    {
     "data": {
      "text/plain": [
       "[<matplotlib.lines.Line2D at 0x14135baef98>]"
      ]
     },
     "execution_count": 141,
     "metadata": {},
     "output_type": "execute_result"
    },
    {
     "data": {
      "image/png": "[encoded data removed]",
      "text/plain": [
       "<Figure size 432x288 with 1 Axes>"
      ]
     },
     "metadata": {
      "needs_background": "light"
     },
     "output_type": "display_data"
    }
   ],
   "source": [
    "plt.plot(flux_scan, get_interpolate_value(Spline001,flux_scan)*sigma/np.sqrt(2)/1e6 )"
   ]
  },
  {
   "cell_type": "code",
   "execution_count": null,
   "metadata": {},
   "outputs": [],
   "source": [
    "0.1e6"
   ]
  },
  {
   "cell_type": "code",
   "execution_count": null,
   "metadata": {},
   "outputs": [],
   "source": []
  },
  {
   "cell_type": "code",
   "execution_count": null,
   "metadata": {},
   "outputs": [],
   "source": [
    "(50e-9*10e3)"
   ]
  },
  {
   "cell_type": "code",
   "execution_count": null,
   "metadata": {},
   "outputs": [],
   "source": []
  },
  {
   "cell_type": "code",
   "execution_count": null,
   "metadata": {},
   "outputs": [],
   "source": []
  }
 ],
 "metadata": {
  "kernelspec": {
   "display_name": "Python 3",
   "language": "python",
   "name": "python3"
  },
  "language_info": {
   "codemirror_mode": {
    "name": "ipython",
    "version": 3
   },
   "file_extension": ".py",
   "mimetype": "text/x-python",
   "name": "python",
   "nbconvert_exporter": "python",
   "pygments_lexer": "ipython3",
   "version": "3.7.1"
  },
  "toc": {
   "base_numbering": 1,
   "nav_menu": {},
   "number_sections": true,
   "sideBar": true,
   "skip_h1_title": false,
   "title_cell": "Table of Contents",
   "title_sidebar": "Contents",
   "toc_cell": false,
   "toc_position": {},
   "toc_section_display": true,
   "toc_window_display": false
  }
 },
 "nbformat": 4,
 "nbformat_minor": 2
}
