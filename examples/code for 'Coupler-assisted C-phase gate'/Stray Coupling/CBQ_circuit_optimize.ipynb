{
 "cells": [
  {
   "cell_type": "code",
   "execution_count": 1,
   "metadata": {},
   "outputs": [],
   "source": [
    "import sys\n",
    "import numpy as np\n",
    "import time\n",
    "import matplotlib.pyplot as plt\n",
    "from scipy import interpolate \n",
    "sys.path.append(r'C:\\Chuji\\Code_and_Data\\MyCode')\n",
    "\n",
    "import Circuit_Simulator \n",
    "import PulseGenerator as PG\n",
    "from toolfunc import *\n",
    "from toolfunc.adia_analysis import *\n",
    "from toolfunc.pulse_filter import *\n",
    "import scipy.optimize as sci_op\n",
    "from toolfunc import DE"
   ]
  },
  {
   "cell_type": "code",
   "execution_count": 50,
   "metadata": {},
   "outputs": [
    {
     "name": "stdout",
     "output_type": "stream",
     "text": [
      "{'Q1_freq': '6000.0MHz', 'Q1_anhar': '-125.0MHz', 'Q2_freq': '1000.0MHz', 'Q2_anhar': '-50.0MHz', 'Q3_freq': '5800.0MHz', 'Q3_anhar': '-125.0MHz', 'g12': '97.9796MHz', 'g13': '-29.4958MHz', 'g23': '96.3328MHz'}\n"
     ]
    },
    {
     "data": {
      "image/png": "[encoded data removed]",
      "text/plain": [
       "<Figure size 432x288 with 1 Axes>"
      ]
     },
     "metadata": {
      "needs_background": "light"
     },
     "output_type": "display_data"
    }
   ],
   "source": [
    "raw_config = Circuit_Simulator.RawConfig(qubit_num=3,dimension=3,circuit_type=1,initial_state='ground',sampling_rate=1e9)\n",
    "raw_config.load_default_value(modulation=True,decoherence=False,use_capacitance=False)\n",
    "\n",
    "flux_pulse = np.linspace(1,0,601)\n",
    "# flux_pulse = np.linspace(8/9,0/9,6000)\n",
    "freq_arr =5e9 -flux_pulse * (5e9 - 1e9)\n",
    "\n",
    "raw_config.setValue('Q1 f01_max',6.00e9)\n",
    "raw_config.setValue('Q2 f01_max',5e9)\n",
    "raw_config.setValue('Q3 f01_max',5.8e9)\n",
    "raw_config.setValue('Q1 f01_min',1e9)\n",
    "raw_config.setValue('Q2 f01_min',1e9)\n",
    "raw_config.setValue('Q3 f01_min',1e9)\n",
    "raw_config.setValue('Q1 Ec',0.25e9)\n",
    "raw_config.setValue('Q2 Ec',0.1e9)\n",
    "raw_config.setValue('Q3 Ec',0.25e9)\n",
    "\n",
    "raw_config.setValue('r12',0.04)\n",
    "raw_config.setValue('r23',0.04)\n",
    "raw_config.setValue('r13',-0.005)\n",
    "\n",
    "raw_config.setValue('Q2 Voltage period',-1)\n",
    "raw_config.setValue('Q2 Voltage operating point',0)\n",
    "raw_config.setValue('Q2 Flux',flux_pulse)\n",
    "\n",
    "simu_config = Circuit_Simulator.read_config(raw_config.get_dict())\n",
    "Simulator = Circuit_Simulator.Simulator(simu_config)\n",
    "Simulator.show_pulse()"
   ]
  },
  {
   "cell_type": "code",
   "execution_count": 51,
   "metadata": {},
   "outputs": [
    {
     "data": {
      "image/png": "[encoded data removed]",
      "text/plain": [
       "<Figure size 460.8x432 with 1 Axes>"
      ]
     },
     "metadata": {
      "needs_background": "light"
     },
     "output_type": "display_data"
    }
   ],
   "source": [
    "Simulator.performsimulation(solver_type=2,resample_factor=1,eigen_cloest_to_bare=False ,sort_by_maximum_overlap=True,gap=12e6)\n",
    "\n",
    "fig = plt.figure(figsize=[6.4,6])\n",
    "ax = fig.add_subplot(111)\n",
    "\n",
    "eigen_trace = Simulator.EigenResult.get_Ener_gap_trace('101-100-001+000')\n",
    "ax.plot(freq_arr,np.abs(eigen_trace)/1e6)\n",
    "\n",
    "ax.set_yscale('log')"
   ]
  },
  {
   "cell_type": "code",
   "execution_count": null,
   "metadata": {},
   "outputs": [],
   "source": []
  },
  {
   "cell_type": "code",
   "execution_count": null,
   "metadata": {},
   "outputs": [],
   "source": []
  },
  {
   "cell_type": "code",
   "execution_count": null,
   "metadata": {},
   "outputs": [],
   "source": []
  },
  {
   "cell_type": "code",
   "execution_count": null,
   "metadata": {},
   "outputs": [],
   "source": []
  },
  {
   "cell_type": "code",
   "execution_count": 47,
   "metadata": {},
   "outputs": [],
   "source": [
    "def cost_func(pulse_params,*args):\n",
    "    gate_time,SRATE=args\n",
    "    total_len = gate_time + 10e-9\n",
    "    \n",
    "    lamb1 = pulse_params\n",
    "\n",
    "    Seq=PG.Sequence(total_len=total_len,sample_rate=SRATE,complex_trace=False)\n",
    "    Seq.clear_pulse(tips_on=False)\n",
    "    Seq.add_pulse('Adiabatic',t0=total_len/2,width=gate_time,plateau=0e-9,frequency=0,min_C=1e9,down_tuning=True,F_Terms=1,Lcoeff=np.array(lamb1),Q1_freq=6.0e9,\n",
    "                 CPLR_idle_freq=4.95e9,Q2_freq=5.8e9,constant_coupling=False,r1c=0.03,r2c=0.03,r12=-0.005,anhar_CPLR=-100e6,\n",
    "                 anhar_Q1=-250e6,anhar_Q2=-250e6,negative_amplitude=False,dfdV=4.95e9-1e9,gap_threshold=8e6,freqpoints=301,pulsepoints=401)\n",
    "    Seq.add_filter('Gauss Low Pass',300e6)\n",
    "    flux_pulse=Seq.get_sequence()\n",
    "    flux_pulse[flux_pulse>0.5]=0.5\n",
    "\n",
    "    raw_config = Circuit_Simulator.RawConfig(qubit_num=3,dimension=3,circuit_type=1,initial_state='-Z+Z+Z',sampling_rate=SRATE)\n",
    "    raw_config.load_default_value(modulation=True,decoherence=False,use_capacitance=False)\n",
    "    raw_config.setValue('Q1 f01_max',6.00e9)\n",
    "    raw_config.setValue('Q2 f01_max',4.95e9)\n",
    "    raw_config.setValue('Q3 f01_max',5.8e9)\n",
    "    raw_config.setValue('Q1 f01_min',1e9)\n",
    "    raw_config.setValue('Q2 f01_min',1e9)\n",
    "    raw_config.setValue('Q3 f01_min',1e9)\n",
    "    raw_config.setValue('Q1 Ec',0.25e9)\n",
    "    raw_config.setValue('Q2 Ec',0.1e9)\n",
    "    raw_config.setValue('Q3 Ec',0.25e9)\n",
    "\n",
    "    raw_config.setValue('r12',0.03)\n",
    "    raw_config.setValue('r23',0.03)\n",
    "    raw_config.setValue('r13',-0.005)\n",
    "    raw_config.setValue('Q2 Voltage period',-1)\n",
    "    raw_config.setValue('Q2 Voltage operating point',0)\n",
    "    raw_config.setValue('Q2 Flux',flux_pulse)\n",
    "\n",
    "    simu_config = Circuit_Simulator.read_config(raw_config.get_dict())\n",
    "    Simulator = Circuit_Simulator.Simulator(simu_config)\n",
    "\n",
    "    Simulator.performsimulation(solver_type=1)\n",
    "    Simulator.UnitaryResult.get_U(-1)\n",
    "    Simulator.UnitaryResult.get_subspace_operator(['000','001','100','101'])\n",
    "    Simulator.UnitaryResult.remove_single_qubit_gate()\n",
    "    Simulator.UnitaryResult.set_Target_gate('CZ')\n",
    "    Simulator.UnitaryResult.get_Gate_Fidelity()\n",
    "    fidelity = Simulator.UnitaryResult.Gate_Fidelity\n",
    "\n",
    "    print('lamb1:',lamb1)\n",
    "    print('error:',1-fidelity)\n",
    "    return 1 - fidelity"
   ]
  },
  {
   "cell_type": "code",
   "execution_count": 49,
   "metadata": {},
   "outputs": [
    {
     "name": "stdout",
     "output_type": "stream",
     "text": [
      "lamb1: [0.5]\n",
      "error: 0.6537344211797373\n",
      "lamb1: [0.525]\n",
      "error: 0.6278158108890495\n",
      "lamb1: [0.55]\n",
      "error: 0.5954272859814704\n",
      "lamb1: [0.575]\n",
      "error: 0.5549433818252348\n",
      "lamb1: [0.625]\n",
      "error: 0.44141214944260065\n",
      "lamb1: [0.675]\n",
      "error: 0.2698225157396763\n",
      "lamb1: [0.775]\n",
      "error: 0.05005605814118208\n",
      "lamb1: [0.875]\n",
      "error: 0.0017016963330694912\n",
      "lamb1: [1.075]\n",
      "error: 0.07735656538054847\n",
      "lamb1: [0.975]\n",
      "error: 0.0206944135715722\n",
      "lamb1: [0.775]\n",
      "error: 0.05005605814118319\n",
      "lamb1: [0.925]\n",
      "error: 0.0043776364457720485\n",
      "lamb1: [0.825]\n",
      "error: 0.014287562367537365\n",
      "lamb1: [0.9]\n",
      "error: 0.0012137777247407389\n",
      "lamb1: [0.925]\n",
      "error: 0.0043776364457720485\n",
      "lamb1: [0.8875]\n",
      "error: 0.0009517352365724374\n",
      "lamb1: [0.875]\n",
      "error: 0.0017016963330797052\n",
      "lamb1: [0.89375]\n",
      "error: 0.0009762880355121961\n",
      "lamb1: [0.88125]\n",
      "error: 0.0011978799291536557\n",
      "lamb1: [0.890625]\n",
      "error: 0.0009662820603667521\n",
      "lamb1: [0.884375]\n",
      "error: 0.0010954439256587456\n",
      "lamb1: [0.8890625]\n",
      "error: 0.0007338438303572392\n",
      "lamb1: [0.890625]\n",
      "error: 0.0009662820603667521\n",
      "lamb1: [0.88828125]\n",
      "error: 0.0007776508442175478\n",
      "lamb1: [0.88984375]\n",
      "error: 0.0006840348585611666\n",
      "lamb1: [0.890625]\n",
      "error: 0.0009662820603667521\n",
      "lamb1: [0.890625]\n",
      "error: 0.0009662820603667521\n",
      "lamb1: [0.88945313]\n",
      "error: 0.0008822075264013352\n",
      "lamb1: [0.88945313]\n",
      "error: 0.0008822075264013352\n",
      "lamb1: [0.89023438]\n",
      "error: 0.0009887513676971604\n",
      "lamb1: [0.88964844]\n",
      "error: 0.0007201808343791916\n",
      "lamb1: [0.89003906]\n",
      "error: 0.000968620466627268\n",
      "lamb1: [0.88974609]\n",
      "error: 0.0007281151414016973\n",
      "lamb1: [0.88974609]\n",
      "error: 0.0007281151414016973\n",
      "lamb1: [0.88994141]\n",
      "error: 0.0009462385216069125\n",
      "lamb1: [0.88979492]\n",
      "error: 0.0007350272052830675\n",
      "lamb1: [0.88979492]\n",
      "error: 0.0007350272052830675\n",
      "lamb1: [0.88989258]\n",
      "error: 0.0009327053333990643\n",
      "lamb1: [0.88981934]\n",
      "error: 0.8583766413606183\n",
      "lamb1: [0.88981934]\n",
      "error: 0.8583766413606183\n",
      "lamb1: [0.88986816]\n",
      "error: 0.0010542973876036532\n",
      "lamb1: [0.88985596]\n",
      "error: 0.000976575527536938\n",
      "lamb1: [0.88983154]\n",
      "error: 0.000932796849346218\n",
      "lamb1: [0.88983765]\n",
      "error: 0.0007263700769821746\n",
      "lamb1: [0.88984985]\n",
      "error: 0.0009296244810491627\n",
      "lamb1: [0.8898407]\n",
      "error: 0.000718432981851036\n",
      "lamb1: [0.8898468]\n",
      "error: 0.0009294276889230124\n",
      "lamb1: [0.88984222]\n",
      "error: 0.0008893397512853563\n",
      "lamb1: [0.88984222]\n",
      "error: 0.0008893397512853563\n",
      "lamb1: [0.88984528]\n",
      "error: 0.0009726335490123361\n",
      "lamb1: [0.88984299]\n",
      "error: 0.0008724435024428656\n",
      "lamb1: [0.88984451]\n",
      "error: 0.22978699507041678\n",
      "lamb1: [0.88984337]\n",
      "error: 0.0007121594638965778\n",
      "lamb1: [0.88984413]\n",
      "error: 0.0007085193209037666\n",
      "lamb1: [0.88984394]\n",
      "error: 0.0007975720733217617\n",
      "lamb1: [0.88984356]\n",
      "error: 0.0008448612292534241\n",
      "lamb1: [0.88984394]\n",
      "error: 0.0007974897302258643\n",
      "lamb1: [0.88984385]\n",
      "error: 0.0008038468098919838\n",
      "lamb1: [0.88984365]\n",
      "error: 0.0008400043613945307\n",
      "lamb1: [0.88984385]\n",
      "error: 0.0008037796426499932\n",
      "lamb1: [0.8898438]\n",
      "error: 0.0006808269775778752\n",
      "Optimization terminated successfully.\n",
      "         Current function value: 0.000681\n",
      "         Iterations: 27\n",
      "         Function evaluations: 61\n"
     ]
    }
   ],
   "source": [
    "SRATE=10e9\n",
    "gate_time_arr =[50e-9]\n",
    "raw_initial_seeds=np.array([0.5])\n",
    "\n",
    "for gate_time in gate_time_arr:\n",
    "    time_start = time.time()\n",
    "    DATA = sci_op.minimize(cost_func,raw_initial_seeds,args=(gate_time,SRATE), method='Nelder-Mead', options={'disp': True,'ftol':1e-5,'xtol':1e-5,'maxiter':30})\n",
    "\n"
   ]
  },
  {
   "cell_type": "code",
   "execution_count": null,
   "metadata": {},
   "outputs": [],
   "source": []
  },
  {
   "cell_type": "code",
   "execution_count": 42,
   "metadata": {},
   "outputs": [
    {
     "data": {
      "text/plain": [
       "[<matplotlib.lines.Line2D at 0x1f00e80c978>]"
      ]
     },
     "execution_count": 42,
     "metadata": {},
     "output_type": "execute_result"
    },
    {
     "data": {
      "image/png": "[encoded data removed]",
      "text/plain": [
       "<Figure size 432x288 with 1 Axes>"
      ]
     },
     "metadata": {
      "needs_background": "light"
     },
     "output_type": "display_data"
    }
   ],
   "source": [
    "lamb1=0.58\n",
    "gate_time=60e-9\n",
    "total_len = gate_time + 10e-9\n",
    "SRATE=10e9\n",
    "\n",
    "Seq=PG.Sequence(total_len=total_len,sample_rate=SRATE,complex_trace=False)\n",
    "Seq.clear_pulse(tips_on=False)\n",
    "Seq.add_pulse('Adiabatic',t0=total_len/2,width=gate_time,plateau=0e-9,frequency=0,F_Terms=1,Lcoeff=np.array(lamb1),min_C=1e9,down_tuning=True,Q1_freq=6.0e9,\n",
    "             CPLR_idle_freq=4.95e9,Q2_freq=5.8e9,constant_coupling=False,r1c=0.03,r2c=0.03,r12=-0.005,anhar_CPLR=-100e6,\n",
    "             anhar_Q1=-250e6,anhar_Q2=-250e6,negative_amplitude=False,dfdV=4.95e9-1e9,gap_threshold=8e6,freqpoints=301,pulsepoints=401)\n",
    "Seq.add_filter('Gauss Low Pass',300e6)\n",
    "flux_pulse=Seq.get_sequence()\n",
    "plt.plot(flux_pulse)"
   ]
  },
  {
   "cell_type": "code",
   "execution_count": 44,
   "metadata": {},
   "outputs": [
    {
     "ename": "TypeError",
     "evalue": "'float' object cannot be interpreted as an integer",
     "output_type": "error",
     "traceback": [
      "\u001b[1;31m---------------------------------------------------------------------------\u001b[0m",
      "\u001b[1;31mTypeError\u001b[0m                                 Traceback (most recent call last)",
      "\u001b[1;32m<ipython-input-44-a82ad5326ec3>\u001b[0m in \u001b[0;36m<module>\u001b[1;34m\u001b[0m\n\u001b[1;32m----> 1\u001b[1;33m \u001b[0mnp\u001b[0m\u001b[1;33m.\u001b[0m\u001b[0mmin\u001b[0m\u001b[1;33m(\u001b[0m\u001b[0mflux_pulse\u001b[0m\u001b[1;33m,\u001b[0m\u001b[1;36m0.5\u001b[0m\u001b[1;33m)\u001b[0m\u001b[1;33m\u001b[0m\u001b[1;33m\u001b[0m\u001b[0m\n\u001b[0m",
      "\u001b[1;32m<__array_function__ internals>\u001b[0m in \u001b[0;36mamin\u001b[1;34m(*args, **kwargs)\u001b[0m\n",
      "\u001b[1;32m~\\AppData\\Roaming\\Python\\Python37\\site-packages\\numpy\\core\\fromnumeric.py\u001b[0m in \u001b[0;36mamin\u001b[1;34m(a, axis, out, keepdims, initial, where)\u001b[0m\n\u001b[0;32m   2829\u001b[0m     \"\"\"\n\u001b[0;32m   2830\u001b[0m     return _wrapreduction(a, np.minimum, 'min', axis, None, out,\n\u001b[1;32m-> 2831\u001b[1;33m                           keepdims=keepdims, initial=initial, where=where)\n\u001b[0m\u001b[0;32m   2832\u001b[0m \u001b[1;33m\u001b[0m\u001b[0m\n\u001b[0;32m   2833\u001b[0m \u001b[1;33m\u001b[0m\u001b[0m\n",
      "\u001b[1;32m~\\AppData\\Roaming\\Python\\Python37\\site-packages\\numpy\\core\\fromnumeric.py\u001b[0m in \u001b[0;36m_wrapreduction\u001b[1;34m(obj, ufunc, method, axis, dtype, out, **kwargs)\u001b[0m\n\u001b[0;32m     85\u001b[0m                 \u001b[1;32mreturn\u001b[0m \u001b[0mreduction\u001b[0m\u001b[1;33m(\u001b[0m\u001b[0maxis\u001b[0m\u001b[1;33m=\u001b[0m\u001b[0maxis\u001b[0m\u001b[1;33m,\u001b[0m \u001b[0mout\u001b[0m\u001b[1;33m=\u001b[0m\u001b[0mout\u001b[0m\u001b[1;33m,\u001b[0m \u001b[1;33m**\u001b[0m\u001b[0mpasskwargs\u001b[0m\u001b[1;33m)\u001b[0m\u001b[1;33m\u001b[0m\u001b[1;33m\u001b[0m\u001b[0m\n\u001b[0;32m     86\u001b[0m \u001b[1;33m\u001b[0m\u001b[0m\n\u001b[1;32m---> 87\u001b[1;33m     \u001b[1;32mreturn\u001b[0m \u001b[0mufunc\u001b[0m\u001b[1;33m.\u001b[0m\u001b[0mreduce\u001b[0m\u001b[1;33m(\u001b[0m\u001b[0mobj\u001b[0m\u001b[1;33m,\u001b[0m \u001b[0maxis\u001b[0m\u001b[1;33m,\u001b[0m \u001b[0mdtype\u001b[0m\u001b[1;33m,\u001b[0m \u001b[0mout\u001b[0m\u001b[1;33m,\u001b[0m \u001b[1;33m**\u001b[0m\u001b[0mpasskwargs\u001b[0m\u001b[1;33m)\u001b[0m\u001b[1;33m\u001b[0m\u001b[1;33m\u001b[0m\u001b[0m\n\u001b[0m\u001b[0;32m     88\u001b[0m \u001b[1;33m\u001b[0m\u001b[0m\n\u001b[0;32m     89\u001b[0m \u001b[1;33m\u001b[0m\u001b[0m\n",
      "\u001b[1;31mTypeError\u001b[0m: 'float' object cannot be interpreted as an integer"
     ]
    }
   ],
   "source": [
    "np.min(flux_pulse,0.5)"
   ]
  },
  {
   "cell_type": "code",
   "execution_count": 45,
   "metadata": {},
   "outputs": [],
   "source": [
    "flux_pulse[flux_pulse>0.5]=0.5"
   ]
  },
  {
   "cell_type": "code",
   "execution_count": 46,
   "metadata": {},
   "outputs": [
    {
     "data": {
      "text/plain": [
       "[<matplotlib.lines.Line2D at 0x1f00e94abe0>]"
      ]
     },
     "execution_count": 46,
     "metadata": {},
     "output_type": "execute_result"
    },
    {
     "data": {
      "image/png": "[encoded data removed]",
      "text/plain": [
       "<Figure size 432x288 with 1 Axes>"
      ]
     },
     "metadata": {
      "needs_background": "light"
     },
     "output_type": "display_data"
    }
   ],
   "source": [
    "plt.plot(flux_pulse)"
   ]
  },
  {
   "cell_type": "code",
   "execution_count": null,
   "metadata": {},
   "outputs": [],
   "source": []
  }
 ],
 "metadata": {
  "kernelspec": {
   "display_name": "Python 3",
   "language": "python",
   "name": "python3"
  },
  "language_info": {
   "codemirror_mode": {
    "name": "ipython",
    "version": 3
   },
   "file_extension": ".py",
   "mimetype": "text/x-python",
   "name": "python",
   "nbconvert_exporter": "python",
   "pygments_lexer": "ipython3",
   "version": "3.7.1"
  },
  "toc": {
   "base_numbering": 1,
   "nav_menu": {},
   "number_sections": true,
   "sideBar": true,
   "skip_h1_title": false,
   "title_cell": "Table of Contents",
   "title_sidebar": "Contents",
   "toc_cell": false,
   "toc_position": {},
   "toc_section_display": true,
   "toc_window_display": false
  }
 },
 "nbformat": 4,
 "nbformat_minor": 2
}
