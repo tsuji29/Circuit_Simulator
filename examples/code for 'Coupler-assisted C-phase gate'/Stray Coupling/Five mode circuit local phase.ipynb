{
 "cells": [
  {
   "cell_type": "code",
   "execution_count": 1,
   "metadata": {},
   "outputs": [],
   "source": [
    "import sys\n",
    "import numpy as np\n",
    "import time\n",
    "import matplotlib.pyplot as plt\n",
    "from scipy import interpolate \n",
    "sys.path.append(r'C:\\Chuji\\Code_and_Data\\MyCode')\n",
    "\n",
    "import Circuit_Simulator \n",
    "import PulseGenerator as PG\n",
    "from toolfunc import *\n",
    "from toolfunc.adia_analysis import *\n",
    "from toolfunc.pulse_filter import *\n",
    "import scipy.optimize as sci_op\n",
    "from toolfunc import DE\n",
    "from Circuit_Simulator.Qobj import *"
   ]
  },
  {
   "cell_type": "code",
   "execution_count": 2,
   "metadata": {},
   "outputs": [
    {
     "data": {
      "text/plain": [
       "[<matplotlib.lines.Line2D at 0x13bdf32d4e0>]"
      ]
     },
     "execution_count": 2,
     "metadata": {},
     "output_type": "execute_result"
    },
    {
     "data": {
      "image/png": "[encoded data removed]",
      "text/plain": [
       "<Figure size 432x288 with 1 Axes>"
      ]
     },
     "metadata": {
      "needs_background": "light"
     },
     "output_type": "display_data"
    }
   ],
   "source": [
    "gate_time=30e-9\n",
    "SRATE=10e9\n",
    "f_term=1\n",
    "lamb1 = 1\n",
    "total_len = gate_time + 8e-9\n",
    "\n",
    "# Seq=PG.Sequence(total_len=total_len,sample_rate=SRATE,complex_trace=False)\n",
    "# Seq.clear_pulse(tips_on=False)\n",
    "# Seq.add_pulse('Adiabatic',t0=total_len/2,width=gate_time,plateau=0e-9,frequency=0,F_Terms=f_term,Lcoeff=np.array(lamb1),Q1_freq=6.0e9,\n",
    "#              CPLR_idle_freq=7.87e9,Q2_freq=5.4e9,constant_coupling=False,r1c=0.018,r2c=0.018,r12=0.0015,anhar_CPLR=-300e6,\n",
    "#              anhar_Q1=-250e6,anhar_Q2=-250e6,negative_amplitude=False,dfdV=7.87e9-1e9,gap_threshold=8e6,freqpoints=301,pulsepoints=601)\n",
    "# Seq.add_filter('Gauss Low Pass',300e6)\n",
    "# flux_pulse=Seq.get_sequence()\n",
    "# flux_pulse[0]=0\n",
    "\n",
    "Seq=PG.Sequence(total_len=total_len,sample_rate=SRATE,complex_trace=False)\n",
    "Seq.clear_pulse(tips_on=False)\n",
    "Seq.add_pulse('Cos',t0=total_len/2,width=gate_time,plateau=0e-9,frequency=0,amplitude=0.1,half_cosine=True)\n",
    "Seq.add_filter('Gauss Low Pass',300e6)\n",
    "flux_pulse=Seq.get_sequence()\n",
    "flux_pulse[0]=0\n",
    "\n",
    "plt.plot(flux_pulse)"
   ]
  },
  {
   "cell_type": "code",
   "execution_count": 3,
   "metadata": {},
   "outputs": [
    {
     "name": "stdout",
     "output_type": "stream",
     "text": [
      "{'Q1_freq': '6000.0MHz', 'Q1_anhar': '-125.0MHz', 'Q2_freq': '7870.0MHz', 'Q2_anhar': '-150.0MHz', 'Q3_freq': '5400.0MHz', 'Q3_anhar': '-125.0MHz', 'Q4_freq': '8220.0MHz', 'Q4_anhar': '-150.0MHz', 'Q5_freq': '6100.0MHz', 'Q5_anhar': '-125.0MHz', 'g12': '123.6903MHz', 'g13': '8.5381MHz', 'g14': '0.0MHz', 'g15': '0.0MHz', 'g23': '117.3429MHz', 'g24': '0.0MHz', 'g25': '0.0MHz', 'g34': '119.9238MHz', 'g35': '8.609MHz', 'g45': '127.4598MHz'}\n"
     ]
    },
    {
     "data": {
      "text/latex": [
       "Quantum object: dims = [[8], [8]], shape = (8, 8), type = oper, isherm = False\\begin{equation*}\\left(\\begin{array}{*{11}c}(0.534+0.845j) & 0.0 & 0.0 & 0.0 & 0.0 & 0.0 & (-2.860\\times10^{-12}+4.310\\times10^{-12}j) & 0.0\\\\0.0 & (0.967-0.255j) & (-6.058\\times10^{-09}-2.448\\times10^{-09}j) & 0.0 & (2.150\\times10^{-06}+2.717\\times10^{-06}j) & 0.0 & 0.0 & (3.247\\times10^{-12}+4.034\\times10^{-12}j)\\\\0.0 & (4.205\\times10^{-09}+5.001\\times10^{-09}j) & (0.040+0.999j) & 0.0 & (-2.952\\times10^{-05}-1.495\\times10^{-05}j) & 0.0 & 0.0 & 0.0\\\\0.0 & 0.0 & 0.0 & (0.964+0.266j) & 0.0 & (-2.317\\times10^{-05}+2.361\\times10^{-05}j) & (2.181\\times10^{-07}+1.529\\times10^{-06}j) & 0.0\\\\0.0 & (3.003\\times10^{-06}+1.729\\times10^{-06}j) & (3.051\\times10^{-05}-1.282\\times10^{-05}j) & 0.0 & (0.110-0.994j) & 0.0 & 0.0 & 0.0\\\\0.0 & 0.0 & 0.0 & (-2.985\\times10^{-06}-3.295\\times10^{-05}j) & 0.0 & (-0.914-0.405j) & (3.218\\times10^{-09}+5.805\\times10^{-09}j) & 0.0\\\\(2.493\\times10^{-12}+4.532\\times10^{-12}j) & 0.0 & 0.0 & (7.680\\times10^{-07}+1.340\\times10^{-06}j) & 0.0 & (-1.243\\times10^{-10}-6.637\\times10^{-09}j) & (0.597-0.802j) & 0.0\\\\0.0 & (5.080\\times10^{-12}-1.007\\times10^{-12}j) & 0.0 & 0.0 & 0.0 & 0.0 & 0.0 & (-0.583-0.812j)\\\\\\end{array}\\right)\\end{equation*}"
      ],
      "text/plain": [
       "Quantum object: dims = [[8], [8]], shape = (8, 8), type = oper, isherm = False\n",
       "Qobj data =\n",
       "[[ 5.34372739e-01+8.45248943e-01j  0.00000000e+00+0.00000000e+00j\n",
       "   0.00000000e+00+0.00000000e+00j  0.00000000e+00+0.00000000e+00j\n",
       "   0.00000000e+00+0.00000000e+00j  0.00000000e+00+0.00000000e+00j\n",
       "  -2.85983757e-12+4.31037835e-12j  0.00000000e+00+0.00000000e+00j]\n",
       " [ 0.00000000e+00+0.00000000e+00j  9.66968907e-01-2.54894357e-01j\n",
       "  -6.05797526e-09-2.44846615e-09j  0.00000000e+00+0.00000000e+00j\n",
       "   2.15035396e-06+2.71697167e-06j  0.00000000e+00+0.00000000e+00j\n",
       "   0.00000000e+00+0.00000000e+00j  3.24674048e-12+4.03416177e-12j]\n",
       " [ 0.00000000e+00+0.00000000e+00j  4.20510038e-09+5.00112319e-09j\n",
       "   3.97513129e-02+9.99209604e-01j  0.00000000e+00+0.00000000e+00j\n",
       "  -2.95236765e-05-1.49470199e-05j  0.00000000e+00+0.00000000e+00j\n",
       "   0.00000000e+00+0.00000000e+00j  0.00000000e+00+0.00000000e+00j]\n",
       " [ 0.00000000e+00+0.00000000e+00j  0.00000000e+00+0.00000000e+00j\n",
       "   0.00000000e+00+0.00000000e+00j  9.64076423e-01+2.65625016e-01j\n",
       "   0.00000000e+00+0.00000000e+00j -2.31706392e-05+2.36125517e-05j\n",
       "   2.18111932e-07+1.52873372e-06j  0.00000000e+00+0.00000000e+00j]\n",
       " [ 0.00000000e+00+0.00000000e+00j  3.00266186e-06+1.72915555e-06j\n",
       "   3.05091340e-05-1.28161469e-05j  0.00000000e+00+0.00000000e+00j\n",
       "   1.10496186e-01-9.93876548e-01j  0.00000000e+00+0.00000000e+00j\n",
       "   0.00000000e+00+0.00000000e+00j  0.00000000e+00+0.00000000e+00j]\n",
       " [ 0.00000000e+00+0.00000000e+00j  0.00000000e+00+0.00000000e+00j\n",
       "   0.00000000e+00+0.00000000e+00j -2.98494591e-06-3.29472491e-05j\n",
       "   0.00000000e+00+0.00000000e+00j -9.14409626e-01-4.04790111e-01j\n",
       "   3.21848703e-09+5.80523786e-09j  0.00000000e+00+0.00000000e+00j]\n",
       " [ 2.49322950e-12+4.53232618e-12j  0.00000000e+00+0.00000000e+00j\n",
       "   0.00000000e+00+0.00000000e+00j  7.67987984e-07+1.33969922e-06j\n",
       "   0.00000000e+00+0.00000000e+00j -1.24268237e-10-6.63656531e-09j\n",
       "   5.96958501e-01-8.02272090e-01j  0.00000000e+00+0.00000000e+00j]\n",
       " [ 0.00000000e+00+0.00000000e+00j  5.07959490e-12-1.00661723e-12j\n",
       "   0.00000000e+00+0.00000000e+00j  0.00000000e+00+0.00000000e+00j\n",
       "   0.00000000e+00+0.00000000e+00j  0.00000000e+00+0.00000000e+00j\n",
       "   0.00000000e+00+0.00000000e+00j -5.83050019e-01-8.12436233e-01j]]"
      ]
     },
     "execution_count": 3,
     "metadata": {},
     "output_type": "execute_result"
    },
    {
     "data": {
      "image/png": "[encoded data removed]",
      "text/plain": [
       "<Figure size 432x288 with 1 Axes>"
      ]
     },
     "metadata": {
      "needs_background": "light"
     },
     "output_type": "display_data"
    }
   ],
   "source": [
    "gate_time=30e-9\n",
    "SRATE=10e9\n",
    "total_len = gate_time + 8e-9\n",
    "\n",
    "Seq=PG.Sequence(total_len=total_len,sample_rate=SRATE,complex_trace=False)\n",
    "Seq.clear_pulse(tips_on=False)\n",
    "Seq.add_pulse('Cos',t0=total_len/2,width=gate_time,plateau=0e-9,frequency=0,amplitude=0.101,half_cosine=True)\n",
    "Seq.add_filter('Gauss Low Pass',300e6)\n",
    "flux_pulse=Seq.get_sequence()\n",
    "\n",
    "raw_config = Circuit_Simulator.RawConfig(qubit_num=5,dimension=3,circuit_type=1,initial_state='+Z+Z+Z+Z+Z',sampling_rate=SRATE)\n",
    "raw_config.load_default_value(modulation=True,decoherence=False,use_capacitance=False)\n",
    "\n",
    "raw_config.setValue('Q1 f01_max',6.0e9)\n",
    "raw_config.setValue('Q2 f01_max',7.87e9)\n",
    "raw_config.setValue('Q3 f01_max',5.4e9)\n",
    "raw_config.setValue('Q4 f01_max',8.22e9)\n",
    "raw_config.setValue('Q5 f01_max',6.1e9)\n",
    "\n",
    "raw_config.setValue('Q1 f01_min',1e9)\n",
    "raw_config.setValue('Q2 f01_min',1e9)\n",
    "raw_config.setValue('Q3 f01_min',1e9)\n",
    "raw_config.setValue('Q4 f01_min',1e9)\n",
    "raw_config.setValue('Q5 f01_min',1e9)    \n",
    "\n",
    "\n",
    "raw_config.setValue('Q1 Ec',0.25e9)\n",
    "raw_config.setValue('Q2 Ec',0.30e9)\n",
    "raw_config.setValue('Q3 Ec',0.25e9)\n",
    "raw_config.setValue('Q4 Ec',0.30e9)\n",
    "raw_config.setValue('Q5 Ec',0.25e9)\n",
    "\n",
    "raw_config.setValue('r12',0.018)\n",
    "raw_config.setValue('r23',0.018)\n",
    "raw_config.setValue('r13',0.0015)\n",
    "raw_config.setValue('r34',0.018)\n",
    "raw_config.setValue('r45',0.018)\n",
    "raw_config.setValue('r35',0.0015)\n",
    "\n",
    "raw_config.setValue('r14',0.0)\n",
    "raw_config.setValue('r15',0.0)\n",
    "raw_config.setValue('r24',0.0000)\n",
    "raw_config.setValue('r25',0.0000)\n",
    "\n",
    "raw_config.setValue('Q2 Voltage period',-1)\n",
    "raw_config.setValue('Q2 Voltage operating point',0)\n",
    "raw_config.setValue('Q2 Flux',flux_pulse)\n",
    "\n",
    "simu_config = Circuit_Simulator.read_config(raw_config.get_dict())\n",
    "Simulator = Circuit_Simulator.Simulator(simu_config)\n",
    "Simulator.show_pulse()\n",
    "\n",
    "Simulator.performsimulation(solver_type=1)\n",
    "Simulator.UnitaryResult.get_U(-1)\n",
    "\n",
    "Simulator.UnitaryResult.get_subspace_operator(['00000','00001','00100','00101','10000','10001','10100','10101'])\n",
    "Simulator.UnitaryResult.U_sub "
   ]
  },
  {
   "cell_type": "code",
   "execution_count": 4,
   "metadata": {},
   "outputs": [],
   "source": [
    "%matplotlib inline"
   ]
  },
  {
   "cell_type": "code",
   "execution_count": null,
   "metadata": {},
   "outputs": [],
   "source": []
  },
  {
   "cell_type": "code",
   "execution_count": 6,
   "metadata": {},
   "outputs": [],
   "source": [
    "diag_value = Simulator.UnitaryResult.U_sub.diag()"
   ]
  },
  {
   "cell_type": "code",
   "execution_count": 7,
   "metadata": {},
   "outputs": [
    {
     "name": "stdout",
     "output_type": "stream",
     "text": [
      "-2.467104903178196 0.5240036816853255 -1.2647693060407716\n"
     ]
    }
   ],
   "source": [
    "phaseQ3=np.angle(diag_value[1])-np.angle(diag_value[0])\n",
    "phaseQ2=np.angle(diag_value[2])-np.angle(diag_value[0])\n",
    "phaseQ1=np.angle(diag_value[4])-np.angle(diag_value[0])\n",
    "print(phaseQ1,phaseQ2,phaseQ3)"
   ]
  },
  {
   "cell_type": "code",
   "execution_count": null,
   "metadata": {},
   "outputs": [],
   "source": []
  },
  {
   "cell_type": "code",
   "execution_count": 15,
   "metadata": {},
   "outputs": [
    {
     "name": "stdout",
     "output_type": "stream",
     "text": [
      "[ 1.        +0.j         -0.71593959-0.69816223j -0.86187743+0.50711664j\n",
      "  0.97030067+0.24190205j -0.94300235+0.33278608j  0.90747139+0.42011389j\n",
      "  0.64682189-0.7626411j  -0.99584189+0.09109847j]\n",
      "[ 1.        +0.j         -0.71593956-0.69816226j -0.90431385+0.4268682j\n",
      "  0.94436668+0.32889447j -0.99132192+0.13145667j  0.80150467+0.59798852j\n",
      "  0.84260438-0.53853306j -0.97855639-0.20597911j]\n",
      "[ 1.        +0.j         -0.71593951-0.69816231j -0.94820436+0.31766098j\n",
      "  0.89918424+0.43757023j -0.9867816 -0.16205577j  0.59333472+0.80495584j\n",
      "  0.9881559 -0.1534533j  -0.81265986-0.58273831j]\n",
      "[ 1.        +0.j         -0.71593944-0.69816239j -0.98673898+0.16231508j\n",
      "  0.81785926+0.5754183j  -0.81187148-0.58383619j  0.17363842+0.98480947j\n",
      "  0.88948001+0.45697405j -0.31461832-0.94921825j]\n",
      "[ 1.        +0.j         -0.7159393 -0.69816253j -0.99748046-0.07094172j\n",
      "  0.66212453+0.74939382j -0.09201267-0.99575784j -0.62932506+0.77714218j\n",
      " -0.02435798+0.99970328j  0.71770687-0.69634532j]\n",
      "[ 1.        +0.j         -0.71593887-0.69816297j -0.8982648 -0.43945459j\n",
      "  0.33317947+0.94286342j  0.79346449+0.60861654j -0.14316276-0.98969541j\n",
      " -0.16801014-0.98578527j -0.57065927+0.82118618j]\n"
     ]
    }
   ],
   "source": [
    "all_phases = []\n",
    "\n",
    "for amp in np.arange(0.0,0.251,0.05):\n",
    "    gate_time=40e-9\n",
    "    SRATE=20e9\n",
    "    total_len = gate_time + 8e-9\n",
    "    Seq=PG.Sequence(total_len=total_len,sample_rate=SRATE,complex_trace=False)\n",
    "    Seq.clear_pulse(tips_on=False)\n",
    "    Seq.add_pulse('Cos',t0=total_len/2,width=gate_time,plateau=0e-9,frequency=0,amplitude=amp,half_cosine=True)\n",
    "    Seq.add_filter('Gauss Low Pass',300e6)\n",
    "    flux_pulse=Seq.get_sequence()\n",
    "    flux_pulse[0]=0\n",
    "    flux_pulse[-1]=0\n",
    "    \n",
    "    raw_config = Circuit_Simulator.RawConfig(qubit_num=5,dimension=3,circuit_type=1,initial_state='+Z+Z+Z+Z+Z',sampling_rate=SRATE)\n",
    "    raw_config.load_default_value(modulation=True,decoherence=False,use_capacitance=False)\n",
    "    raw_config.setValue('Q1 f01_max',6.0e9)\n",
    "    raw_config.setValue('Q2 f01_max',7.87e9)\n",
    "    raw_config.setValue('Q3 f01_max',5.4e9)\n",
    "    raw_config.setValue('Q4 f01_max',8.22e9)\n",
    "    raw_config.setValue('Q5 f01_max',6.1e9)\n",
    "    raw_config.setValue('Q1 f01_min',1e9)\n",
    "    raw_config.setValue('Q2 f01_min',1e9)\n",
    "    raw_config.setValue('Q3 f01_min',1e9)\n",
    "    raw_config.setValue('Q4 f01_min',1e9)\n",
    "    raw_config.setValue('Q5 f01_min',1e9)    \n",
    "    raw_config.setValue('Q1 Ec',0.25e9)\n",
    "    raw_config.setValue('Q2 Ec',0.30e9)\n",
    "    raw_config.setValue('Q3 Ec',0.25e9)\n",
    "    raw_config.setValue('Q4 Ec',0.30e9)\n",
    "    raw_config.setValue('Q5 Ec',0.25e9)\n",
    "    raw_config.setValue('r12',0.018)\n",
    "    raw_config.setValue('r23',0.018)\n",
    "    raw_config.setValue('r13',0.0015)\n",
    "    raw_config.setValue('r34',0.018)\n",
    "    raw_config.setValue('r45',0.018)\n",
    "    raw_config.setValue('r35',0.0015)\n",
    "    raw_config.setValue('r14',0.0)\n",
    "    raw_config.setValue('r15',0.0)\n",
    "    raw_config.setValue('r24',0.0000)\n",
    "    raw_config.setValue('r25',0.0000)\n",
    "    raw_config.setValue('Q2 Voltage period',-1)\n",
    "    raw_config.setValue('Q2 Voltage operating point',0)\n",
    "    raw_config.setValue('Q2 Flux',flux_pulse)\n",
    "    simu_config = Circuit_Simulator.read_config(raw_config.get_dict(),remove_zeros=False)\n",
    "    Simulator = Circuit_Simulator.Simulator(simu_config)\n",
    "#     Simulator.show_pulse()\n",
    "    Simulator.performsimulation(solver_type=1)\n",
    "    Simulator.UnitaryResult.get_U(-1)\n",
    "    Simulator.UnitaryResult.get_subspace_operator(['00000','00001','00100','00101','10000','10001','10100','10101'])\n",
    "#     Simulator.UnitaryResult.get_subspace_operator(['000','001','100','101'])\n",
    "    diag_value = Simulator.UnitaryResult.U_sub.diag()\n",
    "    \n",
    "    print(diag_value/diag_value[0])\n",
    "    all_phases.append(diag_value/diag_value[0])"
   ]
  },
  {
   "cell_type": "code",
   "execution_count": null,
   "metadata": {},
   "outputs": [],
   "source": []
  },
  {
   "cell_type": "code",
   "execution_count": 210,
   "metadata": {},
   "outputs": [],
   "source": [
    "# all_phases=phases"
   ]
  },
  {
   "cell_type": "code",
   "execution_count": 23,
   "metadata": {},
   "outputs": [
    {
     "name": "stdout",
     "output_type": "stream",
     "text": [
      "3.9177542427729817\n",
      "-2.3654333062543085\n",
      "-2.3654364286801117\n",
      "-2.3654411445502834\n",
      "-2.3654494072520293\n",
      "3.9177123168110346\n"
     ]
    }
   ],
   "source": [
    "for i in range(6):\n",
    "    print(np.angle(all_phases[i][7])-np.angle(all_phases[i][6]) )"
   ]
  },
  {
   "cell_type": "code",
   "execution_count": 25,
   "metadata": {},
   "outputs": [
    {
     "data": {
      "text/plain": [
       "3.141593774513645"
      ]
     },
     "execution_count": 25,
     "metadata": {},
     "output_type": "execute_result"
    }
   ],
   "source": [
    "(3.9177542427729817+2.3654333062543085)/2"
   ]
  },
  {
   "cell_type": "code",
   "execution_count": 212,
   "metadata": {},
   "outputs": [
    {
     "name": "stdout",
     "output_type": "stream",
     "text": [
      "1.3180190484601735\n",
      "-4.589836667027505\n",
      "1.8810131249771793\n",
      "-4.4772377661285265\n",
      "0.8113274211926106\n",
      "-3.7301456321944393\n",
      "2.7594702693252566\n"
     ]
    }
   ],
   "source": [
    "\n",
    "for i in range(7):\n",
    "    print( np.angle(all_phases[i][2])-np.angle(all_phases[i][1]) )"
   ]
  },
  {
   "cell_type": "code",
   "execution_count": null,
   "metadata": {},
   "outputs": [],
   "source": []
  },
  {
   "cell_type": "code",
   "execution_count": 221,
   "metadata": {},
   "outputs": [
    {
     "name": "stdout",
     "output_type": "stream",
     "text": [
      "2.0785748741665555e-06\n",
      "2.117601147124474e-06\n",
      "2.1427450354202777e-06\n",
      "2.185669943327585e-06\n",
      "2.2243674176349745e-06\n",
      "2.279117172391849e-06\n",
      "2.317331536209842e-06\n",
      "2.348343795328755e-06\n",
      "2.364352273333742e-06\n",
      "2.4180647442531673e-06\n",
      "2.418081564399869e-06\n",
      "2.4525408909398852e-06\n",
      "2.4141629919642536e-06\n",
      "2.3889120685982452e-06\n",
      "1.663495617113963e-06\n",
      "2.2162817820559157e-06\n",
      "1.9005061826077144e-06\n",
      "5.653530739984216e-07\n",
      "8.019146146736502e-07\n",
      "1.942280429137669e-06\n",
      "4.153465055315263e-06\n",
      "5.4398645725479185e-06\n",
      "5.664337331449362e-06\n",
      "4.911026010720302e-06\n",
      "4.3257404029345685e-06\n",
      "3.227666244299476e-06\n",
      "3.2504721773516883e-06\n",
      "4.076855690530955e-06\n",
      "4.498261451228872e-06\n",
      "4.970235932210076e-06\n"
     ]
    },
    {
     "ename": "KeyboardInterrupt",
     "evalue": "",
     "output_type": "error",
     "traceback": [
      "\u001b[1;31m---------------------------------------------------------------------------\u001b[0m",
      "\u001b[1;31mKeyboardInterrupt\u001b[0m                         Traceback (most recent call last)",
      "\u001b[1;32m<ipython-input-221-d52a94c14e4b>\u001b[0m in \u001b[0;36m<module>\u001b[1;34m\u001b[0m\n\u001b[0;32m     45\u001b[0m     \u001b[0msimu_config\u001b[0m \u001b[1;33m=\u001b[0m \u001b[0mCircuit_Simulator\u001b[0m\u001b[1;33m.\u001b[0m\u001b[0mread_config\u001b[0m\u001b[1;33m(\u001b[0m\u001b[0mraw_config\u001b[0m\u001b[1;33m.\u001b[0m\u001b[0mget_dict\u001b[0m\u001b[1;33m(\u001b[0m\u001b[1;33m)\u001b[0m\u001b[1;33m)\u001b[0m\u001b[1;33m\u001b[0m\u001b[1;33m\u001b[0m\u001b[0m\n\u001b[0;32m     46\u001b[0m     \u001b[0mSimulator\u001b[0m \u001b[1;33m=\u001b[0m \u001b[0mCircuit_Simulator\u001b[0m\u001b[1;33m.\u001b[0m\u001b[0mSimulator\u001b[0m\u001b[1;33m(\u001b[0m\u001b[0msimu_config\u001b[0m\u001b[1;33m)\u001b[0m\u001b[1;33m\u001b[0m\u001b[1;33m\u001b[0m\u001b[0m\n\u001b[1;32m---> 47\u001b[1;33m     \u001b[0mSimulator\u001b[0m\u001b[1;33m.\u001b[0m\u001b[0mperformsimulation\u001b[0m\u001b[1;33m(\u001b[0m\u001b[0msolver_type\u001b[0m\u001b[1;33m=\u001b[0m\u001b[1;36m0\u001b[0m\u001b[1;33m)\u001b[0m\u001b[1;33m\u001b[0m\u001b[1;33m\u001b[0m\u001b[0m\n\u001b[0m\u001b[0;32m     48\u001b[0m     \u001b[0mprint\u001b[0m\u001b[1;33m(\u001b[0m\u001b[0mnp\u001b[0m\u001b[1;33m.\u001b[0m\u001b[0mangle\u001b[0m\u001b[1;33m(\u001b[0m\u001b[0mSimulator\u001b[0m\u001b[1;33m.\u001b[0m\u001b[0mStateResult\u001b[0m\u001b[1;33m.\u001b[0m\u001b[0mrho_trace\u001b[0m\u001b[1;33m[\u001b[0m\u001b[1;33m-\u001b[0m\u001b[1;36m1\u001b[0m\u001b[1;33m]\u001b[0m\u001b[1;33m[\u001b[0m\u001b[1;36m0\u001b[0m\u001b[1;33m]\u001b[0m\u001b[1;33m[\u001b[0m\u001b[1;36m0\u001b[0m\u001b[1;33m]\u001b[0m\u001b[1;33m[\u001b[0m\u001b[1;36m1\u001b[0m\u001b[1;33m]\u001b[0m\u001b[1;33m)\u001b[0m\u001b[1;33m)\u001b[0m\u001b[1;33m\u001b[0m\u001b[1;33m\u001b[0m\u001b[0m\n",
      "\u001b[1;32mC:\\Chuji\\Code_and_Data\\MyCode\\Circuit_Simulator\\Circuit_Simulator.py\u001b[0m in \u001b[0;36mperformsimulation\u001b[1;34m(self, solver_type, resample_factor, save_trace, sort_by_maximum_overlap, **other_kwargs)\u001b[0m\n\u001b[0;32m     36\u001b[0m             \u001b[0mself\u001b[0m\u001b[1;33m.\u001b[0m\u001b[0mStateSolver\u001b[0m \u001b[1;33m=\u001b[0m \u001b[0mQutipMeSolver\u001b[0m\u001b[1;33m(\u001b[0m \u001b[0mself\u001b[0m\u001b[1;33m.\u001b[0m\u001b[0mSimu\u001b[0m\u001b[1;33m.\u001b[0m\u001b[0mH_Mesolve\u001b[0m\u001b[1;33m,\u001b[0m\u001b[0mself\u001b[0m\u001b[1;33m.\u001b[0m\u001b[0mSimu\u001b[0m\u001b[1;33m.\u001b[0m\u001b[0mH_collapse\u001b[0m\u001b[1;33m,\u001b[0m\u001b[0mself\u001b[0m\u001b[1;33m.\u001b[0m\u001b[0mSimu\u001b[0m\u001b[1;33m.\u001b[0m\u001b[0mtlist\u001b[0m\u001b[1;33m,\u001b[0m\u001b[0mself\u001b[0m\u001b[1;33m.\u001b[0m\u001b[0mSimu\u001b[0m\u001b[1;33m.\u001b[0m\u001b[0minit_state\u001b[0m\u001b[1;33m,\u001b[0m\u001b[1;33m**\u001b[0m\u001b[0mself\u001b[0m\u001b[1;33m.\u001b[0m\u001b[0msolver_options\u001b[0m \u001b[1;33m)\u001b[0m\u001b[1;33m\u001b[0m\u001b[1;33m\u001b[0m\u001b[0m\n\u001b[0;32m     37\u001b[0m             \u001b[0mself\u001b[0m\u001b[1;33m.\u001b[0m\u001b[0mStateSolver\u001b[0m\u001b[1;33m.\u001b[0m\u001b[0msolve\u001b[0m\u001b[1;33m(\u001b[0m\u001b[1;33m)\u001b[0m\u001b[1;33m\u001b[0m\u001b[1;33m\u001b[0m\u001b[0m\n\u001b[1;32m---> 38\u001b[1;33m             \u001b[0mself\u001b[0m\u001b[1;33m.\u001b[0m\u001b[0mStateSolver\u001b[0m\u001b[1;33m.\u001b[0m\u001b[0mpostprocess\u001b[0m\u001b[1;33m(\u001b[0m\u001b[1;33m)\u001b[0m\u001b[1;33m\u001b[0m\u001b[1;33m\u001b[0m\u001b[0m\n\u001b[0m\u001b[0;32m     39\u001b[0m             \u001b[0mself\u001b[0m\u001b[1;33m.\u001b[0m\u001b[0mStateResult\u001b[0m \u001b[1;33m=\u001b[0m \u001b[0mQutipStateParser\u001b[0m\u001b[1;33m(\u001b[0m\u001b[0mself\u001b[0m\u001b[1;33m.\u001b[0m\u001b[0mStateSolver\u001b[0m\u001b[1;33m.\u001b[0m\u001b[0mresult\u001b[0m\u001b[1;33m,\u001b[0m\u001b[0mself\u001b[0m\u001b[1;33m.\u001b[0m\u001b[0mStateSolver\u001b[0m\u001b[1;33m.\u001b[0m\u001b[0mtlist\u001b[0m\u001b[1;33m,\u001b[0m\u001b[0mlist\u001b[0m\u001b[1;33m(\u001b[0m\u001b[0mmap\u001b[0m\u001b[1;33m(\u001b[0m\u001b[0mint\u001b[0m\u001b[1;33m,\u001b[0m\u001b[0mself\u001b[0m\u001b[1;33m.\u001b[0m\u001b[0mSimu\u001b[0m\u001b[1;33m.\u001b[0m\u001b[0mnTrunc\u001b[0m\u001b[1;33m)\u001b[0m\u001b[1;33m)\u001b[0m\u001b[1;33m)\u001b[0m\u001b[1;33m\u001b[0m\u001b[1;33m\u001b[0m\u001b[0m\n\u001b[0;32m     40\u001b[0m         \u001b[1;32melif\u001b[0m \u001b[0msolver_type\u001b[0m \u001b[1;32min\u001b[0m \u001b[1;33m[\u001b[0m\u001b[1;36m1\u001b[0m\u001b[1;33m,\u001b[0m\u001b[1;34m'unitary operator'\u001b[0m\u001b[1;33m]\u001b[0m\u001b[1;33m:\u001b[0m\u001b[1;33m\u001b[0m\u001b[1;33m\u001b[0m\u001b[0m\n",
      "\u001b[1;32mC:\\Chuji\\Code_and_Data\\MyCode\\Circuit_Simulator\\Solver.py\u001b[0m in \u001b[0;36mpostprocess\u001b[1;34m(self)\u001b[0m\n\u001b[0;32m    359\u001b[0m             \u001b[0mstate_lab_rot\u001b[0m \u001b[1;33m=\u001b[0m \u001b[0mself\u001b[0m\u001b[1;33m.\u001b[0m\u001b[0mraw_result\u001b[0m\u001b[1;33m.\u001b[0m\u001b[0mstates\u001b[0m\u001b[1;33m[\u001b[0m\u001b[0mk\u001b[0m\u001b[1;33m]\u001b[0m\u001b[1;33m\u001b[0m\u001b[1;33m\u001b[0m\u001b[0m\n\u001b[0;32m    360\u001b[0m             \u001b[1;32mif\u001b[0m \u001b[1;32mnot\u001b[0m \u001b[0mstate_lab_rot\u001b[0m\u001b[1;33m.\u001b[0m\u001b[0misoper\u001b[0m\u001b[1;33m:\u001b[0m\u001b[1;33m\u001b[0m\u001b[1;33m\u001b[0m\u001b[0m\n\u001b[1;32m--> 361\u001b[1;33m                 \u001b[0mrho_lab_rot\u001b[0m \u001b[1;33m=\u001b[0m \u001b[0mstate_lab_rot\u001b[0m \u001b[1;33m*\u001b[0m \u001b[0mstate_lab_rot\u001b[0m\u001b[1;33m.\u001b[0m\u001b[0mdag\u001b[0m\u001b[1;33m(\u001b[0m\u001b[1;33m)\u001b[0m\u001b[1;33m\u001b[0m\u001b[1;33m\u001b[0m\u001b[0m\n\u001b[0m\u001b[0;32m    362\u001b[0m             \u001b[1;32melse\u001b[0m\u001b[1;33m:\u001b[0m\u001b[1;33m\u001b[0m\u001b[1;33m\u001b[0m\u001b[0m\n\u001b[0;32m    363\u001b[0m                 \u001b[0mrho_lab_rot\u001b[0m \u001b[1;33m=\u001b[0m \u001b[0mstate_lab_rot\u001b[0m\u001b[1;33m\u001b[0m\u001b[1;33m\u001b[0m\u001b[0m\n",
      "\u001b[1;32mC:\\ProgramData\\Anaconda3\\lib\\site-packages\\qutip\\qobj.py\u001b[0m in \u001b[0;36m__mul__\u001b[1;34m(self, other)\u001b[0m\n\u001b[0;32m    495\u001b[0m                 \u001b[0mdims\u001b[0m \u001b[1;33m=\u001b[0m \u001b[1;33m[\u001b[0m\u001b[0mself\u001b[0m\u001b[1;33m.\u001b[0m\u001b[0mdims\u001b[0m\u001b[1;33m[\u001b[0m\u001b[1;36m0\u001b[0m\u001b[1;33m]\u001b[0m\u001b[1;33m,\u001b[0m \u001b[0mother\u001b[0m\u001b[1;33m.\u001b[0m\u001b[0mdims\u001b[0m\u001b[1;33m[\u001b[0m\u001b[1;36m1\u001b[0m\u001b[1;33m]\u001b[0m\u001b[1;33m]\u001b[0m\u001b[1;33m\u001b[0m\u001b[1;33m\u001b[0m\u001b[0m\n\u001b[0;32m    496\u001b[0m                 \u001b[0mout\u001b[0m\u001b[1;33m.\u001b[0m\u001b[0mdims\u001b[0m \u001b[1;33m=\u001b[0m \u001b[0mdims\u001b[0m\u001b[1;33m\u001b[0m\u001b[1;33m\u001b[0m\u001b[0m\n\u001b[1;32m--> 497\u001b[1;33m                 \u001b[1;32mif\u001b[0m \u001b[0msettings\u001b[0m\u001b[1;33m.\u001b[0m\u001b[0mauto_tidyup\u001b[0m\u001b[1;33m:\u001b[0m \u001b[0mout\u001b[0m\u001b[1;33m.\u001b[0m\u001b[0mtidyup\u001b[0m\u001b[1;33m(\u001b[0m\u001b[1;33m)\u001b[0m\u001b[1;33m\u001b[0m\u001b[1;33m\u001b[0m\u001b[0m\n\u001b[0m\u001b[0;32m    498\u001b[0m                 if (settings.auto_tidyup_dims\n\u001b[0;32m    499\u001b[0m                         \u001b[1;32mand\u001b[0m \u001b[1;32mnot\u001b[0m \u001b[0misinstance\u001b[0m\u001b[1;33m(\u001b[0m\u001b[0mdims\u001b[0m\u001b[1;33m[\u001b[0m\u001b[1;36m0\u001b[0m\u001b[1;33m]\u001b[0m\u001b[1;33m[\u001b[0m\u001b[1;36m0\u001b[0m\u001b[1;33m]\u001b[0m\u001b[1;33m,\u001b[0m \u001b[0mlist\u001b[0m\u001b[1;33m)\u001b[0m\u001b[1;33m\u001b[0m\u001b[1;33m\u001b[0m\u001b[0m\n",
      "\u001b[1;32mC:\\ProgramData\\Anaconda3\\lib\\site-packages\\qutip\\qobj.py\u001b[0m in \u001b[0;36mtidyup\u001b[1;34m(self, atol)\u001b[0m\n\u001b[0;32m   1398\u001b[0m             \u001b[1;32melse\u001b[0m\u001b[1;33m:\u001b[0m\u001b[1;33m\u001b[0m\u001b[1;33m\u001b[0m\u001b[0m\n\u001b[0;32m   1399\u001b[0m                 \u001b[1;32mif\u001b[0m \u001b[0mcy_tidyup\u001b[0m\u001b[1;33m(\u001b[0m\u001b[0mself\u001b[0m\u001b[1;33m.\u001b[0m\u001b[0mdata\u001b[0m\u001b[1;33m.\u001b[0m\u001b[0mdata\u001b[0m\u001b[1;33m,\u001b[0m\u001b[0matol\u001b[0m\u001b[1;33m,\u001b[0m \u001b[0mself\u001b[0m\u001b[1;33m.\u001b[0m\u001b[0mdata\u001b[0m\u001b[1;33m.\u001b[0m\u001b[0mnnz\u001b[0m\u001b[1;33m)\u001b[0m\u001b[1;33m:\u001b[0m\u001b[1;33m\u001b[0m\u001b[1;33m\u001b[0m\u001b[0m\n\u001b[1;32m-> 1400\u001b[1;33m                     \u001b[0mself\u001b[0m\u001b[1;33m.\u001b[0m\u001b[0mdata\u001b[0m\u001b[1;33m.\u001b[0m\u001b[0meliminate_zeros\u001b[0m\u001b[1;33m(\u001b[0m\u001b[1;33m)\u001b[0m\u001b[1;33m\u001b[0m\u001b[1;33m\u001b[0m\u001b[0m\n\u001b[0m\u001b[0;32m   1401\u001b[0m             \u001b[1;32mreturn\u001b[0m \u001b[0mself\u001b[0m\u001b[1;33m\u001b[0m\u001b[1;33m\u001b[0m\u001b[0m\n\u001b[0;32m   1402\u001b[0m         \u001b[1;32melse\u001b[0m\u001b[1;33m:\u001b[0m\u001b[1;33m\u001b[0m\u001b[1;33m\u001b[0m\u001b[0m\n",
      "\u001b[1;32mC:\\ProgramData\\Anaconda3\\lib\\site-packages\\scipy\\sparse\\compressed.py\u001b[0m in \u001b[0;36meliminate_zeros\u001b[1;34m(self)\u001b[0m\n\u001b[0;32m   1055\u001b[0m         \u001b[0mM\u001b[0m\u001b[1;33m,\u001b[0m \u001b[0mN\u001b[0m \u001b[1;33m=\u001b[0m \u001b[0mself\u001b[0m\u001b[1;33m.\u001b[0m\u001b[0m_swap\u001b[0m\u001b[1;33m(\u001b[0m\u001b[0mself\u001b[0m\u001b[1;33m.\u001b[0m\u001b[0mshape\u001b[0m\u001b[1;33m)\u001b[0m\u001b[1;33m\u001b[0m\u001b[1;33m\u001b[0m\u001b[0m\n\u001b[0;32m   1056\u001b[0m         _sparsetools.csr_eliminate_zeros(M, N, self.indptr, self.indices,\n\u001b[1;32m-> 1057\u001b[1;33m                                          self.data)\n\u001b[0m\u001b[0;32m   1058\u001b[0m         \u001b[0mself\u001b[0m\u001b[1;33m.\u001b[0m\u001b[0mprune\u001b[0m\u001b[1;33m(\u001b[0m\u001b[1;33m)\u001b[0m  \u001b[1;31m# nnz may have changed\u001b[0m\u001b[1;33m\u001b[0m\u001b[1;33m\u001b[0m\u001b[0m\n\u001b[0;32m   1059\u001b[0m \u001b[1;33m\u001b[0m\u001b[0m\n",
      "\u001b[1;31mKeyboardInterrupt\u001b[0m: "
     ]
    }
   ],
   "source": [
    "for amp in np.arange(0.1,0.4,0.01):\n",
    "    gate_time=40e-9\n",
    "    SRATE=20e9\n",
    "    total_len = gate_time + 8e-9\n",
    "    Seq=PG.Sequence(total_len=total_len,sample_rate=SRATE,complex_trace=False)\n",
    "    Seq.clear_pulse(tips_on=False)\n",
    "    Seq.add_pulse('Cos',t0=total_len/2,width=gate_time,plateau=0e-9,frequency=0,amplitude=amp,half_cosine=True)\n",
    "    Seq.add_filter('Gauss Low Pass',300e6)\n",
    "    flux_pulse=Seq.get_sequence()\n",
    "\n",
    "    raw_config = Circuit_Simulator.RawConfig(qubit_num=5,dimension=3,circuit_type=1,initial_state='+Z+Z+Z+Z+X',sampling_rate=SRATE)\n",
    "    raw_config.load_default_value(modulation=True,decoherence=False,use_capacitance=False)\n",
    "    raw_config.setValue('Q1 f01_max',6.0e9)\n",
    "    raw_config.setValue('Q2 f01_max',7.87e9)\n",
    "    raw_config.setValue('Q3 f01_max',5.4e9)\n",
    "    raw_config.setValue('Q4 f01_max',8.22e9)\n",
    "    raw_config.setValue('Q5 f01_max',6.1e9)\n",
    "\n",
    "    raw_config.setValue('Q1 f01_min',1e9)\n",
    "    raw_config.setValue('Q2 f01_min',1e9)\n",
    "    raw_config.setValue('Q3 f01_min',1e9)\n",
    "    raw_config.setValue('Q4 f01_min',1e9)\n",
    "    raw_config.setValue('Q5 f01_min',1e9)   \n",
    "\n",
    "    raw_config.setValue('Q1 Ec',0.25e9)\n",
    "    raw_config.setValue('Q2 Ec',0.30e9)\n",
    "    raw_config.setValue('Q3 Ec',0.25e9)\n",
    "    raw_config.setValue('Q4 Ec',0.30e9)\n",
    "    raw_config.setValue('Q5 Ec',0.25e9)\n",
    "\n",
    "    raw_config.setValue('r12',0.018)\n",
    "    raw_config.setValue('r23',0.018)\n",
    "    raw_config.setValue('r13',0.0015)\n",
    "    raw_config.setValue('r34',0.018)\n",
    "    raw_config.setValue('r45',0.018)\n",
    "    raw_config.setValue('r35',0.0015)\n",
    "    raw_config.setValue('r14',0.0)\n",
    "    raw_config.setValue('r15',0.0)\n",
    "    raw_config.setValue('r24',0.0000)\n",
    "    raw_config.setValue('r25',0.0000)\n",
    "    \n",
    "    raw_config.setValue('Q2 Voltage period',-1)\n",
    "    raw_config.setValue('Q2 Voltage operating point',0)\n",
    "    raw_config.setValue('Q2 Flux',flux_pulse)\n",
    "    simu_config = Circuit_Simulator.read_config(raw_config.get_dict())\n",
    "    Simulator = Circuit_Simulator.Simulator(simu_config)\n",
    "    Simulator.performsimulation(solver_type=0)\n",
    "    print(np.angle(Simulator.StateResult.rho_trace[-1][0][0][1]))"
   ]
  },
  {
   "cell_type": "code",
   "execution_count": 281,
   "metadata": {},
   "outputs": [
    {
     "name": "stdout",
     "output_type": "stream",
     "text": [
      "-7.459007638849696e-05\n"
     ]
    }
   ],
   "source": [
    "# amp=0.4\n",
    "# gate_time=40e-9\n",
    "# SRATE=20e9\n",
    "# total_len = gate_time + 8e-9\n",
    "# Seq=PG.Sequence(total_len=total_len,sample_rate=SRATE,complex_trace=False)\n",
    "# Seq.clear_pulse(tips_on=False)\n",
    "# Seq.add_pulse('Cos',t0=total_len/2,width=gate_time,plateau=0e-9,frequency=0,amplitude=amp,half_cosine=True)\n",
    "# Seq.add_filter('Gauss Low Pass',300e6)\n",
    "# flux_pulse=Seq.get_sequence()\n",
    "\n",
    "gate_time=30e-9\n",
    "SRATE=10e9\n",
    "f_term=1\n",
    "lamb1 = 0.8578\n",
    "total_len = gate_time + 6e-9\n",
    "\n",
    "Seq=PG.Sequence(total_len=total_len,sample_rate=SRATE,complex_trace=False)\n",
    "Seq.clear_pulse(tips_on=False)\n",
    "Seq.add_pulse('Adiabatic',t0=total_len/2,width=gate_time,plateau=0e-9,frequency=0,F_Terms=f_term,Lcoeff=np.array(lamb1),Q1_freq=6.0e9,\n",
    "             CPLR_idle_freq=7.87e9,Q2_freq=5.4e9,constant_coupling=False,r1c=0.018,r2c=0.018,r12=0.0015,anhar_CPLR=-300e6,\n",
    "             anhar_Q1=-250e6,anhar_Q2=-250e6,negative_amplitude=False,dfdV=7.87e9-1e9,gap_threshold=8e6,freqpoints=301,pulsepoints=601)\n",
    "Seq.add_filter('Gauss Low Pass',300e6)\n",
    "flux_pulse=Seq.get_sequence()\n",
    "\n",
    "raw_config = Circuit_Simulator.RawConfig(qubit_num=5,dimension=3,circuit_type=1,initial_state='+X+Z+X+Z+X',sampling_rate=SRATE)\n",
    "raw_config.load_default_value(modulation=True,decoherence=False,use_capacitance=False)\n",
    "raw_config.setValue('Q1 f01_max',6.0e9)\n",
    "raw_config.setValue('Q2 f01_max',7.87e9)\n",
    "raw_config.setValue('Q3 f01_max',5.4e9)\n",
    "raw_config.setValue('Q4 f01_max',8.22e9)\n",
    "raw_config.setValue('Q5 f01_max',6.1e9)\n",
    "\n",
    "raw_config.setValue('Q1 f01_min',1e9)\n",
    "raw_config.setValue('Q2 f01_min',1e9)\n",
    "raw_config.setValue('Q3 f01_min',1e9)\n",
    "raw_config.setValue('Q4 f01_min',1e9)\n",
    "raw_config.setValue('Q5 f01_min',1e9)   \n",
    "\n",
    "raw_config.setValue('Q1 Ec',0.25e9)\n",
    "raw_config.setValue('Q2 Ec',0.30e9)\n",
    "raw_config.setValue('Q3 Ec',0.25e9)\n",
    "raw_config.setValue('Q4 Ec',0.30e9)\n",
    "raw_config.setValue('Q5 Ec',0.25e9)\n",
    "\n",
    "raw_config.setValue('r12',0.018)\n",
    "raw_config.setValue('r23',0.018)\n",
    "raw_config.setValue('r13',0.0015)\n",
    "raw_config.setValue('r34',0.018)\n",
    "raw_config.setValue('r45',0.018)\n",
    "raw_config.setValue('r35',0.0015)\n",
    "raw_config.setValue('r14',0.0000)\n",
    "raw_config.setValue('r15',0.0000)\n",
    "raw_config.setValue('r24',0.0000)\n",
    "raw_config.setValue('r25',0.0000)\n",
    "\n",
    "raw_config.setValue('Q2 Voltage period',-1)\n",
    "raw_config.setValue('Q2 Voltage operating point',0)\n",
    "raw_config.setValue('Q2 Flux',flux_pulse)\n",
    "simu_config = Circuit_Simulator.read_config(raw_config.get_dict())\n",
    "Simulator = Circuit_Simulator.Simulator(simu_config)\n",
    "Simulator.performsimulation(solver_type=0)\n",
    "print(np.angle(Simulator.StateResult.rho_trace[-1][0][0][1]))"
   ]
  },
  {
   "cell_type": "code",
   "execution_count": null,
   "metadata": {},
   "outputs": [],
   "source": []
  }
 ],
 "metadata": {
  "kernelspec": {
   "display_name": "Python 3",
   "language": "python",
   "name": "python3"
  },
  "language_info": {
   "codemirror_mode": {
    "name": "ipython",
    "version": 3
   },
   "file_extension": ".py",
   "mimetype": "text/x-python",
   "name": "python",
   "nbconvert_exporter": "python",
   "pygments_lexer": "ipython3",
   "version": "3.7.1"
  },
  "toc": {
   "base_numbering": 1,
   "nav_menu": {},
   "number_sections": true,
   "sideBar": true,
   "skip_h1_title": false,
   "title_cell": "Table of Contents",
   "title_sidebar": "Contents",
   "toc_cell": false,
   "toc_position": {},
   "toc_section_display": true,
   "toc_window_display": false
  }
 },
 "nbformat": 4,
 "nbformat_minor": 2
}
