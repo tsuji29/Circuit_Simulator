{
 "cells": [
  {
   "cell_type": "code",
   "execution_count": 1,
   "metadata": {},
   "outputs": [],
   "source": [
    "import sys\n",
    "import numpy as np\n",
    "import time\n",
    "import matplotlib.pyplot as plt\n",
    "from scipy import interpolate \n",
    "sys.path.append(r'C:\\Chuji\\Code_and_Data\\MyCode')\n",
    "\n",
    "import Circuit_Simulator \n",
    "import PulseGenerator as PG\n",
    "from toolfunc import *\n",
    "from toolfunc.adia_analysis import *\n",
    "from toolfunc.pulse_filter import *\n",
    "import scipy.optimize as sci_op\n",
    "from toolfunc import DE\n",
    "from Circuit_Simulator.Qobj import *"
   ]
  },
  {
   "cell_type": "code",
   "execution_count": 41,
   "metadata": {},
   "outputs": [
    {
     "name": "stdout",
     "output_type": "stream",
     "text": [
      "{'Q1_freq': '6000.0MHz', 'Q1_anhar': '-125.0MHz', 'Q2_freq': '8500.0MHz', 'Q2_anhar': '-150.0MHz', 'Q3_freq': '5400.0MHz', 'Q3_anhar': '-125.0MHz', 'Q4_freq': '8400.0MHz', 'Q4_anhar': '-150.0MHz', 'Q5_freq': '6050.0MHz', 'Q5_anhar': '-125.0MHz', 'g12': '128.5457MHz', 'g13': '8.5381MHz', 'g14': '0.0MHz', 'g15': '0.0MHz', 'g23': '121.9492MHz', 'g24': '0.0MHz', 'g25': '0.0MHz', 'g34': '121.2297MHz', 'g35': '8.5737MHz', 'g45': '128.3187MHz'}\n"
     ]
    }
   ],
   "source": [
    "raw_config = Circuit_Simulator.RawConfig(qubit_num=5,dimension=3,circuit_type=1,initial_state='ground',sampling_rate=1e9)\n",
    "raw_config.load_default_value(modulation=True,decoherence=False,use_capacitance=False)\n",
    "\n",
    "flux_pulse = np.linspace(0/7.5,4/7.5,800)\n",
    "freq_array = 8.5e9-flux_pulse * (8.5e9 - 1e9)\n",
    "\n",
    "raw_config.setValue('Q1 f01_max',6.0e9)\n",
    "raw_config.setValue('Q2 f01_max',8.5e9)\n",
    "raw_config.setValue('Q3 f01_max',5.4e9)\n",
    "raw_config.setValue('Q4 f01_max',8.4e9)\n",
    "raw_config.setValue('Q5 f01_max',6.05e9)\n",
    "\n",
    "raw_config.setValue('Q1 f01_min',1e9)\n",
    "raw_config.setValue('Q2 f01_min',1e9)\n",
    "raw_config.setValue('Q3 f01_min',1e9)\n",
    "raw_config.setValue('Q4 f01_min',1e9)\n",
    "raw_config.setValue('Q5 f01_min',1e9)\n",
    "\n",
    "raw_config.setValue('Q1 Ec',0.25e9)\n",
    "raw_config.setValue('Q2 Ec',0.30e9)\n",
    "raw_config.setValue('Q3 Ec',0.25e9)\n",
    "raw_config.setValue('Q4 Ec',0.30e9)\n",
    "raw_config.setValue('Q5 Ec',0.25e9)\n",
    "\n",
    "raw_config.setValue('r12',0.018)\n",
    "raw_config.setValue('r23',0.018)\n",
    "raw_config.setValue('r13',0.0015)\n",
    "raw_config.setValue('r34',0.018)\n",
    "raw_config.setValue('r45',0.018)\n",
    "raw_config.setValue('r35',0.0015)\n",
    "\n",
    "raw_config.setValue('r14',0.0000)\n",
    "raw_config.setValue('r15',0.0000)\n",
    "raw_config.setValue('r24',0.0000)\n",
    "raw_config.setValue('r25',0.0000)\n",
    "\n",
    "raw_config.setValue('Q2 Voltage period',-1)\n",
    "raw_config.setValue('Q2 Voltage operating point',0.00)\n",
    "raw_config.setValue('Q2 Flux',flux_pulse)\n",
    "\n",
    "simu_config = Circuit_Simulator.read_config(raw_config.get_dict())\n",
    "Simulator = Circuit_Simulator.Simulator(simu_config)\n",
    "Simulator.show_pulse()"
   ]
  },
  {
   "cell_type": "code",
   "execution_count": 42,
   "metadata": {},
   "outputs": [],
   "source": [
    "Simulator.performsimulation(solver_type=2,resample_factor=1,eigen_cloest_to_bare=False,sort_by_maximum_overlap=True,gap=10e6)"
   ]
  },
  {
   "cell_type": "code",
   "execution_count": 43,
   "metadata": {},
   "outputs": [],
   "source": [
    "# Simulator.EigenResult.show_eigenenergy(level_min=1,level_max= 163)"
   ]
  },
  {
   "cell_type": "code",
   "execution_count": 44,
   "metadata": {},
   "outputs": [],
   "source": [
    "Eigen00001=Simulator.EigenResult.eigen_ener[:,1]/1e9\n",
    "Eigen00010=Simulator.EigenResult.eigen_ener[:,3]/1e9\n",
    "Eigen00100=Simulator.EigenResult.eigen_ener[:,9]/1e9\n",
    "Eigen01000=Simulator.EigenResult.eigen_ener[:,27]/1e9\n",
    "Eigen10000=Simulator.EigenResult.eigen_ener[:,81]/1e9\n",
    "Eigen00002=Simulator.EigenResult.eigen_ener[:,2]/1e9\n",
    "Eigen00020=Simulator.EigenResult.eigen_ener[:,6]/1e9\n",
    "Eigen00200=Simulator.EigenResult.eigen_ener[:,18]/1e9\n",
    "Eigen02000=Simulator.EigenResult.eigen_ener[:,54]/1e9\n",
    "Eigen20000=Simulator.EigenResult.eigen_ener[:,162]/1e9\n",
    "\n",
    "Eigen10001=Simulator.EigenResult.eigen_ener[:,82]/1e9\n",
    "Eigen10010=Simulator.EigenResult.eigen_ener[:,84]/1e9\n",
    "Eigen10100=Simulator.EigenResult.eigen_ener[:,81+9]/1e9\n",
    "Eigen11000=Simulator.EigenResult.eigen_ener[:,81+27]/1e9\n",
    "Eigen01001=Simulator.EigenResult.eigen_ener[:,27+1]/1e9\n",
    "Eigen01010=Simulator.EigenResult.eigen_ener[:,27+3]/1e9\n",
    "Eigen01100=Simulator.EigenResult.eigen_ener[:,27+9]/1e9\n",
    "Eigen00101=Simulator.EigenResult.eigen_ener[:,9+1]/1e9\n",
    "Eigen00110=Simulator.EigenResult.eigen_ener[:,9+3]/1e9\n",
    "Eigen00011=Simulator.EigenResult.eigen_ener[:,3+1]/1e9\n",
    "\n",
    "\n",
    "Eigen10101=Simulator.EigenResult.eigen_ener[:,81+9+1]/1e9"
   ]
  },
  {
   "cell_type": "code",
   "execution_count": 46,
   "metadata": {},
   "outputs": [
    {
     "data": {
      "text/plain": [
       "[<matplotlib.lines.Line2D at 0x14d85ce67b8>]"
      ]
     },
     "execution_count": 46,
     "metadata": {},
     "output_type": "execute_result"
    }
   ],
   "source": [
    "fig=plt.figure(figsize=[6,8])\n",
    "ax = fig.add_subplot(111)\n",
    "\n",
    "lw=1.5\n",
    "lw2=3\n",
    "ax.plot(freq_array/1e9,Eigen00001,label='00001',linewidth=lw2,c='tab:red',linestyle='-')\n",
    "ax.plot(freq_array/1e9,Eigen00010,label='00010',linewidth=lw,c='k',linestyle='--')\n",
    "ax.plot(freq_array/1e9,Eigen00100,label='00100',linewidth=lw2,c='tab:red',linestyle='-')\n",
    "ax.plot(freq_array/1e9,Eigen01000,label='01000',linewidth=lw,c='tab:brown',linestyle='--')\n",
    "ax.plot(freq_array/1e9,Eigen10000,label='10000',linewidth=lw2,c='tab:red',linestyle='-')\n",
    "\n",
    "ax.plot(freq_array/1e9,Eigen00002,label='00002',linewidth=lw,c='tab:blue',linestyle='--')\n",
    "ax.plot(freq_array/1e9,Eigen00020,label='00020',linewidth=lw,c='k',linestyle='--')\n",
    "ax.plot(freq_array/1e9,Eigen00200,label='00200',linewidth=lw,c='tab:pink',linestyle='--')\n",
    "ax.plot(freq_array/1e9,Eigen02000,label='02000',linewidth=lw,c='tab:brown',linestyle='--')\n",
    "ax.plot(freq_array/1e9,Eigen20000,label='20000',linewidth=lw,c='tab:brown',linestyle='--')\n",
    "\n",
    "ax.plot(freq_array/1e9,Eigen10001,label='10001',linewidth=lw2,c='tab:red',linestyle='-')\n",
    "ax.plot(freq_array/1e9,Eigen10010,label='10010',linewidth=lw,c='k',linestyle='--')\n",
    "ax.plot(freq_array/1e9,Eigen10100,label='10100',linewidth=lw2,c='tab:red',linestyle='-')\n",
    "ax.plot(freq_array/1e9,Eigen11000,label='11000',linewidth=lw,c='tab:brown',linestyle='--')\n",
    "ax.plot(freq_array/1e9,Eigen01001,label='01001',linewidth=lw,c='tab:blue',linestyle='-')\n",
    "ax.plot(freq_array/1e9,Eigen01010,label='01010',linewidth=lw,c='tab:blue',linestyle='--')\n",
    "ax.plot(freq_array/1e9,Eigen01100,label='01100',linewidth=lw,c='k',linestyle='--')\n",
    "ax.plot(freq_array/1e9,Eigen00101,label='00101',linewidth=lw2,c='tab:red',linestyle='-')\n",
    "ax.plot(freq_array/1e9,Eigen00110,label='00110',linewidth=lw,c='tab:brown',linestyle='--')\n",
    "ax.plot(freq_array/1e9,Eigen00011,label='00011',linewidth=lw,c='tab:blue',linestyle='--')\n",
    "\n",
    "\n",
    "# ax.plot(freq_array/1e9,Eigen10101,label='10101',linewidth=lw2,c='tab:red',linestyle='-')\n"
   ]
  },
  {
   "cell_type": "code",
   "execution_count": null,
   "metadata": {},
   "outputs": [],
   "source": []
  },
  {
   "cell_type": "code",
   "execution_count": 21,
   "metadata": {},
   "outputs": [],
   "source": [
    "%matplotlib qt"
   ]
  },
  {
   "cell_type": "code",
   "execution_count": 18,
   "metadata": {},
   "outputs": [],
   "source": [
    "# Simulator.performsimulation(solver_type=2,resample_factor=1,eigen_cloest_to_bare=False ,sort_by_maximum_overlap=True,gap=12e6)\n",
    "fig = plt.figure(figsize=[6.4,6])\n",
    "ax = fig.add_subplot(111)\n",
    "eigen_trace = Simulator.EigenResult.get_Ener_gap_trace('10100-10000-00100+00000')\n",
    "ax.plot(freq_array[0:400],-eigen_trace[0:400]/1e6)\n",
    "ax.set_yscale('log')"
   ]
  },
  {
   "cell_type": "code",
   "execution_count": 17,
   "metadata": {},
   "outputs": [],
   "source": [
    "fig = plt.figure(figsize=[6.4,6])\n",
    "ax = fig.add_subplot(111)\n",
    "eigen_trace = Simulator.EigenResult.get_Ener_gap_trace('10101-10001-00101+00001')\n",
    "ax.plot(freq_array[0:400],-eigen_trace[0:400]/1e6)\n",
    "ax.set_yscale('log')"
   ]
  },
  {
   "cell_type": "code",
   "execution_count": null,
   "metadata": {},
   "outputs": [],
   "source": []
  },
  {
   "cell_type": "code",
   "execution_count": null,
   "metadata": {},
   "outputs": [],
   "source": []
  },
  {
   "cell_type": "code",
   "execution_count": null,
   "metadata": {},
   "outputs": [],
   "source": []
  },
  {
   "cell_type": "code",
   "execution_count": null,
   "metadata": {},
   "outputs": [],
   "source": []
  },
  {
   "cell_type": "code",
   "execution_count": null,
   "metadata": {},
   "outputs": [],
   "source": []
  },
  {
   "cell_type": "code",
   "execution_count": null,
   "metadata": {},
   "outputs": [],
   "source": []
  },
  {
   "cell_type": "code",
   "execution_count": 100,
   "metadata": {},
   "outputs": [
    {
     "data": {
      "text/latex": [
       "Quantum object: dims = [[4], [4]], shape = (4, 4), type = oper, isherm = False\\begin{equation*}\\left(\\begin{array}{*{11}c}1.0 & 0.0 & 0.0 & (9.320\\times10^{-12}+1.914\\times10^{-11}j)\\\\0.0 & 1.000 & (-2.404\\times10^{-05}+2.034\\times10^{-04}j) & 0.0\\\\0.0 & (2.397\\times10^{-05}+2.034\\times10^{-04}j) & 1.000 & 0.0\\\\(8.281\\times10^{-12}-1.961\\times10^{-11}j) & 0.0 & 0.0 & (-1.000-0.025j)\\\\\\end{array}\\right)\\end{equation*}"
      ],
      "text/plain": [
       "Quantum object: dims = [[4], [4]], shape = (4, 4), type = oper, isherm = False\n",
       "Qobj data =\n",
       "[[ 1.00000000e+00+0.00000000e+00j  0.00000000e+00+0.00000000e+00j\n",
       "   0.00000000e+00+0.00000000e+00j  9.32020084e-12+1.91352815e-11j]\n",
       " [ 0.00000000e+00+0.00000000e+00j  9.99999979e-01+0.00000000e+00j\n",
       "  -2.40423011e-05+2.03432468e-04j  0.00000000e+00+0.00000000e+00j]\n",
       " [ 0.00000000e+00+0.00000000e+00j  2.39722284e-05+2.03440737e-04j\n",
       "   9.99987982e-01+0.00000000e+00j  0.00000000e+00+0.00000000e+00j]\n",
       " [ 8.28093097e-12-1.96074335e-11j  0.00000000e+00+0.00000000e+00j\n",
       "   0.00000000e+00+0.00000000e+00j -9.99683746e-01-2.47516615e-02j]]"
      ]
     },
     "execution_count": 100,
     "metadata": {},
     "output_type": "execute_result"
    }
   ],
   "source": [
    "gate_time=30e-9\n",
    "SRATE=10e9\n",
    "f_term=1\n",
    "lamb1 = 0.86256836\n",
    "total_len = gate_time + 8e-9\n",
    "\n",
    "Seq=PG.Sequence(total_len=total_len,sample_rate=SRATE,complex_trace=False)\n",
    "Seq.clear_pulse(tips_on=False)\n",
    "Seq.add_pulse('Adiabatic',t0=total_len/2,width=gate_time,plateau=0e-9,frequency=0,F_Terms=f_term,Lcoeff=np.array(lamb1),Q1_freq=6.0e9,\n",
    "             CPLR_idle_freq=7.87e9,Q2_freq=5.4e9,constant_coupling=False,r1c=0.018,r2c=0.018,r12=0.0015,anhar_CPLR=-300e6,\n",
    "             anhar_Q1=-250e6,anhar_Q2=-250e6,negative_amplitude=False,dfdV=7.87e9-1e9,gap_threshold=8e6,freqpoints=301,pulsepoints=601)\n",
    "Seq.add_filter('Gauss Low Pass',300e6)\n",
    "flux_pulse=Seq.get_sequence()\n",
    "\n",
    "raw_config = Circuit_Simulator.RawConfig(qubit_num=5,dimension=3,circuit_type=1,initial_state='-Z+Z+Z+Z+Z',sampling_rate=SRATE)\n",
    "raw_config.load_default_value(modulation=True,decoherence=False,use_capacitance=False)\n",
    "\n",
    "raw_config.setValue('Q1 f01_max',6.0e9)\n",
    "raw_config.setValue('Q2 f01_max',7.87e9)\n",
    "raw_config.setValue('Q3 f01_max',5.4e9)\n",
    "raw_config.setValue('Q4 f01_max',8.0e9)\n",
    "raw_config.setValue('Q5 f01_max',6.1e9)\n",
    "\n",
    "raw_config.setValue('Q1 f01_min',1e9)\n",
    "raw_config.setValue('Q2 f01_min',1e9)\n",
    "raw_config.setValue('Q3 f01_min',1e9)\n",
    "raw_config.setValue('Q4 f01_min',1e9)\n",
    "raw_config.setValue('Q5 f01_min',1e9)    \n",
    "\n",
    "raw_config.setValue('Q1 Ec',0.25e9)\n",
    "raw_config.setValue('Q2 Ec',0.3e9)\n",
    "raw_config.setValue('Q3 Ec',0.25e9)\n",
    "raw_config.setValue('Q4 Ec',0.30e9)\n",
    "raw_config.setValue('Q5 Ec',0.25e9)\n",
    "\n",
    "raw_config.setValue('r12',0.018)\n",
    "raw_config.setValue('r23',0.018)\n",
    "raw_config.setValue('r13',0.0015)\n",
    "raw_config.setValue('r34',0.018)\n",
    "raw_config.setValue('r45',0.018)\n",
    "raw_config.setValue('r35',0.0015)\n",
    "\n",
    "raw_config.setValue('r14',0.0001)\n",
    "raw_config.setValue('r15',0.0001)\n",
    "raw_config.setValue('r24',0.0001)\n",
    "raw_config.setValue('r25',0.0001)\n",
    "\n",
    "\n",
    "raw_config.setValue('Q2 Voltage period',-1)\n",
    "raw_config.setValue('Q2 Voltage operating point',0)\n",
    "raw_config.setValue('Q2 Flux',flux_pulse)\n",
    "\n",
    "simu_config = Circuit_Simulator.read_config(raw_config.get_dict())\n",
    "Simulator = Circuit_Simulator.Simulator(simu_config)\n",
    "\n",
    "Simulator.performsimulation(solver_type=1)\n",
    "Simulator.UnitaryResult.get_U(-1)\n",
    "\n",
    "Simulator.UnitaryResult.get_subspace_operator(['00000','00100','10000','10100'])\n",
    "Simulator.UnitaryResult.remove_single_qubit_gate()\n",
    "Simulator.UnitaryResult.set_Target_gate('CZ')\n",
    "Simulator.UnitaryResult.get_Gate_Fidelity()\n",
    "fidelity = Simulator.UnitaryResult.Gate_Fidelity\n",
    "Simulator.UnitaryResult.U_sub "
   ]
  },
  {
   "cell_type": "code",
   "execution_count": 101,
   "metadata": {},
   "outputs": [],
   "source": [
    "Simulator.UnitaryResult.get_subspace_operator(['00000','00001','00100','00101','10000','10001','10100','10101'])"
   ]
  },
  {
   "cell_type": "code",
   "execution_count": 102,
   "metadata": {},
   "outputs": [],
   "source": [
    "Simulator.UnitaryResult.U_sub = remove_local_phases(Simulator.UnitaryResult.U_sub)"
   ]
  },
  {
   "cell_type": "code",
   "execution_count": 103,
   "metadata": {},
   "outputs": [
    {
     "data": {
      "text/latex": [
       "Quantum object: dims = [[8], [8]], shape = (8, 8), type = oper, isherm = False\\begin{equation*}\\left(\\begin{array}{*{11}c}1.0 & 0.0 & 0.0 & 0.0 & 0.0 & 0.0 & (9.320\\times10^{-12}+1.914\\times10^{-11}j) & 0.0\\\\0.0 & 0.997 & (-9.491\\times10^{-07}-1.180\\times10^{-06}j) & 0.0 & (-2.059\\times10^{-04}+0.002j) & 0.0 & 0.0 & (-2.087\\times10^{-10}+2.606\\times10^{-10}j)\\\\0.0 & (-6.984\\times10^{-07}-1.344\\times10^{-06}j) & 1.000 & 0.0 & (-2.404\\times10^{-05}+2.034\\times10^{-04}j) & 0.0 & 0.0 & 0.0\\\\0.0 & 0.0 & 0.0 & (0.998+9.815\\times10^{-04}j) & 0.0 & (2.459\\times10^{-05}+1.719\\times10^{-04}j) & (0.002-6.479\\times10^{-05}j) & 0.0\\\\0.0 & (-1.310\\times10^{-04}+0.002j) & (2.397\\times10^{-05}+2.034\\times10^{-04}j) & 0.0 & 1.000 & 0.0 & 0.0 & (-1.260\\times10^{-11}+1.334\\times10^{-11}j)\\\\0.0 & 0.0 & 0.0 & (6.394\\times10^{-05}+1.614\\times10^{-04}j) & 0.0 & (1.000-0.001j) & (7.791\\times10^{-07}+1.100\\times10^{-06}j) & 0.0\\\\(8.281\\times10^{-12}-1.961\\times10^{-11}j) & 0.0 & 0.0 & (0.002-1.241\\times10^{-04}j) & 0.0 & (5.474\\times10^{-07}+1.231\\times10^{-06}j) & (-1.000-0.025j) & 0.0\\\\0.0 & (3.336\\times10^{-10}-1.425\\times10^{-11}j) & 0.0 & 0.0 & (1.831\\times10^{-11}+1.256\\times10^{-12}j) & 0.0 & 0.0 & (-0.999-0.026j)\\\\\\end{array}\\right)\\end{equation*}"
      ],
      "text/plain": [
       "Quantum object: dims = [[8], [8]], shape = (8, 8), type = oper, isherm = False\n",
       "Qobj data =\n",
       "[[ 1.00000000e+00+0.00000000e+00j  0.00000000e+00+0.00000000e+00j\n",
       "   0.00000000e+00+0.00000000e+00j  0.00000000e+00+0.00000000e+00j\n",
       "   0.00000000e+00+0.00000000e+00j  0.00000000e+00+0.00000000e+00j\n",
       "   9.32020084e-12+1.91352815e-11j  0.00000000e+00+0.00000000e+00j]\n",
       " [ 0.00000000e+00+0.00000000e+00j  9.97140105e-01+0.00000000e+00j\n",
       "  -9.49124271e-07-1.18022205e-06j  0.00000000e+00+0.00000000e+00j\n",
       "  -2.05933827e-04+2.02623275e-03j  0.00000000e+00+0.00000000e+00j\n",
       "   0.00000000e+00+0.00000000e+00j -2.08692572e-10+2.60623318e-10j]\n",
       " [ 0.00000000e+00+0.00000000e+00j -6.98404809e-07-1.34387184e-06j\n",
       "   9.99999979e-01+0.00000000e+00j  0.00000000e+00+0.00000000e+00j\n",
       "  -2.40423011e-05+2.03432468e-04j  0.00000000e+00+0.00000000e+00j\n",
       "   0.00000000e+00+0.00000000e+00j  0.00000000e+00+0.00000000e+00j]\n",
       " [ 0.00000000e+00+0.00000000e+00j  0.00000000e+00+0.00000000e+00j\n",
       "   0.00000000e+00+0.00000000e+00j  9.98252073e-01+9.81500001e-04j\n",
       "   0.00000000e+00+0.00000000e+00j  2.45891502e-05+1.71898876e-04j\n",
       "   1.60919586e-03-6.47936273e-05j  0.00000000e+00+0.00000000e+00j]\n",
       " [ 0.00000000e+00+0.00000000e+00j -1.31003429e-04+2.03245319e-03j\n",
       "   2.39722284e-05+2.03440737e-04j  0.00000000e+00+0.00000000e+00j\n",
       "   9.99987982e-01+0.00000000e+00j  0.00000000e+00+0.00000000e+00j\n",
       "   0.00000000e+00+0.00000000e+00j -1.26045444e-11+1.33361223e-11j]\n",
       " [ 0.00000000e+00+0.00000000e+00j  0.00000000e+00+0.00000000e+00j\n",
       "   0.00000000e+00+0.00000000e+00j  6.39403986e-05+1.61448058e-04j\n",
       "   0.00000000e+00+0.00000000e+00j  9.99522783e-01-1.09961306e-03j\n",
       "   7.79095823e-07+1.09962579e-06j  0.00000000e+00+0.00000000e+00j]\n",
       " [ 8.28093097e-12-1.96074335e-11j  0.00000000e+00+0.00000000e+00j\n",
       "   0.00000000e+00+0.00000000e+00j  1.60570851e-03-1.24135906e-04j\n",
       "   0.00000000e+00+0.00000000e+00j  5.47447766e-07+1.23144960e-06j\n",
       "  -9.99683746e-01-2.47516615e-02j  0.00000000e+00+0.00000000e+00j]\n",
       " [ 0.00000000e+00+0.00000000e+00j  3.33577562e-10-1.42532211e-11j\n",
       "   0.00000000e+00+0.00000000e+00j  0.00000000e+00+0.00000000e+00j\n",
       "   1.83065141e-11+1.25625967e-12j  0.00000000e+00+0.00000000e+00j\n",
       "   0.00000000e+00+0.00000000e+00j -9.99309843e-01-2.58564968e-02j]]"
      ]
     },
     "execution_count": 103,
     "metadata": {},
     "output_type": "execute_result"
    }
   ],
   "source": [
    "Simulator.UnitaryResult.U_sub"
   ]
  },
  {
   "cell_type": "code",
   "execution_count": null,
   "metadata": {},
   "outputs": [],
   "source": []
  },
  {
   "cell_type": "code",
   "execution_count": null,
   "metadata": {},
   "outputs": [],
   "source": []
  },
  {
   "cell_type": "code",
   "execution_count": 74,
   "metadata": {},
   "outputs": [],
   "source": [
    "# Simulator.UnitaryResult.get_subspace_operator(['00000','00100','10000','10100'])\n",
    "Simulator.UnitaryResult.get_subspace_operator(['00001','00101','10001','10101'])\n",
    "Simulator.UnitaryResult.remove_single_qubit_gate()\n",
    "Simulator.UnitaryResult.set_Target_gate('CZ')\n",
    "# Simulator.UnitaryResult.get_Gate_Fidelity()"
   ]
  },
  {
   "cell_type": "code",
   "execution_count": 75,
   "metadata": {},
   "outputs": [
    {
     "data": {
      "text/latex": [
       "Quantum object: dims = [[4], [4]], shape = (4, 4), type = oper, isherm = False\\begin{equation*}\\left(\\begin{array}{*{11}c}1.000 & 0.0 & 0.0 & (7.336\\times10^{-12}+1.846\\times10^{-11}j)\\\\0.0 & 1.000 & (1.294\\times10^{-04}-1.648\\times10^{-04}j) & 0.0\\\\0.0 & (-1.257\\times10^{-04}-1.677\\times10^{-04}j) & 0.989 & 0.0\\\\(2.544\\times10^{-12}-1.970\\times10^{-11}j) & 0.0 & 0.0 & (-1.000+0.002j)\\\\\\end{array}\\right)\\end{equation*}"
      ],
      "text/plain": [
       "Quantum object: dims = [[4], [4]], shape = (4, 4), type = oper, isherm = False\n",
       "Qobj data =\n",
       "[[ 9.99770160e-01+0.00000000e+00j  0.00000000e+00+0.00000000e+00j\n",
       "   0.00000000e+00+0.00000000e+00j  7.33555813e-12+1.84581152e-11j]\n",
       " [ 0.00000000e+00+0.00000000e+00j  9.99992539e-01+0.00000000e+00j\n",
       "   1.29399034e-04-1.64829876e-04j  0.00000000e+00+0.00000000e+00j]\n",
       " [ 0.00000000e+00+0.00000000e+00j -1.25709942e-04-1.67660397e-04j\n",
       "   9.89311538e-01+0.00000000e+00j  0.00000000e+00+0.00000000e+00j]\n",
       " [ 2.54381544e-12-1.96987650e-11j  0.00000000e+00+0.00000000e+00j\n",
       "   0.00000000e+00+0.00000000e+00j -9.99775881e-01+2.32221474e-03j]]"
      ]
     },
     "execution_count": 75,
     "metadata": {},
     "output_type": "execute_result"
    }
   ],
   "source": [
    "Simulator.UnitaryResult.U_sub"
   ]
  },
  {
   "cell_type": "code",
   "execution_count": null,
   "metadata": {},
   "outputs": [],
   "source": []
  },
  {
   "cell_type": "code",
   "execution_count": 65,
   "metadata": {},
   "outputs": [
    {
     "data": {
      "text/latex": [
       "Quantum object: dims = [[4], [4]], shape = (4, 4), type = oper, isherm = False\\begin{equation*}\\left(\\begin{array}{*{11}c}0.965 & 0.0 & 0.0 & (-3.503\\times10^{-09}+3.437\\times10^{-09}j)\\\\0.0 & 0.980 & (8.563\\times10^{-04}-1.649\\times10^{-04}j) & 0.0\\\\0.0 & (7.472\\times10^{-04}-4.495\\times10^{-04}j) & 0.981 & 0.0\\\\(4.815\\times10^{-09}+9.477\\times10^{-10}j) & 0.0 & 0.0 & (-0.981-0.028j)\\\\\\end{array}\\right)\\end{equation*}"
      ],
      "text/plain": [
       "Quantum object: dims = [[4], [4]], shape = (4, 4), type = oper, isherm = False\n",
       "Qobj data =\n",
       "[[ 9.64616583e-01+0.00000000e+00j  0.00000000e+00+0.00000000e+00j\n",
       "   0.00000000e+00+0.00000000e+00j -3.50314776e-09+3.43713214e-09j]\n",
       " [ 0.00000000e+00+0.00000000e+00j  9.80090299e-01+0.00000000e+00j\n",
       "   8.56258564e-04-1.64869443e-04j  0.00000000e+00+0.00000000e+00j]\n",
       " [ 0.00000000e+00+0.00000000e+00j  7.47174690e-04-4.49544931e-04j\n",
       "   9.80915369e-01+0.00000000e+00j  0.00000000e+00+0.00000000e+00j]\n",
       " [ 4.81537054e-09+9.47695684e-10j  0.00000000e+00+0.00000000e+00j\n",
       "   0.00000000e+00+0.00000000e+00j -9.81153130e-01-2.82667358e-02j]]"
      ]
     },
     "execution_count": 65,
     "metadata": {},
     "output_type": "execute_result"
    }
   ],
   "source": [
    "Simulator.UnitaryResult.get_subspace_operator(['00001','00101','10001','10101'])\n",
    "Simulator.UnitaryResult.remove_single_qubit_gate()\n",
    "Simulator.UnitaryResult.set_Target_gate('CZ')\n",
    "# Simulator.UnitaryResult.get_Gate_Fidelity()\n",
    "Simulator.UnitaryResult.U_sub"
   ]
  },
  {
   "cell_type": "code",
   "execution_count": null,
   "metadata": {},
   "outputs": [],
   "source": []
  },
  {
   "cell_type": "code",
   "execution_count": null,
   "metadata": {},
   "outputs": [],
   "source": []
  },
  {
   "cell_type": "code",
   "execution_count": 109,
   "metadata": {},
   "outputs": [],
   "source": [
    "def remove_local_phases(U):\n",
    "    diag_value=U.diag()\n",
    "    phaseQ3=np.angle(diag_value[1])-np.angle(diag_value[0])\n",
    "    phaseQ2=np.angle(diag_value[2])-np.angle(diag_value[0])\n",
    "    phaseQ1=np.angle(diag_value[4])-np.angle(diag_value[0])\n",
    "    \n",
    "    U001 =qt.tensor(qt.qeye(2),qt.qeye(2),Z_Gate(-phaseQ3).U)\n",
    "    U010 =qt.tensor(qt.qeye(2),Z_Gate(-phaseQ2).U,qt.qeye(2))\n",
    "    U100 =qt.tensor(Z_Gate(-phaseQ1).U,qt.qeye(2),qt.qeye(2))\n",
    "    \n",
    "    U001.dims=[[8],[8]]\n",
    "    U010.dims=[[8],[8]]\n",
    "    U100.dims=[[8],[8]]\n",
    "    Operator_after_rot=U001*U010*U100*U\n",
    "    phase_global=np.angle(Operator_after_rot.diag()[0])\n",
    "    \n",
    "    return np.exp(-1j*phase_global)*Operator_after_rot"
   ]
  },
  {
   "cell_type": "code",
   "execution_count": null,
   "metadata": {},
   "outputs": [],
   "source": []
  },
  {
   "cell_type": "code",
   "execution_count": null,
   "metadata": {},
   "outputs": [],
   "source": []
  },
  {
   "cell_type": "code",
   "execution_count": null,
   "metadata": {},
   "outputs": [],
   "source": []
  },
  {
   "cell_type": "code",
   "execution_count": null,
   "metadata": {},
   "outputs": [],
   "source": []
  },
  {
   "cell_type": "code",
   "execution_count": 104,
   "metadata": {},
   "outputs": [],
   "source": [
    "def cost_func(pulse_params,*args):\n",
    "    gate_time,SRATE,f_term=args\n",
    "    \n",
    "    lamb1 = pulse_params\n",
    "    total_len = gate_time + 8e-9\n",
    "    \n",
    "    Seq=PG.Sequence(total_len=total_len,sample_rate=SRATE,complex_trace=False)\n",
    "    Seq.clear_pulse(tips_on=False)\n",
    "    Seq.add_pulse('Adiabatic',t0=total_len/2,width=gate_time,plateau=0e-9,frequency=0,F_Terms=f_term,Lcoeff=np.array(lamb1),Q1_freq=6.0e9,\n",
    "                 CPLR_idle_freq=7.87e9,Q2_freq=5.4e9,constant_coupling=False,r1c=0.018,r2c=0.018,r12=0.0015,anhar_CPLR=-300e6,\n",
    "                 anhar_Q1=-250e6,anhar_Q2=-250e6,negative_amplitude=False,dfdV=7.87e9-1e9,gap_threshold=8e6,freqpoints=301,pulsepoints=601)\n",
    "    Seq.add_filter('Gauss Low Pass',300e6)\n",
    "    flux_pulse=Seq.get_sequence()\n",
    "\n",
    "    raw_config = Circuit_Simulator.RawConfig(qubit_num=5,dimension=3,circuit_type=1,initial_state='-Z+Z+Z+Z+Z',sampling_rate=SRATE)\n",
    "    raw_config.load_default_value(modulation=True,decoherence=False,use_capacitance=False)\n",
    "\n",
    "    raw_config.setValue('Q1 f01_max',6.0e9)\n",
    "    raw_config.setValue('Q2 f01_max',7.87e9)\n",
    "    raw_config.setValue('Q3 f01_max',5.4e9)\n",
    "    raw_config.setValue('Q4 f01_max',8.22e9)\n",
    "    raw_config.setValue('Q5 f01_max',6.1e9)\n",
    "\n",
    "    raw_config.setValue('Q1 f01_min',1e9)\n",
    "    raw_config.setValue('Q2 f01_min',1e9)\n",
    "    raw_config.setValue('Q3 f01_min',1e9)\n",
    "    raw_config.setValue('Q4 f01_min',1e9)\n",
    "    raw_config.setValue('Q5 f01_min',1e9)    \n",
    "\n",
    "    raw_config.setValue('Q1 Ec',0.25e9)\n",
    "    raw_config.setValue('Q2 Ec',0.3e9)\n",
    "    raw_config.setValue('Q3 Ec',0.25e9)\n",
    "    raw_config.setValue('Q4 Ec',0.30e9)\n",
    "    raw_config.setValue('Q5 Ec',0.25e9)\n",
    "\n",
    "    raw_config.setValue('r12',0.018)\n",
    "    raw_config.setValue('r23',0.018)\n",
    "    raw_config.setValue('r13',0.0015)\n",
    "    raw_config.setValue('r34',0.018)\n",
    "    raw_config.setValue('r45',0.018)\n",
    "    raw_config.setValue('r35',0.0015)\n",
    "\n",
    "    raw_config.setValue('r14',0.0001)\n",
    "    raw_config.setValue('r15',0.0001)\n",
    "    raw_config.setValue('r24',0.0001)\n",
    "    raw_config.setValue('r25',0.0001)\n",
    "    \n",
    "    raw_config.setValue('Q2 Voltage period',-1)\n",
    "    raw_config.setValue('Q2 Voltage operating point',0)\n",
    "    raw_config.setValue('Q2 Flux',flux_pulse)\n",
    "\n",
    "    simu_config = Circuit_Simulator.read_config(raw_config.get_dict())\n",
    "    Simulator = Circuit_Simulator.Simulator(simu_config)\n",
    "\n",
    "    Simulator.performsimulation(solver_type=1)\n",
    "    Simulator.UnitaryResult.get_U(-1)\n",
    "\n",
    "    Simulator.UnitaryResult.get_subspace_operator(['00000','00100','10000','10100'])\n",
    "    Simulator.UnitaryResult.remove_single_qubit_gate()\n",
    "    Simulator.UnitaryResult.set_Target_gate('CZ')\n",
    "    Simulator.UnitaryResult.get_Gate_Fidelity()\n",
    "    fidelity = Simulator.UnitaryResult.Gate_Fidelity\n",
    "    print('lamb1:',lamb1)\n",
    "    print('error:',1-fidelity)\n",
    "    return 1 - fidelity"
   ]
  },
  {
   "cell_type": "code",
   "execution_count": 54,
   "metadata": {},
   "outputs": [
    {
     "name": "stdout",
     "output_type": "stream",
     "text": [
      "lamb1: [0.4]\n",
      "error: 0.6176179873397682\n",
      "lamb1: [0.42]\n",
      "error: 0.5978991960754558\n",
      "lamb1: [0.44]\n",
      "error: 0.5765408671042525\n",
      "lamb1: [0.46]\n",
      "error: 0.5535470110006956\n",
      "lamb1: [0.5]\n",
      "error: 0.5027043745955171\n",
      "lamb1: [0.54]\n",
      "error: 0.44570312328211625\n",
      "lamb1: [0.62]\n",
      "error: 0.31661500889736705\n",
      "lamb1: [0.7]\n",
      "error: 0.17872300924785078\n",
      "lamb1: [0.86]\n",
      "error: 0.00010152663598561595\n",
      "lamb1: [1.02]\n",
      "error: 0.35265319213389645\n",
      "lamb1: [1.02]\n",
      "error: 0.35265319213389645\n",
      "lamb1: [0.78]\n",
      "error: 0.05783587067311191\n",
      "lamb1: [0.94]\n",
      "error: 0.07762986472767353\n",
      "lamb1: [0.82]\n",
      "error: 0.01719450268598366\n",
      "lamb1: [0.9]\n",
      "error: 0.016458343623145688\n",
      "lamb1: [0.88]\n",
      "error: 0.0034159198664678314\n",
      "lamb1: [0.84]\n",
      "error: 0.005127419068161387\n",
      "lamb1: [0.87]\n",
      "error: 0.0006324592579934896\n",
      "lamb1: [0.85]\n",
      "error: 0.0016555051363633666\n",
      "lamb1: [0.865]\n",
      "error: 9.57472776008661e-05\n",
      "lamb1: [0.87]\n",
      "error: 0.0006324592579934896\n",
      "lamb1: [0.8625]\n",
      "error: 3.2433862992009566e-05\n",
      "lamb1: [0.86]\n",
      "error: 0.00010152663598561595\n",
      "lamb1: [0.86375]\n",
      "error: 4.746578549663649e-05\n",
      "lamb1: [0.86125]\n",
      "error: 5.0693010362978796e-05\n",
      "lamb1: [0.863125]\n",
      "error: 3.5783126882793503e-05\n",
      "lamb1: [0.861875]\n",
      "error: 3.733419392037973e-05\n",
      "lamb1: [0.8628125]\n",
      "error: 3.306484016063482e-05\n",
      "lamb1: [0.8621875]\n",
      "error: 3.394537009682175e-05\n",
      "lamb1: [0.86265625]\n",
      "error: 3.2467570832750425e-05\n",
      "lamb1: [0.86234375]\n",
      "error: 3.287280487118682e-05\n",
      "lamb1: [0.86257813]\n",
      "error: 3.2380386893460233e-05\n",
      "lamb1: [0.86265625]\n",
      "error: 3.2467570832750425e-05\n",
      "lamb1: [0.86253906]\n",
      "error: 3.238625950696683e-05\n",
      "lamb1: [0.86261719]\n",
      "error: 3.24080257444459e-05\n",
      "lamb1: [0.86255859]\n",
      "error: 3.237908175646176e-05\n",
      "lamb1: [0.86253906]\n",
      "error: 3.238625950696683e-05\n",
      "lamb1: [0.86256836]\n",
      "error: 3.237942066380839e-05\n",
      "Optimization terminated successfully.\n",
      "         Current function value: 0.000032\n",
      "         Iterations: 19\n",
      "         Function evaluations: 38\n"
     ]
    }
   ],
   "source": [
    "gate_time=30e-9\n",
    "SRATE=10e9\n",
    "f_terms=1\n",
    "raw_initial_seeds=np.array([0.4])\n",
    "DATA = sci_op.minimize(cost_func,raw_initial_seeds,args=(gate_time,SRATE,f_terms), method='Nelder-Mead', options={'disp': True,'ftol':1e-5,'xtol':1e-5,'maxiter':30})"
   ]
  },
  {
   "cell_type": "code",
   "execution_count": null,
   "metadata": {},
   "outputs": [],
   "source": []
  },
  {
   "cell_type": "code",
   "execution_count": null,
   "metadata": {},
   "outputs": [],
   "source": []
  }
 ],
 "metadata": {
  "kernelspec": {
   "display_name": "Python 3",
   "language": "python",
   "name": "python3"
  },
  "language_info": {
   "codemirror_mode": {
    "name": "ipython",
    "version": 3
   },
   "file_extension": ".py",
   "mimetype": "text/x-python",
   "name": "python",
   "nbconvert_exporter": "python",
   "pygments_lexer": "ipython3",
   "version": "3.7.1"
  },
  "toc": {
   "base_numbering": 1,
   "nav_menu": {},
   "number_sections": true,
   "sideBar": true,
   "skip_h1_title": false,
   "title_cell": "Table of Contents",
   "title_sidebar": "Contents",
   "toc_cell": false,
   "toc_position": {},
   "toc_section_display": true,
   "toc_window_display": false
  }
 },
 "nbformat": 4,
 "nbformat_minor": 2
}
