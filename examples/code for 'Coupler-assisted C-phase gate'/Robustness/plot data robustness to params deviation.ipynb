{
 "cells": [
  {
   "cell_type": "code",
   "execution_count": 1,
   "metadata": {},
   "outputs": [],
   "source": [
    "import sys\n",
    "import numpy as np\n",
    "import time\n",
    "import matplotlib.pyplot as plt\n",
    "from scipy import interpolate \n",
    "sys.path.append(r'C:\\Chuji\\Code_and_Data\\MyCode')\n",
    "\n",
    "import Circuit_Simulator \n",
    "import PulseGenerator as PG\n",
    "from toolfunc import *\n",
    "from toolfunc.adia_analysis import *\n",
    "from toolfunc.pulse_filter import *\n",
    "import scipy.optimize as sci_op\n",
    "from toolfunc import DE"
   ]
  },
  {
   "cell_type": "code",
   "execution_count": null,
   "metadata": {},
   "outputs": [],
   "source": []
  },
  {
   "cell_type": "code",
   "execution_count": 2,
   "metadata": {},
   "outputs": [],
   "source": [
    "detuning_var = np.arange(-200e6,200.1e6,10e6)\n",
    "anhar_var = np.arange(-100e6,100.1e6,5e6)\n",
    "r_var= np.append(np.append(np.arange(-0.5,-0.2,0.02),np.arange(-0.2,0.2,0.01)),np.arange(0.2,0.501,0.02))\n",
    "error_d_wc = np.loadtxt(r'C:\\Chuji\\Latex_Papers\\Mypapers\\ZZ_coupling_20210205\\fig_zz\\Robustness\\robustness_deviation\\error_d_wc.txt')\n",
    "error_d_w1 = np.loadtxt(r'C:\\Chuji\\Latex_Papers\\Mypapers\\ZZ_coupling_20210205\\fig_zz\\Robustness\\robustness_deviation\\error_d_w1.txt')\n",
    "error_d_w2 = np.loadtxt(r'C:\\Chuji\\Latex_Papers\\Mypapers\\ZZ_coupling_20210205\\fig_zz\\Robustness\\robustness_deviation\\error_d_w2.txt')\n",
    "\n",
    "error_r1c = np.loadtxt(r'C:\\Chuji\\Latex_Papers\\Mypapers\\ZZ_coupling_20210205\\fig_zz\\Robustness\\robustness_deviation\\error_r1c.txt')\n",
    "error_r2c = np.loadtxt(r'C:\\Chuji\\Latex_Papers\\Mypapers\\ZZ_coupling_20210205\\fig_zz\\Robustness\\robustness_deviation\\error_r2c.txt')\n",
    "error_r12 = np.loadtxt(r'C:\\Chuji\\Latex_Papers\\Mypapers\\ZZ_coupling_20210205\\fig_zz\\Robustness\\robustness_deviation\\error_r12.txt')\n",
    "\n",
    "error_d_alpha1 = np.loadtxt(r'C:\\Chuji\\Latex_Papers\\Mypapers\\ZZ_coupling_20210205\\fig_zz\\Robustness\\robustness_deviation\\error_d_alpha1.txt')\n",
    "error_d_alpha2 = np.loadtxt(r'C:\\Chuji\\Latex_Papers\\Mypapers\\ZZ_coupling_20210205\\fig_zz\\Robustness\\robustness_deviation\\error_d_alpha2.txt')\n",
    "error_d_alphac = np.loadtxt(r'C:\\Chuji\\Latex_Papers\\Mypapers\\ZZ_coupling_20210205\\fig_zz\\Robustness\\robustness_deviation\\error_d_alphac.txt')"
   ]
  },
  {
   "cell_type": "code",
   "execution_count": 12,
   "metadata": {},
   "outputs": [
    {
     "data": {
      "text/plain": [
       "[[]]"
      ]
     },
     "execution_count": 12,
     "metadata": {},
     "output_type": "execute_result"
    }
   ],
   "source": [
    "fig=plt.figure(figsize=[8.4,2.6])\n",
    "ax1=fig.add_subplot(131)\n",
    "ax2=fig.add_subplot(132)\n",
    "ax3=fig.add_subplot(133)\n",
    "lw=2.5\n",
    "ax1.plot(detuning_var/1e6,error_d_wc,'tab:red',linewidth=lw)\n",
    "ax1.plot(detuning_var/1e6,error_d_w1,'tab:blue',linewidth=lw)\n",
    "ax1.plot(detuning_var/1e6,error_d_w2,'tab:green',linewidth=lw)\n",
    "\n",
    "ax2.plot(r_var,error_r1c,'tab:blue',linewidth=lw)\n",
    "ax2.plot(r_var,error_r2c,'tab:green',linewidth=lw)\n",
    "ax2.plot(r_var,error_r12,'tab:red',linewidth=lw)\n",
    "\n",
    "ax3.plot(anhar_var/1e6,error_d_alpha1,'tab:blue',linewidth=lw)\n",
    "ax3.plot(anhar_var/1e6,error_d_alpha2,'tab:green',linewidth=lw)\n",
    "ax3.plot(anhar_var/1e6,error_d_alphac,'tab:red',linewidth=lw)\n",
    "\n",
    "\n",
    "ax1.set_yscale('log')\n",
    "ax2.set_yscale('log')\n",
    "ax3.set_yscale('log')\n",
    "ax1.set_ylim([3e-6,4e-3])\n",
    "ax2.set_ylim([3e-6,4e-3])\n",
    "ax3.set_ylim([3e-6,4e-3])\n",
    "\n",
    "ax1.set_xlim([-220,220])\n",
    "ax2.set_xlim([-0.55,0.55])\n",
    "ax3.set_xlim([-110,110])\n",
    "\n",
    "\n",
    "ax1.tick_params(axis='x',which='both',bottom=True,top=True,direction='in')\n",
    "ax1.tick_params(axis='y',which='both',left=True,right=True,direction='in')\n",
    "ax2.tick_params(axis='x',which='both',bottom=True,top=True,direction='in')\n",
    "ax2.tick_params(axis='y',which='both',left=True,right=True,direction='in')\n",
    "ax3.tick_params(axis='x',which='both',bottom=True,top=True,direction='in')\n",
    "ax3.tick_params(axis='y',which='both',left=True,right=True,direction='in')\n",
    "\n",
    "\n",
    "ax1.tick_params(labelsize=14)\n",
    "ax2.tick_params(labelsize=14)\n",
    "ax3.tick_params(labelsize=14)\n",
    "\n",
    "ax2.set(yticklabels=[])\n",
    "ax3.set(yticklabels=[])"
   ]
  },
  {
   "cell_type": "code",
   "execution_count": 4,
   "metadata": {},
   "outputs": [],
   "source": [
    "%matplotlib qt"
   ]
  },
  {
   "cell_type": "code",
   "execution_count": null,
   "metadata": {},
   "outputs": [],
   "source": []
  },
  {
   "cell_type": "code",
   "execution_count": 113,
   "metadata": {},
   "outputs": [
    {
     "data": {
      "image/png": "[encoded data removed]",
      "text/plain": [
       "<Figure size 432x288 with 1 Axes>"
      ]
     },
     "metadata": {
      "needs_background": "light"
     },
     "output_type": "display_data"
    }
   ],
   "source": [
    "fig=plt.figure()\n",
    "ax=fig.add_subplot(111)\n",
    "\n",
    "ax.plot(detuning[0:len(error_d_r12)]/1e6,error_d_r12,'r')\n",
    "ax.plot(detuning[0:len(error_d_r1c)]/1e6,error_d_r1c)\n",
    "ax.plot(detuning[0:len(error_d_r2c)]/1e6,error_d_r2c)\n",
    "ax.set_yscale('log')"
   ]
  },
  {
   "cell_type": "code",
   "execution_count": 101,
   "metadata": {},
   "outputs": [
    {
     "data": {
      "text/plain": [
       "array([-0.5 , -0.48, -0.46, -0.44, -0.42, -0.4 , -0.38, -0.36, -0.34,\n",
       "       -0.32, -0.3 , -0.28, -0.26, -0.24, -0.22,  0.2 ,  0.22,  0.24,\n",
       "        0.26,  0.28,  0.3 ,  0.32,  0.34,  0.36,  0.38,  0.4 ,  0.42,\n",
       "        0.44,  0.46,  0.48,  0.5 ])"
      ]
     },
     "execution_count": 101,
     "metadata": {},
     "output_type": "execute_result"
    }
   ],
   "source": [
    "np.append(np.arange(-0.5,-0.2,0.02),np.arange(0.2,0.501,0.02))"
   ]
  },
  {
   "cell_type": "code",
   "execution_count": 100,
   "metadata": {},
   "outputs": [
    {
     "data": {
      "text/plain": [
       "array([0.2 , 0.22, 0.24, 0.26, 0.28, 0.3 , 0.32, 0.34, 0.36, 0.38, 0.4 ,\n",
       "       0.42, 0.44, 0.46, 0.48, 0.5 ])"
      ]
     },
     "execution_count": 100,
     "metadata": {},
     "output_type": "execute_result"
    }
   ],
   "source": [
    "np.arange(0.2,0.501,0.02)"
   ]
  },
  {
   "cell_type": "code",
   "execution_count": null,
   "metadata": {},
   "outputs": [],
   "source": []
  },
  {
   "cell_type": "code",
   "execution_count": null,
   "metadata": {},
   "outputs": [],
   "source": []
  },
  {
   "cell_type": "code",
   "execution_count": 67,
   "metadata": {},
   "outputs": [
    {
     "data": {
      "text/plain": [
       "[<matplotlib.lines.Line2D at 0x1f269630c18>]"
      ]
     },
     "execution_count": 67,
     "metadata": {},
     "output_type": "execute_result"
    },
    {
     "data": {
      "image/png": "[encoded data removed]",
      "text/plain": [
       "<Figure size 432x288 with 1 Axes>"
      ]
     },
     "metadata": {
      "needs_background": "light"
     },
     "output_type": "display_data"
    }
   ],
   "source": [
    "fig=plt.figure()\n",
    "ax=fig.add_subplot(111)\n",
    "ax.plot(detuning/1e6,error_d_wc*100)\n",
    "ax.plot(detuning[0:len(error_d_w1)]/1e6,error_d_w1*100)\n",
    "ax.plot(detuning[0:len(error_d_w2)]/1e6,error_d_w2*100)\n",
    "ax.plot(detuning[0:len(error_d_r1c)]/1e6,error_d_r1c*100)\n",
    "ax.plot(detuning[0:len(error_d_r2c)]/1e6,error_d_r2c*100)\n",
    "# ax.set_yscale('log')"
   ]
  },
  {
   "cell_type": "code",
   "execution_count": null,
   "metadata": {},
   "outputs": [],
   "source": []
  },
  {
   "cell_type": "code",
   "execution_count": null,
   "metadata": {},
   "outputs": [],
   "source": []
  },
  {
   "cell_type": "code",
   "execution_count": null,
   "metadata": {},
   "outputs": [],
   "source": []
  }
 ],
 "metadata": {
  "kernelspec": {
   "display_name": "Python 3",
   "language": "python",
   "name": "python3"
  },
  "language_info": {
   "codemirror_mode": {
    "name": "ipython",
    "version": 3
   },
   "file_extension": ".py",
   "mimetype": "text/x-python",
   "name": "python",
   "nbconvert_exporter": "python",
   "pygments_lexer": "ipython3",
   "version": "3.7.1"
  },
  "toc": {
   "base_numbering": 1,
   "nav_menu": {},
   "number_sections": true,
   "sideBar": true,
   "skip_h1_title": false,
   "title_cell": "Table of Contents",
   "title_sidebar": "Contents",
   "toc_cell": false,
   "toc_position": {},
   "toc_section_display": true,
   "toc_window_display": false
  }
 },
 "nbformat": 4,
 "nbformat_minor": 2
}
