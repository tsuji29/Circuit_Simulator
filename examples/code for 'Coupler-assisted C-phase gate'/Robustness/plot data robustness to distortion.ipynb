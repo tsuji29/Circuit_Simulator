{
 "cells": [
  {
   "cell_type": "code",
   "execution_count": 1,
   "metadata": {},
   "outputs": [],
   "source": [
    "import sys\n",
    "import numpy as np\n",
    "import time\n",
    "import matplotlib.pyplot as plt\n",
    "from scipy import interpolate \n",
    "sys.path.append(r'C:\\Chuji\\Code_and_Data\\MyCode')\n",
    "\n",
    "import Circuit_Simulator \n",
    "import PulseGenerator as PG\n",
    "from toolfunc import *\n",
    "from toolfunc.adia_analysis import *\n",
    "from toolfunc.pulse_filter import *\n",
    "import scipy.optimize as sci_op\n",
    "from toolfunc import DE"
   ]
  },
  {
   "cell_type": "code",
   "execution_count": 2,
   "metadata": {},
   "outputs": [
    {
     "ename": "OSError",
     "evalue": "C:\\Chuji\\Latex_Papers\\Mypapers\\ZZ_coupling_20210205\\fig_zz\\Robustness\\error_one_distor_30ns.txt not found.",
     "output_type": "error",
     "traceback": [
      "\u001b[1;31m---------------------------------------------------------------------------\u001b[0m",
      "\u001b[1;31mOSError\u001b[0m                                   Traceback (most recent call last)",
      "\u001b[1;32m<ipython-input-2-69477a3454da>\u001b[0m in \u001b[0;36m<module>\u001b[1;34m\u001b[0m\n\u001b[1;32m----> 1\u001b[1;33m \u001b[0mError_one\u001b[0m \u001b[1;33m=\u001b[0m \u001b[0mnp\u001b[0m\u001b[1;33m.\u001b[0m\u001b[0mloadtxt\u001b[0m\u001b[1;33m(\u001b[0m\u001b[1;34mr'C:\\Chuji\\Latex_Papers\\Mypapers\\ZZ_coupling_20210205\\fig_zz\\Robustness\\error_one_distor_30ns.txt'\u001b[0m\u001b[1;33m)\u001b[0m\u001b[1;33m\u001b[0m\u001b[1;33m\u001b[0m\u001b[0m\n\u001b[0m\u001b[0;32m      2\u001b[0m \u001b[0mParam_one\u001b[0m \u001b[1;33m=\u001b[0m \u001b[0mnp\u001b[0m\u001b[1;33m.\u001b[0m\u001b[0mloadtxt\u001b[0m\u001b[1;33m(\u001b[0m\u001b[1;34mr'C:\\Chuji\\Latex_Papers\\Mypapers\\ZZ_coupling_20210205\\fig_zz\\Robustness\\params_one_distor_30ns.txt'\u001b[0m\u001b[1;33m)\u001b[0m\u001b[1;33m\u001b[0m\u001b[1;33m\u001b[0m\u001b[0m\n\u001b[0;32m      3\u001b[0m \u001b[1;33m\u001b[0m\u001b[0m\n\u001b[0;32m      4\u001b[0m \u001b[0mError_one2\u001b[0m \u001b[1;33m=\u001b[0m \u001b[0mnp\u001b[0m\u001b[1;33m.\u001b[0m\u001b[0mloadtxt\u001b[0m\u001b[1;33m(\u001b[0m\u001b[1;34mr'C:\\Chuji\\Latex_Papers\\Mypapers\\ZZ_coupling_20210205\\fig_zz\\Robustness\\error_one_distor_30ns_6_20ns.txt'\u001b[0m\u001b[1;33m)\u001b[0m\u001b[1;33m\u001b[0m\u001b[1;33m\u001b[0m\u001b[0m\n\u001b[0;32m      5\u001b[0m \u001b[0mParam_one2\u001b[0m \u001b[1;33m=\u001b[0m \u001b[0mnp\u001b[0m\u001b[1;33m.\u001b[0m\u001b[0mloadtxt\u001b[0m\u001b[1;33m(\u001b[0m\u001b[1;34mr'C:\\Chuji\\Latex_Papers\\Mypapers\\ZZ_coupling_20210205\\fig_zz\\Robustness\\params_one_distor_30ns_6_20ns.txt'\u001b[0m\u001b[1;33m)\u001b[0m\u001b[1;33m\u001b[0m\u001b[1;33m\u001b[0m\u001b[0m\n",
      "\u001b[1;32m~\\AppData\\Roaming\\Python\\Python37\\site-packages\\numpy\\lib\\npyio.py\u001b[0m in \u001b[0;36mloadtxt\u001b[1;34m(fname, dtype, comments, delimiter, converters, skiprows, usecols, unpack, ndmin, encoding, max_rows)\u001b[0m\n\u001b[0;32m    959\u001b[0m             \u001b[0mfname\u001b[0m \u001b[1;33m=\u001b[0m \u001b[0mos_fspath\u001b[0m\u001b[1;33m(\u001b[0m\u001b[0mfname\u001b[0m\u001b[1;33m)\u001b[0m\u001b[1;33m\u001b[0m\u001b[1;33m\u001b[0m\u001b[0m\n\u001b[0;32m    960\u001b[0m         \u001b[1;32mif\u001b[0m \u001b[0m_is_string_like\u001b[0m\u001b[1;33m(\u001b[0m\u001b[0mfname\u001b[0m\u001b[1;33m)\u001b[0m\u001b[1;33m:\u001b[0m\u001b[1;33m\u001b[0m\u001b[1;33m\u001b[0m\u001b[0m\n\u001b[1;32m--> 961\u001b[1;33m             \u001b[0mfh\u001b[0m \u001b[1;33m=\u001b[0m \u001b[0mnp\u001b[0m\u001b[1;33m.\u001b[0m\u001b[0mlib\u001b[0m\u001b[1;33m.\u001b[0m\u001b[0m_datasource\u001b[0m\u001b[1;33m.\u001b[0m\u001b[0mopen\u001b[0m\u001b[1;33m(\u001b[0m\u001b[0mfname\u001b[0m\u001b[1;33m,\u001b[0m \u001b[1;34m'rt'\u001b[0m\u001b[1;33m,\u001b[0m \u001b[0mencoding\u001b[0m\u001b[1;33m=\u001b[0m\u001b[0mencoding\u001b[0m\u001b[1;33m)\u001b[0m\u001b[1;33m\u001b[0m\u001b[1;33m\u001b[0m\u001b[0m\n\u001b[0m\u001b[0;32m    962\u001b[0m             \u001b[0mfencoding\u001b[0m \u001b[1;33m=\u001b[0m \u001b[0mgetattr\u001b[0m\u001b[1;33m(\u001b[0m\u001b[0mfh\u001b[0m\u001b[1;33m,\u001b[0m \u001b[1;34m'encoding'\u001b[0m\u001b[1;33m,\u001b[0m \u001b[1;34m'latin1'\u001b[0m\u001b[1;33m)\u001b[0m\u001b[1;33m\u001b[0m\u001b[1;33m\u001b[0m\u001b[0m\n\u001b[0;32m    963\u001b[0m             \u001b[0mfh\u001b[0m \u001b[1;33m=\u001b[0m \u001b[0miter\u001b[0m\u001b[1;33m(\u001b[0m\u001b[0mfh\u001b[0m\u001b[1;33m)\u001b[0m\u001b[1;33m\u001b[0m\u001b[1;33m\u001b[0m\u001b[0m\n",
      "\u001b[1;32m~\\AppData\\Roaming\\Python\\Python37\\site-packages\\numpy\\lib\\_datasource.py\u001b[0m in \u001b[0;36mopen\u001b[1;34m(path, mode, destpath, encoding, newline)\u001b[0m\n\u001b[0;32m    193\u001b[0m \u001b[1;33m\u001b[0m\u001b[0m\n\u001b[0;32m    194\u001b[0m     \u001b[0mds\u001b[0m \u001b[1;33m=\u001b[0m \u001b[0mDataSource\u001b[0m\u001b[1;33m(\u001b[0m\u001b[0mdestpath\u001b[0m\u001b[1;33m)\u001b[0m\u001b[1;33m\u001b[0m\u001b[1;33m\u001b[0m\u001b[0m\n\u001b[1;32m--> 195\u001b[1;33m     \u001b[1;32mreturn\u001b[0m \u001b[0mds\u001b[0m\u001b[1;33m.\u001b[0m\u001b[0mopen\u001b[0m\u001b[1;33m(\u001b[0m\u001b[0mpath\u001b[0m\u001b[1;33m,\u001b[0m \u001b[0mmode\u001b[0m\u001b[1;33m,\u001b[0m \u001b[0mencoding\u001b[0m\u001b[1;33m=\u001b[0m\u001b[0mencoding\u001b[0m\u001b[1;33m,\u001b[0m \u001b[0mnewline\u001b[0m\u001b[1;33m=\u001b[0m\u001b[0mnewline\u001b[0m\u001b[1;33m)\u001b[0m\u001b[1;33m\u001b[0m\u001b[1;33m\u001b[0m\u001b[0m\n\u001b[0m\u001b[0;32m    196\u001b[0m \u001b[1;33m\u001b[0m\u001b[0m\n\u001b[0;32m    197\u001b[0m \u001b[1;33m\u001b[0m\u001b[0m\n",
      "\u001b[1;32m~\\AppData\\Roaming\\Python\\Python37\\site-packages\\numpy\\lib\\_datasource.py\u001b[0m in \u001b[0;36mopen\u001b[1;34m(self, path, mode, encoding, newline)\u001b[0m\n\u001b[0;32m    533\u001b[0m                                       encoding=encoding, newline=newline)\n\u001b[0;32m    534\u001b[0m         \u001b[1;32melse\u001b[0m\u001b[1;33m:\u001b[0m\u001b[1;33m\u001b[0m\u001b[1;33m\u001b[0m\u001b[0m\n\u001b[1;32m--> 535\u001b[1;33m             \u001b[1;32mraise\u001b[0m \u001b[0mIOError\u001b[0m\u001b[1;33m(\u001b[0m\u001b[1;34m\"%s not found.\"\u001b[0m \u001b[1;33m%\u001b[0m \u001b[0mpath\u001b[0m\u001b[1;33m)\u001b[0m\u001b[1;33m\u001b[0m\u001b[1;33m\u001b[0m\u001b[0m\n\u001b[0m\u001b[0;32m    536\u001b[0m \u001b[1;33m\u001b[0m\u001b[0m\n\u001b[0;32m    537\u001b[0m \u001b[1;33m\u001b[0m\u001b[0m\n",
      "\u001b[1;31mOSError\u001b[0m: C:\\Chuji\\Latex_Papers\\Mypapers\\ZZ_coupling_20210205\\fig_zz\\Robustness\\error_one_distor_30ns.txt not found."
     ]
    }
   ],
   "source": [
    "Error_one = np.loadtxt(r'C:\\Chuji\\Latex_Papers\\Mypapers\\ZZ_coupling_20210205\\fig_zz\\Robustness\\error_one_distor_30ns.txt')\n",
    "Param_one = np.loadtxt(r'C:\\Chuji\\Latex_Papers\\Mypapers\\ZZ_coupling_20210205\\fig_zz\\Robustness\\params_one_distor_30ns.txt')\n",
    "\n",
    "Error_one2 = np.loadtxt(r'C:\\Chuji\\Latex_Papers\\Mypapers\\ZZ_coupling_20210205\\fig_zz\\Robustness\\error_one_distor_30ns_6_20ns.txt')\n",
    "Param_one2 = np.loadtxt(r'C:\\Chuji\\Latex_Papers\\Mypapers\\ZZ_coupling_20210205\\fig_zz\\Robustness\\params_one_distor_30ns_6_20ns.txt')\n",
    "\n",
    "Error_two = np.loadtxt(r'C:\\Chuji\\Latex_Papers\\Mypapers\\ZZ_coupling_20210205\\fig_zz\\Robustness\\error_two_distor_30ns.txt')\n",
    "Param_two = np.loadtxt(r'C:\\Chuji\\Latex_Papers\\Mypapers\\ZZ_coupling_20210205\\fig_zz\\Robustness\\params_two1_distor_30ns.txt')"
   ]
  },
  {
   "cell_type": "code",
   "execution_count": null,
   "metadata": {},
   "outputs": [],
   "source": [
    "Tr_arr = np.arange(0.5e-9,10.1e-9,0.5e-9)\n",
    "factor_r_arr = np.linspace(-0.1,0.1,21)"
   ]
  },
  {
   "cell_type": "code",
   "execution_count": null,
   "metadata": {},
   "outputs": [],
   "source": [
    "from matplotlib.colors import LogNorm\n",
    "from matplotlib import cm\n",
    "from matplotlib import *\n",
    "\n",
    "Tr_arr = np.arange(0.5e-9,20.1e-9,0.5e-9)\n",
    "factor_r_arr = np.linspace(-0.1,0.1,21)\n",
    "\n",
    "fig = plt.figure(figsize=[8.0,7.2])\n",
    "ax = fig.add_axes([0.15,0.10,0.72,0.8])\n",
    "ax_colorbar = fig.add_axes([0.88,0.10,0.016,0.8])\n",
    "\n",
    "X,Y = np.meshgrid(factor_r_arr,Tr_arr*1e9)\n",
    "\n",
    "im = ax.pcolor(X,Y,Error_two,cmap=cm.coolwarm,norm = LogNorm())\n",
    "# im = ax.pcolor(X,Y,Param_one2)\n",
    "\n",
    "\n",
    "\n",
    "colarbar= plt.colorbar(im,cax=ax_colorbar)\n",
    "\n",
    "# ax.set_xlabel('Q1Q2detuning (GHz)',fontsize=16)\n",
    "# ax.set_ylabel('Coupler Anhar (GHz)',fontsize=16)\n",
    "ax.tick_params(labelsize=16)\n",
    "plt.tick_params(labelsize=16)"
   ]
  },
  {
   "cell_type": "code",
   "execution_count": null,
   "metadata": {},
   "outputs": [],
   "source": [
    "from matplotlib.colors import LogNorm\n",
    "from matplotlib import cm\n",
    "from matplotlib import *\n",
    "\n",
    "Tr_arr = np.arange(6e-9,20.1e-9,0.5e-9)\n",
    "factor_r_arr = np.linspace(-0.1,0.1,21)\n",
    "\n",
    "fig = plt.figure(figsize=[8.0,7.2])\n",
    "ax = fig.add_axes([0.15,0.10,0.72,0.8])\n",
    "ax_colorbar = fig.add_axes([0.88,0.10,0.016,0.8])\n",
    "\n",
    "X,Y = np.meshgrid(factor_r_arr,Tr_arr*1e9)\n",
    "\n",
    "im = ax.pcolor(X,Y,Error_one2,cmap=cm.coolwarm,norm = LogNorm())\n",
    "# im = ax.pcolor(X,Y,Param_one2)\n",
    "\n",
    "\n",
    "\n",
    "colarbar= plt.colorbar(im,cax=ax_colorbar)\n",
    "\n",
    "# ax.set_xlabel('Q1Q2detuning (GHz)',fontsize=16)\n",
    "# ax.set_ylabel('Coupler Anhar (GHz)',fontsize=16)\n",
    "ax.tick_params(labelsize=16)\n",
    "plt.tick_params(labelsize=16)"
   ]
  },
  {
   "cell_type": "code",
   "execution_count": null,
   "metadata": {},
   "outputs": [],
   "source": [
    "Tr_arr[20]"
   ]
  },
  {
   "cell_type": "code",
   "execution_count": null,
   "metadata": {},
   "outputs": [],
   "source": []
  },
  {
   "cell_type": "code",
   "execution_count": null,
   "metadata": {},
   "outputs": [],
   "source": []
  },
  {
   "cell_type": "code",
   "execution_count": 5,
   "metadata": {},
   "outputs": [
    {
     "ename": "NameError",
     "evalue": "name 'flux_pulse_distor' is not defined",
     "output_type": "error",
     "traceback": [
      "\u001b[1;31m---------------------------------------------------------------------------\u001b[0m",
      "\u001b[1;31mNameError\u001b[0m                                 Traceback (most recent call last)",
      "\u001b[1;32m<ipython-input-5-962eca43cf09>\u001b[0m in \u001b[0;36m<module>\u001b[1;34m\u001b[0m\n\u001b[0;32m     22\u001b[0m \u001b[0mflux_pulse\u001b[0m\u001b[1;33m=\u001b[0m\u001b[0mSeq\u001b[0m\u001b[1;33m.\u001b[0m\u001b[0mget_sequence\u001b[0m\u001b[1;33m(\u001b[0m\u001b[1;33m)\u001b[0m\u001b[1;33m\u001b[0m\u001b[1;33m\u001b[0m\u001b[0m\n\u001b[0;32m     23\u001b[0m \u001b[1;33m\u001b[0m\u001b[0m\n\u001b[1;32m---> 24\u001b[1;33m \u001b[0mplt\u001b[0m\u001b[1;33m.\u001b[0m\u001b[0mplot\u001b[0m\u001b[1;33m(\u001b[0m\u001b[0mflux_pulse_distor\u001b[0m\u001b[1;33m/\u001b[0m\u001b[0mnp\u001b[0m\u001b[1;33m.\u001b[0m\u001b[0mmax\u001b[0m\u001b[1;33m(\u001b[0m\u001b[0mflux_pulse_distor\u001b[0m\u001b[1;33m)\u001b[0m\u001b[1;33m)\u001b[0m\u001b[1;33m\u001b[0m\u001b[1;33m\u001b[0m\u001b[0m\n\u001b[0m\u001b[0;32m     25\u001b[0m \u001b[0mplt\u001b[0m\u001b[1;33m.\u001b[0m\u001b[0mplot\u001b[0m\u001b[1;33m(\u001b[0m\u001b[0mflux_pulse\u001b[0m\u001b[1;33m/\u001b[0m\u001b[0mnp\u001b[0m\u001b[1;33m.\u001b[0m\u001b[0mmax\u001b[0m\u001b[1;33m(\u001b[0m\u001b[0mflux_pulse\u001b[0m\u001b[1;33m)\u001b[0m\u001b[1;33m)\u001b[0m\u001b[1;33m\u001b[0m\u001b[1;33m\u001b[0m\u001b[0m\n",
      "\u001b[1;31mNameError\u001b[0m: name 'flux_pulse_distor' is not defined"
     ]
    }
   ],
   "source": [
    "gate_time=60e-9\n",
    "SRATE=10e9\n",
    "f_term=2\n",
    "factor_r=-0.0\n",
    "T_reflex=5e-9\n",
    "\n",
    "factor1=1.0 \n",
    "factorc=1.0 \n",
    "factor2=1.0 \n",
    "\n",
    "lamb1 = [1.22936097, 0.57456054]\n",
    "total_len = gate_time + 8e-9+4*T_reflex\n",
    "\n",
    "Seq=PG.Sequence(total_len=total_len,sample_rate=SRATE,complex_trace=False)\n",
    "Seq.clear_pulse(tips_on=False)\n",
    "Seq.add_pulse('Adiabatic',t0=gate_time/2+8e-9/2+4e-9,width=gate_time,plateau=0e-9,frequency=0,F_Terms=f_term,Lcoeff=np.array(lamb1),Q1_freq=6.0e9,\n",
    "             CPLR_idle_freq=(7.87e9-6e9)*1+6e9,Q2_freq=6e9+(5.4e9-6e9)*factor2,constant_coupling=False,r1c=0.018*factor1,r2c=0.018*factor2,r12=0.0015*factorc,anhar_CPLR=-300e6*factorc,\n",
    "             anhar_Q1=-250e6*factor1,anhar_Q2=-250e6*factor2,negative_amplitude=False,dfdV=1e9,gap_threshold=8e6,freqpoints=301,pulsepoints=601)\n",
    "Seq.add_filter('Reflection',*(factor_r,T_reflex))\n",
    "Seq.add_filter('Gauss Low Pass',300e6)\n",
    "\n",
    "flux_pulse=Seq.get_sequence()\n",
    "\n",
    "plt.plot(flux_pulse_distor/np.max(flux_pulse_distor))\n",
    "plt.plot(flux_pulse/np.max(flux_pulse))"
   ]
  },
  {
   "cell_type": "code",
   "execution_count": null,
   "metadata": {},
   "outputs": [],
   "source": [
    "plt.plot(flux_pulse_distor/np.max(flux_pulse_distor))\n",
    "plt.plot(flux_pulse/np.max(flux_pulse))"
   ]
  },
  {
   "cell_type": "code",
   "execution_count": null,
   "metadata": {},
   "outputs": [],
   "source": []
  },
  {
   "cell_type": "code",
   "execution_count": 3,
   "metadata": {},
   "outputs": [],
   "source": [
    "Error_one_5ns = np.loadtxt(r'C:\\Chuji\\Latex_Papers\\Mypapers\\ZZ_coupling_20210205\\fig_zz\\Robustness\\error_one_distor_5ns.txt')\n",
    "Error_two_5ns = np.loadtxt(r'C:\\Chuji\\Latex_Papers\\Mypapers\\ZZ_coupling_20210205\\fig_zz\\Robustness\\error_two_distor_5ns.txt')\n",
    "Param_two_5ns = np.loadtxt(r'C:\\Chuji\\Latex_Papers\\Mypapers\\ZZ_coupling_20210205\\fig_zz\\Robustness\\param_two_distor_5ns.txt')\n"
   ]
  },
  {
   "cell_type": "code",
   "execution_count": 4,
   "metadata": {},
   "outputs": [
    {
     "data": {
      "image/png": "[encoded data removed]",
      "text/plain": [
       "<Figure size 360x288 with 1 Axes>"
      ]
     },
     "metadata": {
      "needs_background": "light"
     },
     "output_type": "display_data"
    }
   ],
   "source": [
    "fig = plt.figure(figsize=[5,4])\n",
    "ax = fig.add_axes([0.15,0.10,0.72,0.8])\n",
    "\n",
    "ax.plot(np.linspace(-0.1,0.1,41),Error_one_5ns)\n",
    "ax.plot(np.linspace(-0.1,0.1,41),Error_two_5ns)\n",
    "\n",
    "ax.set_yscale('log')"
   ]
  },
  {
   "cell_type": "code",
   "execution_count": null,
   "metadata": {},
   "outputs": [],
   "source": []
  },
  {
   "cell_type": "code",
   "execution_count": 8,
   "metadata": {},
   "outputs": [],
   "source": [
    "Error_one_0_30ns = np.loadtxt(r'C:\\Chuji\\Latex_Papers\\Mypapers\\ZZ_coupling_20210205\\fig_zz\\Robustness\\error_one_distor_0ns_30ns.txt')\n",
    "Error_two_0_30ns = np.loadtxt(r'C:\\Chuji\\Latex_Papers\\Mypapers\\ZZ_coupling_20210205\\fig_zz\\Robustness\\error_two_distor_0ns_30ns.txt')\n"
   ]
  },
  {
   "cell_type": "code",
   "execution_count": 102,
   "metadata": {},
   "outputs": [
    {
     "data": {
      "image/png": "[encoded data removed]",
      "text/plain": [
       "<Figure size 576x518.4 with 2 Axes>"
      ]
     },
     "metadata": {
      "needs_background": "light"
     },
     "output_type": "display_data"
    }
   ],
   "source": [
    "from matplotlib.colors import LogNorm\n",
    "from matplotlib import cm\n",
    "from matplotlib import *\n",
    "\n",
    "Tr_arr = np.arange(0e-9,30.1e-9,1e-9)\n",
    "factor_r_arr = np.linspace(-0.1,0.1,21)\n",
    "\n",
    "fig = plt.figure(figsize=[8.0,7.2])\n",
    "ax = fig.add_axes([0.15,0.10,0.72,0.8])\n",
    "ax_colorbar = fig.add_axes([0.88,0.10,0.016,0.8])\n",
    "\n",
    "X,Y = np.meshgrid(factor_r_arr,Tr_arr*1e9)\n",
    "\n",
    "im = ax.pcolor(X,Y,Error_two_0_30ns,cmap=cm.coolwarm,norm = LogNorm())\n",
    "# im = ax.pcolor(X,Y,Param_one2)\n",
    "\n",
    "\n",
    "\n",
    "colarbar= plt.colorbar(im,cax=ax_colorbar)\n",
    "\n",
    "# ax.set_xlabel('Q1Q2detuning (GHz)',fontsize=16)\n",
    "# ax.set_ylabel('Coupler Anhar (GHz)',fontsize=16)\n",
    "ax.tick_params(labelsize=16)\n",
    "plt.tick_params(labelsize=16)"
   ]
  },
  {
   "cell_type": "code",
   "execution_count": null,
   "metadata": {},
   "outputs": [],
   "source": []
  },
  {
   "cell_type": "code",
   "execution_count": null,
   "metadata": {},
   "outputs": [],
   "source": []
  }
 ],
 "metadata": {
  "kernelspec": {
   "display_name": "Python 3",
   "language": "python",
   "name": "python3"
  },
  "language_info": {
   "codemirror_mode": {
    "name": "ipython",
    "version": 3
   },
   "file_extension": ".py",
   "mimetype": "text/x-python",
   "name": "python",
   "nbconvert_exporter": "python",
   "pygments_lexer": "ipython3",
   "version": "3.7.1"
  },
  "toc": {
   "base_numbering": 1,
   "nav_menu": {},
   "number_sections": true,
   "sideBar": true,
   "skip_h1_title": false,
   "title_cell": "Table of Contents",
   "title_sidebar": "Contents",
   "toc_cell": false,
   "toc_position": {},
   "toc_section_display": true,
   "toc_window_display": false
  }
 },
 "nbformat": 4,
 "nbformat_minor": 2
}
